{
 "cells": [
  {
   "cell_type": "markdown",
   "metadata": {},
   "source": [
    "Project Baseline Model"
   ]
  },
  {
   "cell_type": "code",
   "execution_count": 11,
   "metadata": {},
   "outputs": [],
   "source": [
    "from transformers import AutoModelForTokenClassification, pipeline, RobertaTokenizerFast, Trainer, TextClassificationPipeline\n",
    "#import numpy as np\n",
    "#import tqdm as notebook_tqdm\n",
    "#from datasets import Dataset, DatasetDict\n",
    "#import torch\n",
    "import pandas as pd\n",
    "import pickle\n",
    "\n",
    "model_link = 'deepset/roberta-base-squad2'\n",
    "data_source = 'tokenized_output.csv'"
   ]
  },
  {
   "cell_type": "markdown",
   "metadata": {},
   "source": [
    "Read in raw data (to get sentences)"
   ]
  },
  {
   "cell_type": "code",
   "execution_count": 12,
   "metadata": {},
   "outputs": [
    {
     "data": {
      "text/html": [
       "<div>\n",
       "<style scoped>\n",
       "    .dataframe tbody tr th:only-of-type {\n",
       "        vertical-align: middle;\n",
       "    }\n",
       "\n",
       "    .dataframe tbody tr th {\n",
       "        vertical-align: top;\n",
       "    }\n",
       "\n",
       "    .dataframe thead th {\n",
       "        text-align: right;\n",
       "    }\n",
       "</style>\n",
       "<table border=\"1\" class=\"dataframe\">\n",
       "  <thead>\n",
       "    <tr style=\"text-align: right;\">\n",
       "      <th></th>\n",
       "      <th>input_ids</th>\n",
       "      <th>attention_mask</th>\n",
       "      <th>labels</th>\n",
       "    </tr>\n",
       "  </thead>\n",
       "  <tbody>\n",
       "    <tr>\n",
       "      <th>0</th>\n",
       "      <td>[0, 509, 9, 5, 97, 34910, 34, 2801, 14, 71, 24...</td>\n",
       "      <td>[1, 1, 1, 1, 1, 1, 1, 1, 1, 1, 1, 1, 1, 1, 1, ...</td>\n",
       "      <td>[-100, 1, 1, 1, 1, 1, 1, 1, 1, 1, 1, 1, 1, 1, ...</td>\n",
       "    </tr>\n",
       "    <tr>\n",
       "      <th>1</th>\n",
       "      <td>[0, 83, 4613, 410, 931, 4, 20, 9293, 9205, 16,...</td>\n",
       "      <td>[1, 1, 1, 1, 1, 1, 1, 1, 1, 1, 1, 1, 1, 1, 1, ...</td>\n",
       "      <td>[-100, 1, 1, 1, 1, -100, 1, 1, 1, 1, 1, 1, -10...</td>\n",
       "    </tr>\n",
       "    <tr>\n",
       "      <th>2</th>\n",
       "      <td>[0, 38, 802, 42, 21, 10, 4613, 169, 7, 1930, 8...</td>\n",
       "      <td>[1, 1, 1, 1, 1, 1, 1, 1, 1, 1, 1, 1, 1, 1, 1, ...</td>\n",
       "      <td>[-100, 1, 1, 1, 1, 1, 1, 1, 1, 1, 1, 1, 1, 1, ...</td>\n",
       "    </tr>\n",
       "    <tr>\n",
       "      <th>3</th>\n",
       "      <td>[0, 23381, 89, 18, 10, 284, 147, 10, 410, 2143...</td>\n",
       "      <td>[1, 1, 1, 1, 1, 1, 1, 1, 1, 1, 1, 1, 1, 1, 1, ...</td>\n",
       "      <td>[-100, 0, 0, -100, 0, 0, 0, 0, 0, 0, 0, -100, ...</td>\n",
       "    </tr>\n",
       "    <tr>\n",
       "      <th>4</th>\n",
       "      <td>[0, 5106, 1334, 21129, 118, 18, 22, 16587, 11,...</td>\n",
       "      <td>[1, 1, 1, 1, 1, 1, 1, 1, 1, 1, 1, 1, 1, 1, 1, ...</td>\n",
       "      <td>[-100, 1, -100, 1, -100, -100, 1, -100, 1, 1, ...</td>\n",
       "    </tr>\n",
       "    <tr>\n",
       "      <th>...</th>\n",
       "      <td>...</td>\n",
       "      <td>...</td>\n",
       "      <td>...</td>\n",
       "    </tr>\n",
       "    <tr>\n",
       "      <th>49995</th>\n",
       "      <td>[0, 38, 802, 42, 1569, 222, 10, 159, 235, 205,...</td>\n",
       "      <td>[1, 1, 1, 1, 1, 1, 1, 1, 1, 1, 1, 1, 1, 1, 1, ...</td>\n",
       "      <td>[-100, 1, 1, 1, 1, 1, 1, 1, 1, 1, 1, -100, 1, ...</td>\n",
       "    </tr>\n",
       "    <tr>\n",
       "      <th>49996</th>\n",
       "      <td>[0, 5654, 6197, 6, 1099, 6054, 6, 1099, 3501, ...</td>\n",
       "      <td>[1, 1, 1, 1, 1, 1, 1, 1, 1, 1, 1, 1, 1, 1, 1, ...</td>\n",
       "      <td>[-100, 0, 0, -100, 0, 0, -100, 0, 0, -100, 0, ...</td>\n",
       "    </tr>\n",
       "    <tr>\n",
       "      <th>49997</th>\n",
       "      <td>[0, 38, 524, 10, 4019, 5850, 11, 2242, 4306, 2...</td>\n",
       "      <td>[1, 1, 1, 1, 1, 1, 1, 1, 1, 1, 1, 1, 1, 1, 1, ...</td>\n",
       "      <td>[-100, 0, 0, 0, 0, 0, 0, 0, -100, -100, 0, 0, ...</td>\n",
       "    </tr>\n",
       "    <tr>\n",
       "      <th>49998</th>\n",
       "      <td>[0, 38, 437, 164, 7, 33, 7, 11967, 19, 5, 986,...</td>\n",
       "      <td>[1, 1, 1, 1, 1, 1, 1, 1, 1, 1, 1, 1, 1, 1, 1, ...</td>\n",
       "      <td>[-100, 0, -100, 0, 0, 0, 0, 0, 0, 0, 0, 0, 0, ...</td>\n",
       "    </tr>\n",
       "    <tr>\n",
       "      <th>49999</th>\n",
       "      <td>[0, 440, 65, 3352, 5, 2141, 20351, 4133, 7, 28...</td>\n",
       "      <td>[1, 1, 1, 1, 1, 1, 1, 1, 1, 1, 1, 1, 1, 1, 1, ...</td>\n",
       "      <td>[-100, 0, 0, 0, 0, 0, 0, 0, 0, 0, 0, 0, -100, ...</td>\n",
       "    </tr>\n",
       "  </tbody>\n",
       "</table>\n",
       "<p>50000 rows × 3 columns</p>\n",
       "</div>"
      ],
      "text/plain": [
       "                                               input_ids  \\\n",
       "0      [0, 509, 9, 5, 97, 34910, 34, 2801, 14, 71, 24...   \n",
       "1      [0, 83, 4613, 410, 931, 4, 20, 9293, 9205, 16,...   \n",
       "2      [0, 38, 802, 42, 21, 10, 4613, 169, 7, 1930, 8...   \n",
       "3      [0, 23381, 89, 18, 10, 284, 147, 10, 410, 2143...   \n",
       "4      [0, 5106, 1334, 21129, 118, 18, 22, 16587, 11,...   \n",
       "...                                                  ...   \n",
       "49995  [0, 38, 802, 42, 1569, 222, 10, 159, 235, 205,...   \n",
       "49996  [0, 5654, 6197, 6, 1099, 6054, 6, 1099, 3501, ...   \n",
       "49997  [0, 38, 524, 10, 4019, 5850, 11, 2242, 4306, 2...   \n",
       "49998  [0, 38, 437, 164, 7, 33, 7, 11967, 19, 5, 986,...   \n",
       "49999  [0, 440, 65, 3352, 5, 2141, 20351, 4133, 7, 28...   \n",
       "\n",
       "                                          attention_mask  \\\n",
       "0      [1, 1, 1, 1, 1, 1, 1, 1, 1, 1, 1, 1, 1, 1, 1, ...   \n",
       "1      [1, 1, 1, 1, 1, 1, 1, 1, 1, 1, 1, 1, 1, 1, 1, ...   \n",
       "2      [1, 1, 1, 1, 1, 1, 1, 1, 1, 1, 1, 1, 1, 1, 1, ...   \n",
       "3      [1, 1, 1, 1, 1, 1, 1, 1, 1, 1, 1, 1, 1, 1, 1, ...   \n",
       "4      [1, 1, 1, 1, 1, 1, 1, 1, 1, 1, 1, 1, 1, 1, 1, ...   \n",
       "...                                                  ...   \n",
       "49995  [1, 1, 1, 1, 1, 1, 1, 1, 1, 1, 1, 1, 1, 1, 1, ...   \n",
       "49996  [1, 1, 1, 1, 1, 1, 1, 1, 1, 1, 1, 1, 1, 1, 1, ...   \n",
       "49997  [1, 1, 1, 1, 1, 1, 1, 1, 1, 1, 1, 1, 1, 1, 1, ...   \n",
       "49998  [1, 1, 1, 1, 1, 1, 1, 1, 1, 1, 1, 1, 1, 1, 1, ...   \n",
       "49999  [1, 1, 1, 1, 1, 1, 1, 1, 1, 1, 1, 1, 1, 1, 1, ...   \n",
       "\n",
       "                                                  labels  \n",
       "0      [-100, 1, 1, 1, 1, 1, 1, 1, 1, 1, 1, 1, 1, 1, ...  \n",
       "1      [-100, 1, 1, 1, 1, -100, 1, 1, 1, 1, 1, 1, -10...  \n",
       "2      [-100, 1, 1, 1, 1, 1, 1, 1, 1, 1, 1, 1, 1, 1, ...  \n",
       "3      [-100, 0, 0, -100, 0, 0, 0, 0, 0, 0, 0, -100, ...  \n",
       "4      [-100, 1, -100, 1, -100, -100, 1, -100, 1, 1, ...  \n",
       "...                                                  ...  \n",
       "49995  [-100, 1, 1, 1, 1, 1, 1, 1, 1, 1, 1, -100, 1, ...  \n",
       "49996  [-100, 0, 0, -100, 0, 0, -100, 0, 0, -100, 0, ...  \n",
       "49997  [-100, 0, 0, 0, 0, 0, 0, 0, -100, -100, 0, 0, ...  \n",
       "49998  [-100, 0, -100, 0, 0, 0, 0, 0, 0, 0, 0, 0, 0, ...  \n",
       "49999  [-100, 0, 0, 0, 0, 0, 0, 0, 0, 0, 0, 0, -100, ...  \n",
       "\n",
       "[50000 rows x 3 columns]"
      ]
     },
     "execution_count": 12,
     "metadata": {},
     "output_type": "execute_result"
    }
   ],
   "source": [
    "data = pd.read_csv(data_source)\n",
    "data\n",
    "\n",
    "# i think the labels that have been given here may just be the sentiment labels to every word in the review\n",
    "# SO we may need to readjust the creation of the data or can look at it here to re label the tokens (if they're not -100 'the extra subwords')"
   ]
  },
  {
   "cell_type": "code",
   "execution_count": 52,
   "metadata": {},
   "outputs": [],
   "source": [
    "def create_newer_label_list(string_of_label_list):\n",
    "\n",
    "    an_actual_list = string_of_label_list.split(', ')\n",
    "\n",
    "    newer_label_list = ['-100' if x== '[-100' or x=='-100]' else x for x in an_actual_list]\n",
    "\n",
    "    return newer_label_list"
   ]
  },
  {
   "cell_type": "markdown",
   "metadata": {},
   "source": [
    "Model Load"
   ]
  },
  {
   "cell_type": "code",
   "execution_count": 14,
   "metadata": {},
   "outputs": [],
   "source": [
    "baseline_model = AutoModelForTokenClassification.from_pretrained(pretrained_model_name_or_path='../project/baseline_model/output_trainer/checkpoint-4704', use_safetensors = True )\n",
    "tokenizer = RobertaTokenizerFast.from_pretrained(model_link, use_fast=True, add_prefix_space=True)"
   ]
  },
  {
   "cell_type": "code",
   "execution_count": 15,
   "metadata": {},
   "outputs": [],
   "source": [
    "with open('../project/baseline_model/lab2idx', 'rb') as file:\n",
    "    lab2idx = pickle.load(file)\n",
    "\n",
    "with open('../project/baseline_model/idx2lab', 'rb') as file:\n",
    "    idx2lab = pickle.load(file)\n"
   ]
  },
  {
   "cell_type": "code",
   "execution_count": 16,
   "metadata": {},
   "outputs": [
    {
     "name": "stdout",
     "output_type": "stream",
     "text": [
      "{'I-PER': 0, 'B-PER': 1, 'B-LOC': 2, 'B-ORG': 3, 'I-ORG': 4, 'I-LOC': 5, 'O': 6}\n",
      "{0: 'I-PER', 1: 'B-PER', 2: 'B-LOC', 3: 'B-ORG', 4: 'I-ORG', 5: 'I-LOC', 6: 'O'}\n"
     ]
    }
   ],
   "source": [
    "print(lab2idx)\n",
    "print(idx2lab)"
   ]
  },
  {
   "cell_type": "code",
   "execution_count": null,
   "metadata": {},
   "outputs": [],
   "source": [
    "#def convert_int_to_labels(preds):\n",
    "#    logits, labels = preds\n",
    "#    predictions = np.argmax(logits, axis = -1)\n",
    "#    true_labels = [[idx2lab[label] for label in label_sequence if label != -100] for label_sequence in labels]\n",
    "#    true_predictions = [[idx2lab[pred] for pred, label in zip(preds_sequence, labels_sequence) if label != -100] for preds_sequence, labels_sequence in zip(predictions, labels)]\n",
    "#    return true_labels, true_predictions"
   ]
  },
  {
   "cell_type": "code",
   "execution_count": 19,
   "metadata": {},
   "outputs": [],
   "source": [
    "#token_classifier_pipeline = TextClassificationPipeline(model = baseline_model, tokenizer = tokenizer, )"
   ]
  },
  {
   "cell_type": "code",
   "execution_count": 20,
   "metadata": {},
   "outputs": [],
   "source": [
    "a_review = \"This says something about a restaurant in Japan that Britney Spears visited in June\""
   ]
  },
  {
   "cell_type": "code",
   "execution_count": 21,
   "metadata": {},
   "outputs": [
    {
     "name": "stderr",
     "output_type": "stream",
     "text": [
      "Device set to use cpu\n"
     ]
    }
   ],
   "source": [
    "classifier = pipeline('ner', model = baseline_model, tokenizer=tokenizer)\n",
    "\n",
    "a_review_prediction = classifier(a_review)"
   ]
  },
  {
   "cell_type": "code",
   "execution_count": 22,
   "metadata": {},
   "outputs": [
    {
     "data": {
      "text/plain": [
       "{'entity': 'B-LOC',\n",
       " 'score': np.float32(0.99369836),\n",
       " 'index': 8,\n",
       " 'word': 'ĠJapan',\n",
       " 'start': 42,\n",
       " 'end': 47}"
      ]
     },
     "execution_count": 22,
     "metadata": {},
     "output_type": "execute_result"
    }
   ],
   "source": [
    "a_review_prediction[0]"
   ]
  },
  {
   "cell_type": "code",
   "execution_count": 23,
   "metadata": {},
   "outputs": [
    {
     "data": {
      "text/html": [
       "<div>\n",
       "<style scoped>\n",
       "    .dataframe tbody tr th:only-of-type {\n",
       "        vertical-align: middle;\n",
       "    }\n",
       "\n",
       "    .dataframe tbody tr th {\n",
       "        vertical-align: top;\n",
       "    }\n",
       "\n",
       "    .dataframe thead th {\n",
       "        text-align: right;\n",
       "    }\n",
       "</style>\n",
       "<table border=\"1\" class=\"dataframe\">\n",
       "  <thead>\n",
       "    <tr style=\"text-align: right;\">\n",
       "      <th></th>\n",
       "      <th>review</th>\n",
       "      <th>sentiment</th>\n",
       "    </tr>\n",
       "  </thead>\n",
       "  <tbody>\n",
       "    <tr>\n",
       "      <th>0</th>\n",
       "      <td>One of the other reviewers has mentioned that ...</td>\n",
       "      <td>positive</td>\n",
       "    </tr>\n",
       "    <tr>\n",
       "      <th>1</th>\n",
       "      <td>A wonderful little production.  The filming te...</td>\n",
       "      <td>positive</td>\n",
       "    </tr>\n",
       "    <tr>\n",
       "      <th>2</th>\n",
       "      <td>I thought this was a wonderful way to spend ti...</td>\n",
       "      <td>positive</td>\n",
       "    </tr>\n",
       "    <tr>\n",
       "      <th>3</th>\n",
       "      <td>Basically there's a family where a little boy ...</td>\n",
       "      <td>negative</td>\n",
       "    </tr>\n",
       "    <tr>\n",
       "      <th>4</th>\n",
       "      <td>Petter Mattei's \"Love in the Time of Money\" is...</td>\n",
       "      <td>positive</td>\n",
       "    </tr>\n",
       "    <tr>\n",
       "      <th>5</th>\n",
       "      <td>Probably my all-time favorite movie, a story o...</td>\n",
       "      <td>positive</td>\n",
       "    </tr>\n",
       "    <tr>\n",
       "      <th>6</th>\n",
       "      <td>I sure would like to see a resurrection of a u...</td>\n",
       "      <td>positive</td>\n",
       "    </tr>\n",
       "    <tr>\n",
       "      <th>7</th>\n",
       "      <td>This show was an amazing, fresh &amp; innovative i...</td>\n",
       "      <td>negative</td>\n",
       "    </tr>\n",
       "    <tr>\n",
       "      <th>8</th>\n",
       "      <td>Encouraged by the positive comments about this...</td>\n",
       "      <td>negative</td>\n",
       "    </tr>\n",
       "    <tr>\n",
       "      <th>9</th>\n",
       "      <td>If you like original gut wrenching laughter yo...</td>\n",
       "      <td>positive</td>\n",
       "    </tr>\n",
       "  </tbody>\n",
       "</table>\n",
       "</div>"
      ],
      "text/plain": [
       "                                              review sentiment\n",
       "0  One of the other reviewers has mentioned that ...  positive\n",
       "1  A wonderful little production.  The filming te...  positive\n",
       "2  I thought this was a wonderful way to spend ti...  positive\n",
       "3  Basically there's a family where a little boy ...  negative\n",
       "4  Petter Mattei's \"Love in the Time of Money\" is...  positive\n",
       "5  Probably my all-time favorite movie, a story o...  positive\n",
       "6  I sure would like to see a resurrection of a u...  positive\n",
       "7  This show was an amazing, fresh & innovative i...  negative\n",
       "8  Encouraged by the positive comments about this...  negative\n",
       "9  If you like original gut wrenching laughter yo...  positive"
      ]
     },
     "execution_count": 23,
     "metadata": {},
     "output_type": "execute_result"
    }
   ],
   "source": [
    "review_df = pd.read_csv(\"imdb_dataset.csv\")\n",
    "review_df[\"review\"] = review_df[\"review\"].str.replace(\"<br /><br />\", \" \", regex=False)\n",
    "review_df.head(10)"
   ]
  },
  {
   "cell_type": "code",
   "execution_count": 25,
   "metadata": {},
   "outputs": [
    {
     "data": {
      "text/plain": [
       "\"One of the other reviewers has mentioned that after watching just 1 Oz episode you'll be hooked. They are right, as this is exactly what happened with me. The first thing that struck me about Oz was its brutality and unflinching scenes of violence, which set in right from the word GO. Trust me, this is not a show for the faint hearted or timid. This show pulls no punches with regards to drugs, sex or violence. Its is hardcore, in the classic use of the word. It is called OZ as that is the nickname given to the Oswald Maximum Security State Penitentary. It focuses mainly on Emerald City, an experimental section of the prison where all the cells have glass fronts and face inwards, so privacy is not high on the agenda. Em City is home to many..Aryans, Muslims, gangstas, Latinos, Christians, Italians, Irish and more....so scuffles, death stares, dodgy dealings and shady agreements are never far away. I would say the main appeal of the show is due to the fact that it goes where other shows wouldn't dare. Forget pretty pictures painted for mainstream audiences, forget charm, forget romance...OZ doesn't mess around. The first episode I ever saw struck me as so nasty it was surreal, I couldn't say I was ready for it, but as I watched more, I developed a taste for Oz, and got accustomed to the high levels of graphic violence. Not just violence, but injustice (crooked guards who'll be sold out for a nickel, inmates who'll kill on order and get away with it, well mannered, middle class inmates being turned into prison bitches due to their lack of street skills or prison experience) Watching Oz, you may become comfortable with what is uncomfortable viewing....thats if you can get in touch with your darker side.\""
      ]
     },
     "execution_count": 25,
     "metadata": {},
     "output_type": "execute_result"
    }
   ],
   "source": [
    "review_df['review'][0]"
   ]
  },
  {
   "cell_type": "code",
   "execution_count": 54,
   "metadata": {},
   "outputs": [
    {
     "name": "stdout",
     "output_type": "stream",
     "text": [
      "<class 'int'>\n",
      "{'entity': 'B-ORG', 'score': np.float32(0.6772501), 'index': 13, 'word': 'ĠOz', 'start': 68, 'end': 70}\n",
      "<class 'str'>\n",
      "<class 'int'>\n",
      "{'entity': 'B-PER', 'score': np.float32(0.38497344), 'index': 40, 'word': 'ĠOz', 'start': 192, 'end': 194}\n",
      "<class 'str'>\n",
      "<class 'int'>\n",
      "{'entity': 'B-ORG', 'score': np.float32(0.8046325), 'index': 106, 'word': 'ĠO', 'start': 476, 'end': 477}\n",
      "<class 'str'>\n",
      "<class 'int'>\n",
      "{'entity': 'B-ORG', 'score': np.float32(0.73482704), 'index': 116, 'word': 'ĠOswald', 'start': 516, 'end': 522}\n",
      "<class 'str'>\n"
     ]
    },
    {
     "ename": "IndexError",
     "evalue": "list index out of range",
     "output_type": "error",
     "traceback": [
      "\u001b[1;31m---------------------------------------------------------------------------\u001b[0m",
      "\u001b[1;31mIndexError\u001b[0m                                Traceback (most recent call last)",
      "Cell \u001b[1;32mIn[54], line 25\u001b[0m\n\u001b[0;32m     21\u001b[0m     required_index_of_label \u001b[38;5;241m=\u001b[39m label_prediction[\u001b[38;5;124m'\u001b[39m\u001b[38;5;124mindex\u001b[39m\u001b[38;5;124m'\u001b[39m]\n\u001b[0;32m     22\u001b[0m \u001b[38;5;66;03m#With the chosen label at the same index as the og word\u001b[39;00m\n\u001b[1;32m---> 25\u001b[0m     \u001b[38;5;28;01mif\u001b[39;00m \u001b[43mcurrent_label_list\u001b[49m\u001b[43m[\u001b[49m\u001b[43mrequired_index_of_label\u001b[49m\u001b[43m]\u001b[49m \u001b[38;5;241m!=\u001b[39m \u001b[38;5;241m-\u001b[39m\u001b[38;5;241m100\u001b[39m: \u001b[38;5;66;03m#pretty sure this is where i need the label/id converter\u001b[39;00m\n\u001b[0;32m     26\u001b[0m         label_replacement \u001b[38;5;241m=\u001b[39m lab2idx[label_prediction[\u001b[38;5;124m'\u001b[39m\u001b[38;5;124mentity\u001b[39m\u001b[38;5;124m'\u001b[39m]]\n\u001b[0;32m     28\u001b[0m         \u001b[38;5;28mprint\u001b[39m(\u001b[38;5;28mtype\u001b[39m(label_replacement))\n",
      "\u001b[1;31mIndexError\u001b[0m: list index out of range"
     ]
    }
   ],
   "source": [
    "# for each review in the df\n",
    "#apply the NE prediction on it\n",
    "#save as a label list of length equivalent to the og review\n",
    "#With the chosen label at the same index as the og word\n",
    "#currently the output word/sub-word is according to the sub-word review length, so i wanna shorten this\n",
    "\n",
    "output_new_labels_data = []\n",
    "\n",
    "# for each review in the df\n",
    "for review_index in range(len(review_df)):\n",
    "\n",
    "    current_label_list = create_newer_label_list(string_of_label_list= data['labels'][review_index])\n",
    "    review = review_df['review'][review_index]\n",
    "\n",
    "#apply the NE prediction on it\n",
    "    label_predictions = classifier(review)\n",
    "#save as a label list of length equivalent to the og review\n",
    "\n",
    "\n",
    "    for label_prediction in label_predictions:\n",
    "        required_index_of_label = label_prediction['index']\n",
    "    #With the chosen label at the same index as the og word\n",
    "\n",
    "\n",
    "        if current_label_list[required_index_of_label] != -100: #pretty sure this is where i need the label/id converter\n",
    "            label_replacement = lab2idx[label_prediction['entity']]\n",
    "\n",
    "            print(type(label_replacement))\n",
    "            print(label_prediction)\n",
    "            print(type(current_label_list[required_index_of_label]))\n",
    "            \n",
    "            current_label_list[required_index_of_label] = label_replacement\n",
    "\n",
    "    output_new_labels_data.append[current_label_list]\n",
    "\n",
    "    \n",
    "\n",
    "    \n"
   ]
  },
  {
   "cell_type": "markdown",
   "metadata": {},
   "source": [
    "We can't do any metric evaluation on the NE tagging here as there's no ground truth, but Rob gave our model an ~85% span_f1 score"
   ]
  }
 ],
 "metadata": {
  "kernelspec": {
   "display_name": "Python 3",
   "language": "python",
   "name": "python3"
  },
  "language_info": {
   "codemirror_mode": {
    "name": "ipython",
    "version": 3
   },
   "file_extension": ".py",
   "mimetype": "text/x-python",
   "name": "python",
   "nbconvert_exporter": "python",
   "pygments_lexer": "ipython3",
   "version": "3.12.2"
  }
 },
 "nbformat": 4,
 "nbformat_minor": 2
}
