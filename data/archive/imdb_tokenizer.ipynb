{
 "cells": [
  {
   "cell_type": "markdown",
   "metadata": {},
   "source": [
    "Loading in dataset and visualisation notebook"
   ]
  },
  {
   "cell_type": "code",
   "execution_count": 1,
   "metadata": {},
   "outputs": [],
   "source": [
    "import pandas as pd\n",
    "from transformers import AutoModelForTokenClassification, TrainingArguments, Trainer, AutoTokenizer, AutoConfig, RobertaTokenizerFast, DataCollatorForTokenClassification\n",
    "import numpy as np\n",
    "import tqdm as notebook_tqdm\n",
    "from datasets import Dataset, DatasetDict\n",
    "import torch\n",
    "\n",
    "\n",
    "#from bert.bert_topic import ClassModel\n",
    "\n",
    "#all of the functions from the span_f1 file\n",
    "from span_f1 import readNlu, toSpans, getBegEnd, getLooseOverlap, getUnlabeled\n",
    "\n",
    "model_link = 'deepset/roberta-base-squad2'\n",
    "train_data_source = 'en_ewt-ud-train.iob2'\n",
    "dev_data_source = 'en_ewt-ud-dev.iob2'\n",
    "test_data_source = 'en_ewt-ud-test-masked.iob2'"
   ]
  },
  {
   "cell_type": "code",
   "execution_count": 2,
   "metadata": {},
   "outputs": [
    {
     "name": "stdout",
     "output_type": "stream",
     "text": [
      "(50000, 2)\n",
      "                                                   review sentiment\n",
      "count                                               50000     50000\n",
      "unique                                              49582         2\n",
      "top     Loved today's show!!! It was a variety and not...  positive\n",
      "freq                                                    5     25000\n"
     ]
    },
    {
     "data": {
      "text/html": [
       "<div>\n",
       "<style scoped>\n",
       "    .dataframe tbody tr th:only-of-type {\n",
       "        vertical-align: middle;\n",
       "    }\n",
       "\n",
       "    .dataframe tbody tr th {\n",
       "        vertical-align: top;\n",
       "    }\n",
       "\n",
       "    .dataframe thead th {\n",
       "        text-align: right;\n",
       "    }\n",
       "</style>\n",
       "<table border=\"1\" class=\"dataframe\">\n",
       "  <thead>\n",
       "    <tr style=\"text-align: right;\">\n",
       "      <th></th>\n",
       "      <th>review</th>\n",
       "      <th>sentiment</th>\n",
       "    </tr>\n",
       "  </thead>\n",
       "  <tbody>\n",
       "    <tr>\n",
       "      <th>0</th>\n",
       "      <td>One of the other reviewers has mentioned that ...</td>\n",
       "      <td>positive</td>\n",
       "    </tr>\n",
       "    <tr>\n",
       "      <th>1</th>\n",
       "      <td>A wonderful little production. &lt;br /&gt;&lt;br /&gt;The...</td>\n",
       "      <td>positive</td>\n",
       "    </tr>\n",
       "    <tr>\n",
       "      <th>2</th>\n",
       "      <td>I thought this was a wonderful way to spend ti...</td>\n",
       "      <td>positive</td>\n",
       "    </tr>\n",
       "    <tr>\n",
       "      <th>3</th>\n",
       "      <td>Basically there's a family where a little boy ...</td>\n",
       "      <td>negative</td>\n",
       "    </tr>\n",
       "    <tr>\n",
       "      <th>4</th>\n",
       "      <td>Petter Mattei's \"Love in the Time of Money\" is...</td>\n",
       "      <td>positive</td>\n",
       "    </tr>\n",
       "    <tr>\n",
       "      <th>5</th>\n",
       "      <td>Probably my all-time favorite movie, a story o...</td>\n",
       "      <td>positive</td>\n",
       "    </tr>\n",
       "    <tr>\n",
       "      <th>6</th>\n",
       "      <td>I sure would like to see a resurrection of a u...</td>\n",
       "      <td>positive</td>\n",
       "    </tr>\n",
       "    <tr>\n",
       "      <th>7</th>\n",
       "      <td>This show was an amazing, fresh &amp; innovative i...</td>\n",
       "      <td>negative</td>\n",
       "    </tr>\n",
       "    <tr>\n",
       "      <th>8</th>\n",
       "      <td>Encouraged by the positive comments about this...</td>\n",
       "      <td>negative</td>\n",
       "    </tr>\n",
       "    <tr>\n",
       "      <th>9</th>\n",
       "      <td>If you like original gut wrenching laughter yo...</td>\n",
       "      <td>positive</td>\n",
       "    </tr>\n",
       "  </tbody>\n",
       "</table>\n",
       "</div>"
      ],
      "text/plain": [
       "                                              review sentiment\n",
       "0  One of the other reviewers has mentioned that ...  positive\n",
       "1  A wonderful little production. <br /><br />The...  positive\n",
       "2  I thought this was a wonderful way to spend ti...  positive\n",
       "3  Basically there's a family where a little boy ...  negative\n",
       "4  Petter Mattei's \"Love in the Time of Money\" is...  positive\n",
       "5  Probably my all-time favorite movie, a story o...  positive\n",
       "6  I sure would like to see a resurrection of a u...  positive\n",
       "7  This show was an amazing, fresh & innovative i...  negative\n",
       "8  Encouraged by the positive comments about this...  negative\n",
       "9  If you like original gut wrenching laughter yo...  positive"
      ]
     },
     "execution_count": 2,
     "metadata": {},
     "output_type": "execute_result"
    }
   ],
   "source": [
    "df = pd.read_csv(\"imdb_dataset.csv\")\n",
    "print(df.shape)\n",
    "print(df.describe())\n",
    "df.head(10)\n"
   ]
  },
  {
   "cell_type": "code",
   "execution_count": 3,
   "metadata": {},
   "outputs": [
    {
     "data": {
      "text/html": [
       "<div>\n",
       "<style scoped>\n",
       "    .dataframe tbody tr th:only-of-type {\n",
       "        vertical-align: middle;\n",
       "    }\n",
       "\n",
       "    .dataframe tbody tr th {\n",
       "        vertical-align: top;\n",
       "    }\n",
       "\n",
       "    .dataframe thead th {\n",
       "        text-align: right;\n",
       "    }\n",
       "</style>\n",
       "<table border=\"1\" class=\"dataframe\">\n",
       "  <thead>\n",
       "    <tr style=\"text-align: right;\">\n",
       "      <th></th>\n",
       "      <th>review</th>\n",
       "      <th>sentiment</th>\n",
       "    </tr>\n",
       "  </thead>\n",
       "  <tbody>\n",
       "    <tr>\n",
       "      <th>0</th>\n",
       "      <td>One of the other reviewers has mentioned that ...</td>\n",
       "      <td>positive</td>\n",
       "    </tr>\n",
       "    <tr>\n",
       "      <th>1</th>\n",
       "      <td>A wonderful little production.  The filming te...</td>\n",
       "      <td>positive</td>\n",
       "    </tr>\n",
       "    <tr>\n",
       "      <th>2</th>\n",
       "      <td>I thought this was a wonderful way to spend ti...</td>\n",
       "      <td>positive</td>\n",
       "    </tr>\n",
       "    <tr>\n",
       "      <th>3</th>\n",
       "      <td>Basically there's a family where a little boy ...</td>\n",
       "      <td>negative</td>\n",
       "    </tr>\n",
       "    <tr>\n",
       "      <th>4</th>\n",
       "      <td>Petter Mattei's \"Love in the Time of Money\" is...</td>\n",
       "      <td>positive</td>\n",
       "    </tr>\n",
       "  </tbody>\n",
       "</table>\n",
       "</div>"
      ],
      "text/plain": [
       "                                              review sentiment\n",
       "0  One of the other reviewers has mentioned that ...  positive\n",
       "1  A wonderful little production.  The filming te...  positive\n",
       "2  I thought this was a wonderful way to spend ti...  positive\n",
       "3  Basically there's a family where a little boy ...  negative\n",
       "4  Petter Mattei's \"Love in the Time of Money\" is...  positive"
      ]
     },
     "execution_count": 3,
     "metadata": {},
     "output_type": "execute_result"
    }
   ],
   "source": [
    "df[\"review\"] = df[\"review\"].str.replace(\"<br /><br />\", \" \", regex=False)\n",
    "df.head()\n"
   ]
  },
  {
   "cell_type": "code",
   "execution_count": 4,
   "metadata": {},
   "outputs": [
    {
     "name": "stdout",
     "output_type": "stream",
     "text": [
      "                                               words        tags\n",
      "0  [One, of, the, other, reviewers, has, mentione...  [positive]\n",
      "1  [A, wonderful, little, production., The, filmi...  [positive]\n",
      "2  [I, thought, this, was, a, wonderful, way, to,...  [positive]\n"
     ]
    }
   ],
   "source": [
    "import pandas as pd\n",
    "\n",
    "# Load and clean\n",
    "df = pd.read_csv(\"imdb_dataset.csv\")\n",
    "df[\"review\"] = df[\"review\"].str.replace(\"<br /><br />\", \" \", regex=False)\n",
    "\n",
    "# Convert to words + tags format\n",
    "df[\"words\"] = df[\"review\"].apply(lambda x: x.split())\n",
    "df[\"tags\"] = df[\"sentiment\"].apply(lambda s: [s] * len(s.split()))\n",
    "\n",
    "# Visualize the transformation\n",
    "print(df[[\"words\", \"tags\"]].head(3))\n"
   ]
  },
  {
   "cell_type": "code",
   "execution_count": 5,
   "metadata": {},
   "outputs": [
    {
     "name": "stdout",
     "output_type": "stream",
     "text": [
      "['One', 'of', 'the', 'other', 'reviewers', 'has', 'mentioned', 'that', 'after', 'watching', 'just', '1', 'Oz', 'episode', \"you'll\", 'be', 'hooked.', 'They', 'are', 'right,', 'as', 'this', 'is', 'exactly', 'what', 'happened', 'with', 'me.', 'The', 'first', 'thing', 'that', 'struck', 'me', 'about', 'Oz', 'was', 'its', 'brutality', 'and', 'unflinching', 'scenes', 'of', 'violence,', 'which', 'set', 'in', 'right', 'from', 'the', 'word', 'GO.', 'Trust', 'me,', 'this', 'is', 'not', 'a', 'show', 'for', 'the', 'faint', 'hearted', 'or', 'timid.', 'This', 'show', 'pulls', 'no', 'punches', 'with', 'regards', 'to', 'drugs,', 'sex', 'or', 'violence.', 'Its', 'is', 'hardcore,', 'in', 'the', 'classic', 'use', 'of', 'the', 'word.', 'It', 'is', 'called', 'OZ', 'as', 'that', 'is', 'the', 'nickname', 'given', 'to', 'the', 'Oswald', 'Maximum', 'Security', 'State', 'Penitentary.', 'It', 'focuses', 'mainly', 'on', 'Emerald', 'City,', 'an', 'experimental', 'section', 'of', 'the', 'prison', 'where', 'all', 'the', 'cells', 'have', 'glass', 'fronts', 'and', 'face', 'inwards,', 'so', 'privacy', 'is', 'not', 'high', 'on', 'the', 'agenda.', 'Em', 'City', 'is', 'home', 'to', 'many..Aryans,', 'Muslims,', 'gangstas,', 'Latinos,', 'Christians,', 'Italians,', 'Irish', 'and', 'more....so', 'scuffles,', 'death', 'stares,', 'dodgy', 'dealings', 'and', 'shady', 'agreements', 'are', 'never', 'far', 'away.', 'I', 'would', 'say', 'the', 'main', 'appeal', 'of', 'the', 'show', 'is', 'due', 'to', 'the', 'fact', 'that', 'it', 'goes', 'where', 'other', 'shows', \"wouldn't\", 'dare.', 'Forget', 'pretty', 'pictures', 'painted', 'for', 'mainstream', 'audiences,', 'forget', 'charm,', 'forget', 'romance...OZ', \"doesn't\", 'mess', 'around.', 'The', 'first', 'episode', 'I', 'ever', 'saw', 'struck', 'me', 'as', 'so', 'nasty', 'it', 'was', 'surreal,', 'I', \"couldn't\", 'say', 'I', 'was', 'ready', 'for', 'it,', 'but', 'as', 'I', 'watched', 'more,', 'I', 'developed', 'a', 'taste', 'for', 'Oz,', 'and', 'got', 'accustomed', 'to', 'the', 'high', 'levels', 'of', 'graphic', 'violence.', 'Not', 'just', 'violence,', 'but', 'injustice', '(crooked', 'guards', \"who'll\", 'be', 'sold', 'out', 'for', 'a', 'nickel,', 'inmates', \"who'll\", 'kill', 'on', 'order', 'and', 'get', 'away', 'with', 'it,', 'well', 'mannered,', 'middle', 'class', 'inmates', 'being', 'turned', 'into', 'prison', 'bitches', 'due', 'to', 'their', 'lack', 'of', 'street', 'skills', 'or', 'prison', 'experience)', 'Watching', 'Oz,', 'you', 'may', 'become', 'comfortable', 'with', 'what', 'is', 'uncomfortable', 'viewing....thats', 'if', 'you', 'can', 'get', 'in', 'touch', 'with', 'your', 'darker', 'side.']\n",
      "['POS']\n",
      "[1]\n"
     ]
    }
   ],
   "source": [
    "df[\"sentiment\"] = df[\"sentiment\"].str.upper() \n",
    "df[\"sentiment\"] = df[\"sentiment\"].replace({\"POSITIVE\": \"POS\", \"NEGATIVE\": \"NEG\"})\n",
    "\n",
    "label_set = sorted(df[\"sentiment\"].unique())\n",
    "lab2idx = {lab: idx for idx, lab in enumerate(label_set)}\n",
    "idx2lab = {idx: lab for lab, idx in lab2idx.items()}\n",
    "\n",
    "df[\"sents\"] = df[\"review\"].apply(lambda x: x.split())\n",
    "df[\"ner_tags\"] = df[\"sentiment\"].apply(lambda tag: [tag] * len(tag.split()))\n",
    "df[\"ids\"] = df[\"sentiment\"].apply(lambda tag: [lab2idx[tag]] * len(tag.split()))\n",
    "\n",
    "print(df[\"sents\"].iloc[0])\n",
    "print(df[\"ner_tags\"].iloc[0])\n",
    "print(df[\"ids\"].iloc[0])\n"
   ]
  },
  {
   "cell_type": "code",
   "execution_count": 6,
   "metadata": {},
   "outputs": [
    {
     "data": {
      "text/html": [
       "<div>\n",
       "<style scoped>\n",
       "    .dataframe tbody tr th:only-of-type {\n",
       "        vertical-align: middle;\n",
       "    }\n",
       "\n",
       "    .dataframe tbody tr th {\n",
       "        vertical-align: top;\n",
       "    }\n",
       "\n",
       "    .dataframe thead th {\n",
       "        text-align: right;\n",
       "    }\n",
       "</style>\n",
       "<table border=\"1\" class=\"dataframe\">\n",
       "  <thead>\n",
       "    <tr style=\"text-align: right;\">\n",
       "      <th></th>\n",
       "      <th>review</th>\n",
       "      <th>sentiment</th>\n",
       "      <th>words</th>\n",
       "      <th>tags</th>\n",
       "      <th>sents</th>\n",
       "      <th>ner_tags</th>\n",
       "      <th>ids</th>\n",
       "    </tr>\n",
       "  </thead>\n",
       "  <tbody>\n",
       "    <tr>\n",
       "      <th>0</th>\n",
       "      <td>One of the other reviewers has mentioned that ...</td>\n",
       "      <td>POS</td>\n",
       "      <td>[One, of, the, other, reviewers, has, mentione...</td>\n",
       "      <td>[positive]</td>\n",
       "      <td>[One, of, the, other, reviewers, has, mentione...</td>\n",
       "      <td>[POS]</td>\n",
       "      <td>[1]</td>\n",
       "    </tr>\n",
       "    <tr>\n",
       "      <th>1</th>\n",
       "      <td>A wonderful little production.  The filming te...</td>\n",
       "      <td>POS</td>\n",
       "      <td>[A, wonderful, little, production., The, filmi...</td>\n",
       "      <td>[positive]</td>\n",
       "      <td>[A, wonderful, little, production., The, filmi...</td>\n",
       "      <td>[POS]</td>\n",
       "      <td>[1]</td>\n",
       "    </tr>\n",
       "    <tr>\n",
       "      <th>2</th>\n",
       "      <td>I thought this was a wonderful way to spend ti...</td>\n",
       "      <td>POS</td>\n",
       "      <td>[I, thought, this, was, a, wonderful, way, to,...</td>\n",
       "      <td>[positive]</td>\n",
       "      <td>[I, thought, this, was, a, wonderful, way, to,...</td>\n",
       "      <td>[POS]</td>\n",
       "      <td>[1]</td>\n",
       "    </tr>\n",
       "    <tr>\n",
       "      <th>3</th>\n",
       "      <td>Basically there's a family where a little boy ...</td>\n",
       "      <td>NEG</td>\n",
       "      <td>[Basically, there's, a, family, where, a, litt...</td>\n",
       "      <td>[negative]</td>\n",
       "      <td>[Basically, there's, a, family, where, a, litt...</td>\n",
       "      <td>[NEG]</td>\n",
       "      <td>[0]</td>\n",
       "    </tr>\n",
       "    <tr>\n",
       "      <th>4</th>\n",
       "      <td>Petter Mattei's \"Love in the Time of Money\" is...</td>\n",
       "      <td>POS</td>\n",
       "      <td>[Petter, Mattei's, \"Love, in, the, Time, of, M...</td>\n",
       "      <td>[positive]</td>\n",
       "      <td>[Petter, Mattei's, \"Love, in, the, Time, of, M...</td>\n",
       "      <td>[POS]</td>\n",
       "      <td>[1]</td>\n",
       "    </tr>\n",
       "  </tbody>\n",
       "</table>\n",
       "</div>"
      ],
      "text/plain": [
       "                                              review sentiment  \\\n",
       "0  One of the other reviewers has mentioned that ...       POS   \n",
       "1  A wonderful little production.  The filming te...       POS   \n",
       "2  I thought this was a wonderful way to spend ti...       POS   \n",
       "3  Basically there's a family where a little boy ...       NEG   \n",
       "4  Petter Mattei's \"Love in the Time of Money\" is...       POS   \n",
       "\n",
       "                                               words        tags  \\\n",
       "0  [One, of, the, other, reviewers, has, mentione...  [positive]   \n",
       "1  [A, wonderful, little, production., The, filmi...  [positive]   \n",
       "2  [I, thought, this, was, a, wonderful, way, to,...  [positive]   \n",
       "3  [Basically, there's, a, family, where, a, litt...  [negative]   \n",
       "4  [Petter, Mattei's, \"Love, in, the, Time, of, M...  [positive]   \n",
       "\n",
       "                                               sents ner_tags  ids  \n",
       "0  [One, of, the, other, reviewers, has, mentione...    [POS]  [1]  \n",
       "1  [A, wonderful, little, production., The, filmi...    [POS]  [1]  \n",
       "2  [I, thought, this, was, a, wonderful, way, to,...    [POS]  [1]  \n",
       "3  [Basically, there's, a, family, where, a, litt...    [NEG]  [0]  \n",
       "4  [Petter, Mattei's, \"Love, in, the, Time, of, M...    [POS]  [1]  "
      ]
     },
     "execution_count": 6,
     "metadata": {},
     "output_type": "execute_result"
    }
   ],
   "source": [
    "df.head()"
   ]
  },
  {
   "cell_type": "code",
   "execution_count": 7,
   "metadata": {},
   "outputs": [],
   "source": [
    "# Fix the tagging length based on the tokenized review\n",
    "df[\"sents\"] = df[\"review\"].apply(lambda x: x.split())\n",
    "df[\"ner_tags\"] = df.apply(lambda row: [row[\"sentiment\"]] * len(row[\"sents\"]), axis=1)\n",
    "df[\"ids\"] = df.apply(lambda row: [lab2idx[row[\"sentiment\"]]] * len(row[\"sents\"]), axis=1)\n"
   ]
  },
  {
   "cell_type": "code",
   "execution_count": 8,
   "metadata": {},
   "outputs": [],
   "source": [
    "from datasets import Dataset\n",
    "\n",
    "# Convert to HF Dataset\n",
    "dataset = Dataset.from_pandas(df[[\"sents\", \"ner_tags\", \"ids\"]])\n"
   ]
  },
  {
   "cell_type": "code",
   "execution_count": 9,
   "metadata": {},
   "outputs": [
    {
     "data": {
      "application/vnd.jupyter.widget-view+json": {
       "model_id": "83b8c023605947b4a46819729033224e",
       "version_major": 2,
       "version_minor": 0
      },
      "text/plain": [
       "Running tokenizer on IMDb dataset:   0%|          | 0/50000 [00:00<?, ? examples/s]"
      ]
     },
     "metadata": {},
     "output_type": "display_data"
    }
   ],
   "source": [
    "tokenizer = RobertaTokenizerFast.from_pretrained(model_link, use_fast=True, add_prefix_space=True)\n",
    "\n",
    "def tokenize_and_align_labels(examples):\n",
    "    tokenized_inputs = tokenizer(\n",
    "        examples[\"sents\"],\n",
    "        max_length=128,             \n",
    "        padding=False,              \n",
    "        truncation=True, \n",
    "        is_split_into_words=True\n",
    "    )\n",
    "\n",
    "    all_labels = []\n",
    "    for batch_index, labels in enumerate(examples[\"ids\"]):\n",
    "        word_ids = tokenized_inputs.word_ids(batch_index=batch_index)\n",
    "\n",
    "        label_ids = []\n",
    "        prev_word_id = None\n",
    "        for word_id in word_ids:\n",
    "            if word_id is None:\n",
    "                label_ids.append(-100)\n",
    "            elif word_id == prev_word_id:\n",
    "                label_ids.append(-100)\n",
    "            else:\n",
    "                label_ids.append(labels[word_id])\n",
    "            prev_word_id = word_id\n",
    "        all_labels.append(label_ids)\n",
    "\n",
    "    tokenized_inputs[\"labels\"] = all_labels\n",
    "    return tokenized_inputs\n",
    "\n",
    "# Apply tokenizer\n",
    "tokenized_dataset = dataset.map(\n",
    "    tokenize_and_align_labels,\n",
    "    batched=True,\n",
    "    remove_columns=dataset.column_names,\n",
    "    desc=\"Running tokenizer on IMDb dataset\"\n",
    ")\n"
   ]
  }
 ],
 "metadata": {
  "kernelspec": {
   "display_name": "websoup",
   "language": "python",
   "name": "websoup"
  },
  "language_info": {
   "codemirror_mode": {
    "name": "ipython",
    "version": 3
   },
   "file_extension": ".py",
   "mimetype": "text/x-python",
   "name": "python",
   "nbconvert_exporter": "python",
   "pygments_lexer": "ipython3",
   "version": "3.11.9"
  }
 },
 "nbformat": 4,
 "nbformat_minor": 2
}
