{
 "cells": [
  {
   "cell_type": "markdown",
   "id": "c2624869",
   "metadata": {},
   "source": [
    "# Read CoNll file"
   ]
  },
  {
   "cell_type": "markdown",
   "id": "1ddba10b",
   "metadata": {},
   "source": [
    "Given a file in tab seperated format, read in the information as a list of tuples.\n",
    "\n",
    "The file contains words and their tags, with words in the 0th indexed column and the tags in the 1st indexed column (so change if necessary)"
   ]
  },
  {
   "cell_type": "code",
   "execution_count": null,
   "id": "b31e7856",
   "metadata": {},
   "outputs": [],
   "source": [
    "def read_conll_file(path):\n",
    "    \"\"\"\n",
    "    read in conll file\n",
    "    \n",
    "    :param path: path to read from\n",
    "    :returns: list with sequences of words and labels for each sentence\n",
    "    \"\"\"\n",
    "    data = []\n",
    "    current_words = []\n",
    "    current_tags = []\n",
    "\n",
    "    for line in open(path, encoding='utf-8'):\n",
    "        line = line.strip()\n",
    "\n",
    "        if line:\n",
    "            if line[0] == '#':\n",
    "                continue # skip comments\n",
    "            tok = line.split('\\t')\n",
    "\n",
    "            current_words.append(tok[0]) #change these indices if the columns of the file differ\n",
    "            current_tags.append(tok[1]) #change these indices if the columns of the file differ\n",
    "        else:\n",
    "            if current_words:  # skip empty lines\n",
    "                data.append((current_words, current_tags))\n",
    "            current_words = []\n",
    "            current_tags = []\n",
    "\n",
    "    # check for last one\n",
    "    if current_tags != []:\n",
    "        data.append((current_words, current_tags))\n",
    "    return data"
   ]
  }
 ],
 "metadata": {
  "kernelspec": {
   "display_name": "Python 3",
   "language": "python",
   "name": "python3"
  },
  "language_info": {
   "name": "python",
   "version": "3.12.2"
  }
 },
 "nbformat": 4,
 "nbformat_minor": 5
}
