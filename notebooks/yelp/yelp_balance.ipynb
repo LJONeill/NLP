{
 "cells": [
  {
   "cell_type": "markdown",
   "id": "2d5b84fb",
   "metadata": {},
   "source": [
    "# Creating a balanced class data set of the YELP \n",
    "\n",
    "During EDA for the YELP dataset we discovred there was a high imbalance in positive (15329) and negative  (2497) reviews after cleaning the dataset the same wya we did with the IMDB. We decided to go with the maximum amount of reviews for negative and then use same number of positives.\n",
    "\n",
    "The code below creates the cleaned and balanced yelp review dataset: \"balanced_yelp_dataset.csv\". "
   ]
  },
  {
   "cell_type": "code",
   "execution_count": 2,
   "id": "dcc0e3e2",
   "metadata": {},
   "outputs": [],
   "source": [
    "import pandas as pd"
   ]
  },
  {
   "cell_type": "code",
   "execution_count": null,
   "id": "1724d96d",
   "metadata": {},
   "outputs": [],
   "source": [
    "df = pd.read_csv(\"../../data/yelp_datasets/clean_yelp_dataset.csv\")"
   ]
  },
  {
   "cell_type": "code",
   "execution_count": null,
   "id": "0e4834ae",
   "metadata": {},
   "outputs": [],
   "source": [
    "neg_df = df[df['sentiment'] == 'negative'].sample(n=2497, random_state=42)\n",
    "pos_df = df[df['sentiment'] == 'positive'].sample(n=2497, random_state=42)"
   ]
  },
  {
   "cell_type": "code",
   "execution_count": null,
   "id": "9776dc04",
   "metadata": {},
   "outputs": [],
   "source": [
    "# Combine and shuffle the balanced dataset\n",
    "balanced_df = pd.concat([neg_df, pos_df])\n",
    "balanced_df = balanced_df.sample(frac=1, random_state=42).reset_index(drop=True)"
   ]
  },
  {
   "cell_type": "code",
   "execution_count": null,
   "id": "f168d636",
   "metadata": {},
   "outputs": [],
   "source": [
    "balanced_df.to_csv(\"../../data/yelp_datasets/balanced_yelp_dataset.csv\", index=False)"
   ]
  },
  {
   "cell_type": "code",
   "execution_count": null,
   "id": "7c271d9f",
   "metadata": {},
   "outputs": [
    {
     "name": "stdout",
     "output_type": "stream",
     "text": [
      "sentiment\n",
      "negative    2497\n",
      "positive    2497\n",
      "Name: count, dtype: int64\n"
     ]
    },
    {
     "data": {
      "text/html": [
       "<div>\n",
       "<style scoped>\n",
       "    .dataframe tbody tr th:only-of-type {\n",
       "        vertical-align: middle;\n",
       "    }\n",
       "\n",
       "    .dataframe tbody tr th {\n",
       "        vertical-align: top;\n",
       "    }\n",
       "\n",
       "    .dataframe thead th {\n",
       "        text-align: right;\n",
       "    }\n",
       "</style>\n",
       "<table border=\"1\" class=\"dataframe\">\n",
       "  <thead>\n",
       "    <tr style=\"text-align: right;\">\n",
       "      <th></th>\n",
       "      <th>review</th>\n",
       "      <th>sentiment</th>\n",
       "      <th>word_count</th>\n",
       "      <th>length_bucket</th>\n",
       "      <th>char_count</th>\n",
       "      <th>char_length_bucket</th>\n",
       "    </tr>\n",
       "  </thead>\n",
       "  <tbody>\n",
       "    <tr>\n",
       "      <th>0</th>\n",
       "      <td>Great for the Charlotte area and those who are...</td>\n",
       "      <td>negative</td>\n",
       "      <td>18</td>\n",
       "      <td>&lt;50</td>\n",
       "      <td>116</td>\n",
       "      <td>&lt;500</td>\n",
       "    </tr>\n",
       "    <tr>\n",
       "      <th>1</th>\n",
       "      <td>Environment is pretty neat Online order proces...</td>\n",
       "      <td>negative</td>\n",
       "      <td>34</td>\n",
       "      <td>25-50</td>\n",
       "      <td>198</td>\n",
       "      <td>&lt;500</td>\n",
       "    </tr>\n",
       "    <tr>\n",
       "      <th>2</th>\n",
       "      <td>I went early Saturday morning on a walk from C...</td>\n",
       "      <td>positive</td>\n",
       "      <td>97</td>\n",
       "      <td>75-100</td>\n",
       "      <td>530</td>\n",
       "      <td>500-1000</td>\n",
       "    </tr>\n",
       "    <tr>\n",
       "      <th>3</th>\n",
       "      <td>Miserable experience at churn trying to get ic...</td>\n",
       "      <td>negative</td>\n",
       "      <td>157</td>\n",
       "      <td>150-200</td>\n",
       "      <td>841</td>\n",
       "      <td>500-1000</td>\n",
       "    </tr>\n",
       "    <tr>\n",
       "      <th>4</th>\n",
       "      <td>Nahnot worth itI heard about Milk coming from ...</td>\n",
       "      <td>negative</td>\n",
       "      <td>47</td>\n",
       "      <td>25-50</td>\n",
       "      <td>256</td>\n",
       "      <td>&lt;500</td>\n",
       "    </tr>\n",
       "  </tbody>\n",
       "</table>\n",
       "</div>"
      ],
      "text/plain": [
       "                                              review sentiment  word_count  \\\n",
       "0  Great for the Charlotte area and those who are...  negative          18   \n",
       "1  Environment is pretty neat Online order proces...  negative          34   \n",
       "2  I went early Saturday morning on a walk from C...  positive          97   \n",
       "3  Miserable experience at churn trying to get ic...  negative         157   \n",
       "4  Nahnot worth itI heard about Milk coming from ...  negative          47   \n",
       "\n",
       "  length_bucket  char_count char_length_bucket  \n",
       "0           <50         116               <500  \n",
       "1         25-50         198               <500  \n",
       "2        75-100         530           500-1000  \n",
       "3       150-200         841           500-1000  \n",
       "4         25-50         256               <500  "
      ]
     },
     "execution_count": 4,
     "metadata": {},
     "output_type": "execute_result"
    }
   ],
   "source": [
    "print(balanced_df['sentiment'].value_counts())\n",
    "balanced_df.head()"
   ]
  },
  {
   "cell_type": "code",
   "execution_count": null,
   "id": "aa9b2460",
   "metadata": {},
   "outputs": [],
   "source": [
    "# Combine and shuffle the balanced dataset\n",
    "balanced_df = pd.concat([neg_df, pos_df])\n",
    "balanced_df = balanced_df.sample(frac=1, random_state=42).reset_index(drop=True)"
   ]
  }
 ],
 "metadata": {
  "kernelspec": {
   "display_name": "myenv (Python 3.11)",
   "language": "python",
   "name": "myenv"
  },
  "language_info": {
   "codemirror_mode": {
    "name": "ipython",
    "version": 3
   },
   "file_extension": ".py",
   "mimetype": "text/x-python",
   "name": "python",
   "nbconvert_exporter": "python",
   "pygments_lexer": "ipython3",
   "version": "3.11.11"
  }
 },
 "nbformat": 4,
 "nbformat_minor": 5
}
