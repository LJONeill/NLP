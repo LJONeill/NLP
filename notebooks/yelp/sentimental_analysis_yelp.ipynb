{
 "cells": [
  {
   "cell_type": "code",
   "execution_count": null,
   "id": "eb21e4c0",
   "metadata": {},
   "outputs": [],
   "source": [
    "import pandas as pd\n",
    "import torch\n",
    "from transformers import BertTokenizer, BertForSequenceClassification\n",
    "from sklearn.preprocessing import LabelEncoder\n",
    "from sklearn.metrics import accuracy_score\n",
    "from tqdm import tqdm"
   ]
  },
  {
   "cell_type": "code",
   "execution_count": null,
   "id": "ed5f9fa5",
   "metadata": {},
   "outputs": [],
   "source": [
    "device = torch.device(\"cuda\" if torch.cuda.is_available() else \"cpu\")\n"
   ]
  },
  {
   "cell_type": "code",
   "execution_count": null,
   "id": "e74dd591",
   "metadata": {},
   "outputs": [],
   "source": [
    "df = pd.read_csv(\"../../data/yelp_datasets/balanced_yelp_dataset.csv\")"
   ]
  },
  {
   "cell_type": "code",
   "execution_count": null,
   "id": "731788f4",
   "metadata": {},
   "outputs": [],
   "source": [
    "label_encoder = LabelEncoder()\n",
    "df[\"label\"] = label_encoder.fit_transform(df[\"sentiment\"])\n",
    "true_labels = df[\"label\"].tolist()"
   ]
  },
  {
   "cell_type": "code",
   "execution_count": null,
   "id": "86b8844f",
   "metadata": {},
   "outputs": [],
   "source": [
    "model = BertForSequenceClassification.from_pretrained(\"../../models/fine_tuned_bert_imdb\").to(device)\n",
    "tokenizer = BertTokenizer.from_pretrained(\"../../models/fine_tuned_bert_imdb\")\n",
    "model.eval()"
   ]
  },
  {
   "cell_type": "code",
   "execution_count": null,
   "id": "1d3032df",
   "metadata": {},
   "outputs": [],
   "source": [
    "texts = df[\"review\"].tolist()\n",
    "batch_size = 32  # Tune this depending on your system\n",
    "all_predictions = []\n",
    "all_confidences = []\n",
    "\n",
    "for i in tqdm(range(0, len(texts), batch_size), desc=\"Running inference\"):\n",
    "    batch_texts = texts[i:i+batch_size]\n",
    "    encodings = tokenizer(batch_texts, return_tensors=\"pt\", padding=True, truncation=True, max_length=512).to(device)\n",
    "\n",
    "    with torch.no_grad():\n",
    "        outputs = model(**encodings)\n",
    "        probs = torch.nn.functional.softmax(outputs.logits, dim=1)\n",
    "        preds = torch.argmax(probs, dim=1)\n",
    "        confs = torch.max(probs, dim=1).values\n",
    "\n",
    "    all_predictions.extend(preds.cpu().tolist())\n",
    "    all_confidences.extend(confs.cpu().tolist())"
   ]
  },
  {
   "cell_type": "code",
   "execution_count": null,
   "id": "a1e57bc1",
   "metadata": {},
   "outputs": [],
   "source": [
    "predicted_labels = label_encoder.inverse_transform(all_predictions)\n",
    "df[\"predicted_sentiment\"] = predicted_labels\n",
    "df[\"confidence\"] = all_confidences"
   ]
  },
  {
   "cell_type": "code",
   "execution_count": null,
   "id": "5f0377e6",
   "metadata": {},
   "outputs": [],
   "source": [
    "df.to_csv(\"../../data/yelp_datasets/yelp_predictions_with_confidence.csv\", index=False)\n"
   ]
  },
  {
   "cell_type": "code",
   "execution_count": null,
   "id": "d99356e0",
   "metadata": {},
   "outputs": [],
   "source": [
    "overall_acc = accuracy_score(true_labels, all_predictions)\n",
    "\n",
    "neg_indices = [i for i, label in enumerate(true_labels) if label == 0]\n",
    "neg_acc = accuracy_score(\n",
    "    [true_labels[i] for i in neg_indices],\n",
    "    [all_predictions[i] for i in neg_indices]\n",
    ")\n",
    "\n",
    "pos_indices = [i for i, label in enumerate(true_labels) if label == 1]\n",
    "pos_acc = accuracy_score(\n",
    "    [true_labels[i] for i in pos_indices],\n",
    "    [all_predictions[i] for i in pos_indices]\n",
    ")\n",
    "\n",
    "print(f\"Overall Accuracy: {overall_acc:.4f}\")\n",
    "print(f\"Negative Class Accuracy (label=0): {neg_acc:.4f}\")\n",
    "print(f\"Positive Class Accuracy (label=1): {pos_acc:.4f}\")"
   ]
  }
 ],
 "metadata": {
  "kernelspec": {
   "display_name": "myenv (Python 3.11)",
   "language": "python",
   "name": "myenv"
  },
  "language_info": {
   "codemirror_mode": {
    "name": "ipython",
    "version": 3
   },
   "file_extension": ".py",
   "mimetype": "text/x-python",
   "name": "python",
   "nbconvert_exporter": "python",
   "pygments_lexer": "ipython3",
   "version": "3.11.11"
  }
 },
 "nbformat": 4,
 "nbformat_minor": 5
}
