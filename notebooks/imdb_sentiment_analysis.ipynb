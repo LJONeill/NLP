{
 "cells": [
  {
   "cell_type": "markdown",
   "id": "a02a502f",
   "metadata": {},
   "source": [
    "BERT-base uncased model senitment analysis on IMDB dataset"
   ]
  },
  {
   "cell_type": "code",
   "execution_count": 3,
   "id": "a16f963e",
   "metadata": {},
   "outputs": [],
   "source": [
    "import pandas as pd"
   ]
  },
  {
   "cell_type": "code",
   "execution_count": null,
   "id": "cd9f519b",
   "metadata": {},
   "outputs": [],
   "source": [
    "df = pd.read_csv(\"../data/clean_imdb_dataset.csv\")"
   ]
  },
  {
   "cell_type": "code",
   "execution_count": 1,
   "id": "6be8f71a",
   "metadata": {},
   "outputs": [],
   "source": [
    "import csv\n",
    "with open(\"../data/clean_imdb_dataset.csv\", 'r') as csv_file, open(\"../data/clean_imdb_dataset.tsv\", 'w', newline='') as tsv_file:\n",
    "    csv_reader = csv.reader(csv_file)\n",
    "    tsv_writer = csv.writer(tsv_file, delimiter='\\t')\n",
    "    \n",
    "    for row in csv_reader:\n",
    "        tsv_writer.writerow(row)"
   ]
  },
  {
   "cell_type": "code",
   "execution_count": 8,
   "id": "c51643bd",
   "metadata": {},
   "outputs": [],
   "source": [
    "df_tsv = pd.read_table(\"../data/clean_imdb_dataset.tsv\")"
   ]
  },
  {
   "cell_type": "code",
   "execution_count": 9,
   "id": "cbd0de4d",
   "metadata": {},
   "outputs": [
    {
     "data": {
      "text/plain": [
       "<bound method NDFrame.head of                                                   review sentiment  \\\n",
       "0      One of the other reviewers has mentioned that ...  positive   \n",
       "1      A wonderful little production   The filming te...  positive   \n",
       "2      I thought this was a wonderful way to spend ti...  positive   \n",
       "3      Basically theres a family where a little boy J...  negative   \n",
       "4      Petter Matteis Love in the Time of Money is a ...  positive   \n",
       "...                                                  ...       ...   \n",
       "49576  I thought this movie did a down right good job...  positive   \n",
       "49577  Bad plot bad dialogue bad acting idiotic direc...  negative   \n",
       "49578  I am a Catholic taught in parochial elementary...  negative   \n",
       "49579  Im going to have to disagree with the previous...  negative   \n",
       "49580  No one expects the Star Trek movies to be high...  negative   \n",
       "\n",
       "       word_count  char_count length_bucket char_length_bucket  \n",
       "0             307        1677          300+          1500-2000  \n",
       "1             162         942       100-200           500-1000  \n",
       "2             166         882       100-200           500-1000  \n",
       "3             138         700       100-200           500-1000  \n",
       "4             230        1251       200-300          1000-1500  \n",
       "...           ...         ...           ...                ...  \n",
       "49576         194         958       100-200           500-1000  \n",
       "49577         112         612       100-200           500-1000  \n",
       "49578         230        1231       200-300          1000-1500  \n",
       "49579         212        1206       200-300          1000-1500  \n",
       "49580         129         652       100-200           500-1000  \n",
       "\n",
       "[49581 rows x 6 columns]>"
      ]
     },
     "execution_count": 9,
     "metadata": {},
     "output_type": "execute_result"
    }
   ],
   "source": [
    "df_tsv.head"
   ]
  },
  {
   "cell_type": "code",
   "execution_count": null,
   "id": "0ae7736e",
   "metadata": {},
   "outputs": [],
   "source": []
  }
 ],
 "metadata": {
  "kernelspec": {
   "display_name": "websoup",
   "language": "python",
   "name": "websoup"
  },
  "language_info": {
   "codemirror_mode": {
    "name": "ipython",
    "version": 3
   },
   "file_extension": ".py",
   "mimetype": "text/x-python",
   "name": "python",
   "nbconvert_exporter": "python",
   "pygments_lexer": "ipython3",
   "version": "3.11.9"
  }
 },
 "nbformat": 4,
 "nbformat_minor": 5
}
