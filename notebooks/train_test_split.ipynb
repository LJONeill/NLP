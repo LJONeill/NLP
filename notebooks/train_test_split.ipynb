{
 "cells": [
  {
   "cell_type": "markdown",
   "id": "f0b174f1",
   "metadata": {},
   "source": [
    "disclaimer no random state"
   ]
  },
  {
   "cell_type": "code",
   "execution_count": null,
   "id": "a9253406",
   "metadata": {},
   "outputs": [],
   "source": [
    "from sklearn.model_selection import train_test_split\n",
    "import pandas as pd\n"
   ]
  },
  {
   "cell_type": "code",
   "execution_count": null,
   "id": "05491a9c",
   "metadata": {},
   "outputs": [],
   "source": [
    "# 📥 Load the cleaned IMDB dataset\n",
    "df = pd.read_csv('../data/imdb_datasets/clean_imdb_dataset.csv')\n",
    "df.head()\n"
   ]
  },
  {
   "cell_type": "code",
   "execution_count": null,
   "id": "32ce4eee",
   "metadata": {},
   "outputs": [],
   "source": [
    "# ⚙️ Step 1: Split dataset into 90% train and 10% test\n",
    "X = df['review']\n",
    "y = df['sentiment']\n",
    "\n",
    "X_train_90, X_test_10, y_train_90, y_test_10 = train_test_split(\n",
    "    X, y, test_size=0.1, stratify=y, random_state=42\n",
    ")\n",
    "\n",
    "train_90 = pd.DataFrame({'review': X_train_90, 'sentiment': y_train_90})\n",
    "test_90 = pd.DataFrame({'review': X_test_10, 'sentiment': y_test_10})\n"
   ]
  },
  {
   "cell_type": "code",
   "execution_count": null,
   "id": "ef8b0977",
   "metadata": {},
   "outputs": [],
   "source": [
    "# 🧪 Step 2: Create train_50 and train_10 subsets from the 90% training data\n",
    "X_train_50, _, y_train_50, _ = train_test_split(\n",
    "    X_train_90, y_train_90, train_size=50/90, stratify=y_train_90, random_state=42\n",
    ")\n",
    "X_train_10, _, y_train_10, _ = train_test_split(\n",
    "    X_train_90, y_train_90, train_size=10/90, stratify=y_train_90, random_state=42\n",
    ")\n",
    "\n",
    "train_50 = pd.DataFrame({'review': X_train_50, 'sentiment': y_train_50})\n",
    "train_10 = pd.DataFrame({'review': X_train_10, 'sentiment': y_train_10})\n"
   ]
  },
  {
   "cell_type": "code",
   "execution_count": null,
   "id": "b6175d23",
   "metadata": {},
   "outputs": [],
   "source": [
    "# 💾 Step 4: Save all splits to CSV\n",
    "train_90.to_csv('train_90.csv', index=False)\n",
    "train_50.to_csv('train_50.csv', index=False)\n",
    "train_10.to_csv('train_10.csv', index=False)\n",
    "\n",
    "test_90.to_csv('test_90.csv', index=False)\n",
    "test_50.to_csv('test_50.csv', index=False)\n",
    "test_10.to_csv('test_10.csv', index=False)\n"
   ]
  }
 ],
 "metadata": {
  "kernelspec": {
   "display_name": "myenv (Python 3.11)",
   "language": "python",
   "name": "myenv"
  },
  "language_info": {
   "codemirror_mode": {
    "name": "ipython",
    "version": 3
   },
   "file_extension": ".py",
   "mimetype": "text/x-python",
   "name": "python",
   "nbconvert_exporter": "python",
   "pygments_lexer": "ipython3",
   "version": "3.11.11"
  }
 },
 "nbformat": 4,
 "nbformat_minor": 5
}
