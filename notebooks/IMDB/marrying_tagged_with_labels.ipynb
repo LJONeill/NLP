{
 "cells": [
  {
   "cell_type": "code",
   "execution_count": 25,
   "id": "bd27a54c",
   "metadata": {},
   "outputs": [],
   "source": [
    "import pandas as pd"
   ]
  },
  {
   "cell_type": "markdown",
   "id": "a6805060",
   "metadata": {},
   "source": [
    "# Read in the cleaned and labelled data"
   ]
  },
  {
   "cell_type": "code",
   "execution_count": 26,
   "id": "00b6029f",
   "metadata": {},
   "outputs": [],
   "source": [
    "cleaned_labelled_data = pd.read_csv('../../data/IMDB_datasets/clean_imdb_dataset.csv')"
   ]
  },
  {
   "cell_type": "markdown",
   "id": "f8d32645",
   "metadata": {},
   "source": [
    "isolate review and label"
   ]
  },
  {
   "cell_type": "code",
   "execution_count": 27,
   "id": "9a75ef18",
   "metadata": {},
   "outputs": [],
   "source": [
    "just_review_and_label = cleaned_labelled_data.iloc[:, 0:2]"
   ]
  },
  {
   "cell_type": "markdown",
   "id": "13adf6d0",
   "metadata": {},
   "source": [
    "add column of reviews split into words"
   ]
  },
  {
   "cell_type": "code",
   "execution_count": 28,
   "id": "8f5d7ac0",
   "metadata": {},
   "outputs": [
    {
     "name": "stderr",
     "output_type": "stream",
     "text": [
      "C:\\Users\\luke0\\AppData\\Local\\Temp\\ipykernel_21168\\1310866257.py:5: FutureWarning: ChainedAssignmentError: behaviour will change in pandas 3.0!\n",
      "You are setting values through chained assignment. Currently this works in certain cases, but when using Copy-on-Write (which will become the default behaviour in pandas 3.0) this will never work to update the original DataFrame or Series, because the intermediate object on which we are setting values will behave as a copy.\n",
      "A typical example is when you are setting values in a column of a DataFrame, like:\n",
      "\n",
      "df[\"col\"][row_indexer] = value\n",
      "\n",
      "Use `df.loc[row_indexer, \"col\"] = values` instead, to perform the assignment in a single step and ensure this keeps updating the original `df`.\n",
      "\n",
      "See the caveats in the documentation: https://pandas.pydata.org/pandas-docs/stable/user_guide/indexing.html#returning-a-view-versus-a-copy\n",
      "\n",
      "  just_review_and_label['words'][review_index] = just_review_and_label['review'][review_index].split()\n",
      "C:\\Users\\luke0\\AppData\\Local\\Temp\\ipykernel_21168\\1310866257.py:5: SettingWithCopyWarning: \n",
      "A value is trying to be set on a copy of a slice from a DataFrame\n",
      "\n",
      "See the caveats in the documentation: https://pandas.pydata.org/pandas-docs/stable/user_guide/indexing.html#returning-a-view-versus-a-copy\n",
      "  just_review_and_label['words'][review_index] = just_review_and_label['review'][review_index].split()\n",
      "C:\\Users\\luke0\\AppData\\Local\\Temp\\ipykernel_21168\\1310866257.py:5: FutureWarning: Setting an item of incompatible dtype is deprecated and will raise an error in a future version of pandas. Value '['One', 'of', 'the', 'other', 'reviewers', 'has', 'mentioned', 'that', 'after', 'watching', 'just', '1', 'Oz', 'episode', 'youll', 'be', 'hooked', 'They', 'are', 'right', 'as', 'this', 'is', 'exactly', 'what', 'happened', 'with', 'mebr', 'The', 'first', 'thing', 'that', 'struck', 'me', 'about', 'Oz', 'was', 'its', 'brutality', 'and', 'unflinching', 'scenes', 'of', 'violence', 'which', 'set', 'in', 'right', 'from', 'the', 'word', 'GO', 'Trust', 'me', 'this', 'is', 'not', 'a', 'show', 'for', 'the', 'faint', 'hearted', 'or', 'timid', 'This', 'show', 'pulls', 'no', 'punches', 'with', 'regards', 'to', 'drugs', 'sex', 'or', 'violence', 'Its', 'is', 'hardcore', 'in', 'the', 'classic', 'use', 'of', 'the', 'wordbr', 'It', 'is', 'called', 'OZ', 'as', 'that', 'is', 'the', 'nickname', 'given', 'to', 'the', 'Oswald', 'Maximum', 'Security', 'State', 'Penitentary', 'It', 'focuses', 'mainly', 'on', 'Emerald', 'City', 'an', 'experimental', 'section', 'of', 'the', 'prison', 'where', 'all', 'the', 'cells', 'have', 'glass', 'fronts', 'and', 'face', 'inwards', 'so', 'privacy', 'is', 'not', 'high', 'on', 'the', 'agenda', 'Em', 'City', 'is', 'home', 'to', 'manyAryans', 'Muslims', 'gangstas', 'Latinos', 'Christians', 'Italians', 'Irish', 'and', 'moreso', 'scuffles', 'death', 'stares', 'dodgy', 'dealings', 'and', 'shady', 'agreements', 'are', 'never', 'far', 'awaybr', 'I', 'would', 'say', 'the', 'main', 'appeal', 'of', 'the', 'show', 'is', 'due', 'to', 'the', 'fact', 'that', 'it', 'goes', 'where', 'other', 'shows', 'wouldnt', 'dare', 'Forget', 'pretty', 'pictures', 'painted', 'for', 'mainstream', 'audiences', 'forget', 'charm', 'forget', 'romanceOZ', 'doesnt', 'mess', 'around', 'The', 'first', 'episode', 'I', 'ever', 'saw', 'struck', 'me', 'as', 'so', 'nasty', 'it', 'was', 'surreal', 'I', 'couldnt', 'say', 'I', 'was', 'ready', 'for', 'it', 'but', 'as', 'I', 'watched', 'more', 'I', 'developed', 'a', 'taste', 'for', 'Oz', 'and', 'got', 'accustomed', 'to', 'the', 'high', 'levels', 'of', 'graphic', 'violence', 'Not', 'just', 'violence', 'but', 'injustice', 'crooked', 'guards', 'wholl', 'be', 'sold', 'out', 'for', 'a', 'nickel', 'inmates', 'wholl', 'kill', 'on', 'order', 'and', 'get', 'away', 'with', 'it', 'well', 'mannered', 'middle', 'class', 'inmates', 'being', 'turned', 'into', 'prison', 'bitches', 'due', 'to', 'their', 'lack', 'of', 'street', 'skills', 'or', 'prison', 'experience', 'Watching', 'Oz', 'you', 'may', 'become', 'comfortable', 'with', 'what', 'is', 'uncomfortable', 'viewingthats', 'if', 'you', 'can', 'get', 'in', 'touch', 'with', 'your', 'darker', 'side']' has dtype incompatible with int64, please explicitly cast to a compatible dtype first.\n",
      "  just_review_and_label['words'][review_index] = just_review_and_label['review'][review_index].split()\n"
     ]
    }
   ],
   "source": [
    "just_review_and_label['words'] = [0 for _ in range(just_review_and_label.shape[0])]\n",
    "\n",
    "\n",
    "for review_index in range(just_review_and_label.shape[0]):\n",
    "    just_review_and_label['words'][review_index] = just_review_and_label['review'][review_index].split()"
   ]
  },
  {
   "cell_type": "markdown",
   "id": "0bb5aa80",
   "metadata": {},
   "source": [
    "# Read in each of the three cleaned and NE tagged data"
   ]
  },
  {
   "cell_type": "code",
   "execution_count": 29,
   "id": "7e6823d9",
   "metadata": {},
   "outputs": [],
   "source": [
    "def read_conll_file(path):\n",
    "    \"\"\"\n",
    "    read in conll file\n",
    "    \n",
    "    :param path: path to read from\n",
    "    :returns: list with sequences of words and labels for each sentence\n",
    "    \"\"\"\n",
    "    data = []\n",
    "    current_words = []\n",
    "    current_tags = []\n",
    "\n",
    "    for line in open(path, encoding='utf-8'):\n",
    "        line = line.strip()\n",
    "\n",
    "        if line:\n",
    "            if line[0] == '#':\n",
    "                continue # skip comments\n",
    "            tok = line.split('\\t')\n",
    "\n",
    "            current_words.append(tok[1])\n",
    "            current_tags.append(tok[2])\n",
    "        else:\n",
    "            if current_words:  # skip empty lines\n",
    "                data.append((current_words, current_tags))\n",
    "            current_words = []\n",
    "            current_tags = []\n",
    "\n",
    "    # check for last one\n",
    "    if current_tags != []:\n",
    "        data.append((current_words, current_tags))\n",
    "    return data"
   ]
  },
  {
   "cell_type": "code",
   "execution_count": 30,
   "id": "d8b504ef",
   "metadata": {},
   "outputs": [],
   "source": [
    "test_10 = read_conll_file('../../data/imdb_test_train_datasets/test_tagged/test_9010_tagged_output.iob2')\n",
    "\n",
    "test_50 = read_conll_file('../../data/imdb_test_train_datasets/test_tagged/test_5050_tagged_output.iob2')\n",
    "\n",
    "test_90 = read_conll_file('../../data/imdb_test_train_datasets/test_tagged/test_1090_tagged_output.iob2')"
   ]
  },
  {
   "cell_type": "markdown",
   "id": "39285fc3",
   "metadata": {},
   "source": [
    "convert to dataframe"
   ]
  },
  {
   "cell_type": "code",
   "execution_count": 31,
   "id": "421d8819",
   "metadata": {},
   "outputs": [],
   "source": [
    "test_10_df = pd.DataFrame(test_10, columns = ['words', 'ne_tags'])\n",
    "test_50_df = pd.DataFrame(test_50, columns = ['words', 'ne_tags'])\n",
    "test_90_df = pd.DataFrame(test_90, columns = ['words', 'ne_tags'])"
   ]
  },
  {
   "cell_type": "markdown",
   "id": "9149d8ed",
   "metadata": {},
   "source": [
    "function that adds empty columns for sentiment, and converts the word list to a joined review"
   ]
  },
  {
   "cell_type": "code",
   "execution_count": 32,
   "id": "ac01de1b",
   "metadata": {},
   "outputs": [],
   "source": [
    "def prepare_space_for_sentiment(tagged_dataframe):\n",
    "\n",
    "    size = tagged_dataframe.shape[0]\n",
    "\n",
    "    tagged_dataframe['sentiment'] = [0 for _ in range(size)]\n",
    "    tagged_dataframe['review'] = [0 for _ in range(size)]\n",
    "\n",
    "    for point in range(size):\n",
    "        tagged_dataframe['review'][point] = ' '.join(tagged_dataframe['words'][point])\n",
    "\n",
    "    prepared_dataframe = tagged_dataframe\n",
    "\n",
    "    return prepared_dataframe\n",
    "    "
   ]
  },
  {
   "cell_type": "code",
   "execution_count": 33,
   "id": "9ee1e319",
   "metadata": {},
   "outputs": [
    {
     "name": "stderr",
     "output_type": "stream",
     "text": [
      "C:\\Users\\luke0\\AppData\\Local\\Temp\\ipykernel_21168\\4032396392.py:9: FutureWarning: ChainedAssignmentError: behaviour will change in pandas 3.0!\n",
      "You are setting values through chained assignment. Currently this works in certain cases, but when using Copy-on-Write (which will become the default behaviour in pandas 3.0) this will never work to update the original DataFrame or Series, because the intermediate object on which we are setting values will behave as a copy.\n",
      "A typical example is when you are setting values in a column of a DataFrame, like:\n",
      "\n",
      "df[\"col\"][row_indexer] = value\n",
      "\n",
      "Use `df.loc[row_indexer, \"col\"] = values` instead, to perform the assignment in a single step and ensure this keeps updating the original `df`.\n",
      "\n",
      "See the caveats in the documentation: https://pandas.pydata.org/pandas-docs/stable/user_guide/indexing.html#returning-a-view-versus-a-copy\n",
      "\n",
      "  tagged_dataframe['review'][point] = ' '.join(tagged_dataframe['words'][point])\n",
      "C:\\Users\\luke0\\AppData\\Local\\Temp\\ipykernel_21168\\4032396392.py:9: SettingWithCopyWarning: \n",
      "A value is trying to be set on a copy of a slice from a DataFrame\n",
      "\n",
      "See the caveats in the documentation: https://pandas.pydata.org/pandas-docs/stable/user_guide/indexing.html#returning-a-view-versus-a-copy\n",
      "  tagged_dataframe['review'][point] = ' '.join(tagged_dataframe['words'][point])\n",
      "C:\\Users\\luke0\\AppData\\Local\\Temp\\ipykernel_21168\\4032396392.py:9: FutureWarning: Setting an item of incompatible dtype is deprecated and will raise an error in a future version of pandas. Value 'Poorly done political actioner Badly photographed acted and directed Every single scene is underlighted including those very few that are shot during the daytime It doesnt matter what the location is At an important conference in the White House no lights are on and the only available lighting is a gloomy blue that is filtered through a few windows The primier of China conducts an earthshattering phone conversation under conditions of such intense chiaroscuro that he should be contemplating a bust of Homer in a Rembrandt painting Honest Its as if he had a tiny spotlight on his face and was otherwise in total darkness The slow motion deaths are by now obligatory' has dtype incompatible with int64, please explicitly cast to a compatible dtype first.\n",
      "  tagged_dataframe['review'][point] = ' '.join(tagged_dataframe['words'][point])\n",
      "C:\\Users\\luke0\\AppData\\Local\\Temp\\ipykernel_21168\\4032396392.py:9: FutureWarning: ChainedAssignmentError: behaviour will change in pandas 3.0!\n",
      "You are setting values through chained assignment. Currently this works in certain cases, but when using Copy-on-Write (which will become the default behaviour in pandas 3.0) this will never work to update the original DataFrame or Series, because the intermediate object on which we are setting values will behave as a copy.\n",
      "A typical example is when you are setting values in a column of a DataFrame, like:\n",
      "\n",
      "df[\"col\"][row_indexer] = value\n",
      "\n",
      "Use `df.loc[row_indexer, \"col\"] = values` instead, to perform the assignment in a single step and ensure this keeps updating the original `df`.\n",
      "\n",
      "See the caveats in the documentation: https://pandas.pydata.org/pandas-docs/stable/user_guide/indexing.html#returning-a-view-versus-a-copy\n",
      "\n",
      "  tagged_dataframe['review'][point] = ' '.join(tagged_dataframe['words'][point])\n",
      "C:\\Users\\luke0\\AppData\\Local\\Temp\\ipykernel_21168\\4032396392.py:9: SettingWithCopyWarning: \n",
      "A value is trying to be set on a copy of a slice from a DataFrame\n",
      "\n",
      "See the caveats in the documentation: https://pandas.pydata.org/pandas-docs/stable/user_guide/indexing.html#returning-a-view-versus-a-copy\n",
      "  tagged_dataframe['review'][point] = ' '.join(tagged_dataframe['words'][point])\n",
      "C:\\Users\\luke0\\AppData\\Local\\Temp\\ipykernel_21168\\4032396392.py:9: FutureWarning: Setting an item of incompatible dtype is deprecated and will raise an error in a future version of pandas. Value 'Poorly done political actioner Badly photographed acted and directed Every single scene is underlighted including those very few that are shot during the daytime It doesnt matter what the location is At an important conference in the White House no lights are on and the only available lighting is a gloomy blue that is filtered through a few windows The primier of China conducts an earthshattering phone conversation under conditions of such intense chiaroscuro that he should be contemplating a bust of Homer in a Rembrandt painting Honest Its as if he had a tiny spotlight on his face and was otherwise in total darkness The slow motion deaths are by now obligatory' has dtype incompatible with int64, please explicitly cast to a compatible dtype first.\n",
      "  tagged_dataframe['review'][point] = ' '.join(tagged_dataframe['words'][point])\n",
      "C:\\Users\\luke0\\AppData\\Local\\Temp\\ipykernel_21168\\4032396392.py:9: FutureWarning: ChainedAssignmentError: behaviour will change in pandas 3.0!\n",
      "You are setting values through chained assignment. Currently this works in certain cases, but when using Copy-on-Write (which will become the default behaviour in pandas 3.0) this will never work to update the original DataFrame or Series, because the intermediate object on which we are setting values will behave as a copy.\n",
      "A typical example is when you are setting values in a column of a DataFrame, like:\n",
      "\n",
      "df[\"col\"][row_indexer] = value\n",
      "\n",
      "Use `df.loc[row_indexer, \"col\"] = values` instead, to perform the assignment in a single step and ensure this keeps updating the original `df`.\n",
      "\n",
      "See the caveats in the documentation: https://pandas.pydata.org/pandas-docs/stable/user_guide/indexing.html#returning-a-view-versus-a-copy\n",
      "\n",
      "  tagged_dataframe['review'][point] = ' '.join(tagged_dataframe['words'][point])\n",
      "C:\\Users\\luke0\\AppData\\Local\\Temp\\ipykernel_21168\\4032396392.py:9: SettingWithCopyWarning: \n",
      "A value is trying to be set on a copy of a slice from a DataFrame\n",
      "\n",
      "See the caveats in the documentation: https://pandas.pydata.org/pandas-docs/stable/user_guide/indexing.html#returning-a-view-versus-a-copy\n",
      "  tagged_dataframe['review'][point] = ' '.join(tagged_dataframe['words'][point])\n",
      "C:\\Users\\luke0\\AppData\\Local\\Temp\\ipykernel_21168\\4032396392.py:9: FutureWarning: Setting an item of incompatible dtype is deprecated and will raise an error in a future version of pandas. Value 'Poorly done political actioner Badly photographed acted and directed Every single scene is underlighted including those very few that are shot during the daytime It doesnt matter what the location is At an important conference in the White House no lights are on and the only available lighting is a gloomy blue that is filtered through a few windows The primier of China conducts an earthshattering phone conversation under conditions of such intense chiaroscuro that he should be contemplating a bust of Homer in a Rembrandt painting Honest Its as if he had a tiny spotlight on his face and was otherwise in total darkness The slow motion deaths are by now obligatory' has dtype incompatible with int64, please explicitly cast to a compatible dtype first.\n",
      "  tagged_dataframe['review'][point] = ' '.join(tagged_dataframe['words'][point])\n"
     ]
    }
   ],
   "source": [
    "test_10_prepped = prepare_space_for_sentiment(test_10_df)\n",
    "test_50_prepped = prepare_space_for_sentiment(test_50_df)\n",
    "test_90_prepped = prepare_space_for_sentiment(test_90_df)"
   ]
  },
  {
   "cell_type": "markdown",
   "id": "36e910f7",
   "metadata": {},
   "source": [
    "# Function that checks for equivalent reviews, and adds the labels to the tagged data so that we have 3 Cleaned, Tagged and Labelled test data sets"
   ]
  },
  {
   "cell_type": "code",
   "execution_count": 34,
   "id": "92d9653f",
   "metadata": {},
   "outputs": [],
   "source": [
    "def check_for_twin_reviews(df_cleaned_and_tagged, df_cleaned_and_labelled = just_review_and_label):\n",
    "\n",
    "    x = df_cleaned_and_tagged\n",
    "    y = df_cleaned_and_labelled\n",
    "\n",
    "    z = df_cleaned_and_tagged\n",
    "\n",
    "    labelled_size = y.shape[0]\n",
    "    tagged_size = x.shape[0]\n",
    "\n",
    "    for tagged_index in range(tagged_size):\n",
    "        tagged_words = x['words'][tagged_index]\n",
    "        cropped_size = len(tagged_words)\n",
    "\n",
    "        for labelled_index in range(labelled_size):\n",
    "            labelled_words = y['words'][labelled_index]\n",
    "    \n",
    "            if tagged_words == labelled_words[0:cropped_size]:\n",
    "                z['sentiment'][tagged_index] = y['sentiment'][labelled_index]\n",
    "\n",
    "                break\n",
    "\n",
    "\n",
    "    return z"
   ]
  },
  {
   "cell_type": "code",
   "execution_count": 35,
   "id": "64f67fc6",
   "metadata": {},
   "outputs": [
    {
     "name": "stderr",
     "output_type": "stream",
     "text": [
      "C:\\Users\\luke0\\AppData\\Local\\Temp\\ipykernel_21168\\720714151.py:19: FutureWarning: ChainedAssignmentError: behaviour will change in pandas 3.0!\n",
      "You are setting values through chained assignment. Currently this works in certain cases, but when using Copy-on-Write (which will become the default behaviour in pandas 3.0) this will never work to update the original DataFrame or Series, because the intermediate object on which we are setting values will behave as a copy.\n",
      "A typical example is when you are setting values in a column of a DataFrame, like:\n",
      "\n",
      "df[\"col\"][row_indexer] = value\n",
      "\n",
      "Use `df.loc[row_indexer, \"col\"] = values` instead, to perform the assignment in a single step and ensure this keeps updating the original `df`.\n",
      "\n",
      "See the caveats in the documentation: https://pandas.pydata.org/pandas-docs/stable/user_guide/indexing.html#returning-a-view-versus-a-copy\n",
      "\n",
      "  z['sentiment'][tagged_index] = y['sentiment'][labelled_index]\n",
      "C:\\Users\\luke0\\AppData\\Local\\Temp\\ipykernel_21168\\720714151.py:19: SettingWithCopyWarning: \n",
      "A value is trying to be set on a copy of a slice from a DataFrame\n",
      "\n",
      "See the caveats in the documentation: https://pandas.pydata.org/pandas-docs/stable/user_guide/indexing.html#returning-a-view-versus-a-copy\n",
      "  z['sentiment'][tagged_index] = y['sentiment'][labelled_index]\n",
      "C:\\Users\\luke0\\AppData\\Local\\Temp\\ipykernel_21168\\720714151.py:19: FutureWarning: Setting an item of incompatible dtype is deprecated and will raise an error in a future version of pandas. Value 'negative' has dtype incompatible with int64, please explicitly cast to a compatible dtype first.\n",
      "  z['sentiment'][tagged_index] = y['sentiment'][labelled_index]\n"
     ]
    }
   ],
   "source": [
    "test_50_tagged_and_labelled = check_for_twin_reviews(df_cleaned_and_tagged=test_50_prepped)"
   ]
  },
  {
   "cell_type": "code",
   "execution_count": 36,
   "id": "83338bc0",
   "metadata": {},
   "outputs": [],
   "source": [
    "def did_check_work(final_df):\n",
    "\n",
    "    uh_oh = 0\n",
    "    negs = 0\n",
    "    possies = 0\n",
    "    result = 'It flunked'\n",
    "\n",
    "    for sentiment in final_df['sentiment']:\n",
    "        if sentiment == 'negative':\n",
    "            negs+=1\n",
    "        elif sentiment == 'positive':\n",
    "            possies +=1\n",
    "        else:\n",
    "            uh_oh+=1\n",
    "\n",
    "    if uh_oh == 0:\n",
    "        result = 'It worked'\n",
    "\n",
    "\n",
    "    return (possies, negs, uh_oh, result)"
   ]
  },
  {
   "cell_type": "code",
   "execution_count": 37,
   "id": "a338c937",
   "metadata": {},
   "outputs": [
    {
     "data": {
      "text/plain": [
       "(12474, 12317, 0, 'It worked')"
      ]
     },
     "execution_count": 37,
     "metadata": {},
     "output_type": "execute_result"
    }
   ],
   "source": [
    "did_check_work(test_50_tagged_and_labelled)"
   ]
  },
  {
   "cell_type": "code",
   "execution_count": 38,
   "id": "34153dab",
   "metadata": {},
   "outputs": [
    {
     "name": "stderr",
     "output_type": "stream",
     "text": [
      "C:\\Users\\luke0\\AppData\\Local\\Temp\\ipykernel_21168\\720714151.py:19: FutureWarning: ChainedAssignmentError: behaviour will change in pandas 3.0!\n",
      "You are setting values through chained assignment. Currently this works in certain cases, but when using Copy-on-Write (which will become the default behaviour in pandas 3.0) this will never work to update the original DataFrame or Series, because the intermediate object on which we are setting values will behave as a copy.\n",
      "A typical example is when you are setting values in a column of a DataFrame, like:\n",
      "\n",
      "df[\"col\"][row_indexer] = value\n",
      "\n",
      "Use `df.loc[row_indexer, \"col\"] = values` instead, to perform the assignment in a single step and ensure this keeps updating the original `df`.\n",
      "\n",
      "See the caveats in the documentation: https://pandas.pydata.org/pandas-docs/stable/user_guide/indexing.html#returning-a-view-versus-a-copy\n",
      "\n",
      "  z['sentiment'][tagged_index] = y['sentiment'][labelled_index]\n",
      "C:\\Users\\luke0\\AppData\\Local\\Temp\\ipykernel_21168\\720714151.py:19: SettingWithCopyWarning: \n",
      "A value is trying to be set on a copy of a slice from a DataFrame\n",
      "\n",
      "See the caveats in the documentation: https://pandas.pydata.org/pandas-docs/stable/user_guide/indexing.html#returning-a-view-versus-a-copy\n",
      "  z['sentiment'][tagged_index] = y['sentiment'][labelled_index]\n",
      "C:\\Users\\luke0\\AppData\\Local\\Temp\\ipykernel_21168\\720714151.py:19: FutureWarning: Setting an item of incompatible dtype is deprecated and will raise an error in a future version of pandas. Value 'negative' has dtype incompatible with int64, please explicitly cast to a compatible dtype first.\n",
      "  z['sentiment'][tagged_index] = y['sentiment'][labelled_index]\n"
     ]
    }
   ],
   "source": [
    "test_10_tagged_labelled = check_for_twin_reviews(df_cleaned_and_labelled=just_review_and_label, df_cleaned_and_tagged=test_10_prepped)"
   ]
  },
  {
   "cell_type": "code",
   "execution_count": 39,
   "id": "1ebb285a",
   "metadata": {},
   "outputs": [
    {
     "data": {
      "text/plain": [
       "(2489, 2470, 0, 'It worked')"
      ]
     },
     "execution_count": 39,
     "metadata": {},
     "output_type": "execute_result"
    }
   ],
   "source": [
    "did_check_work(final_df=test_10_tagged_labelled)"
   ]
  },
  {
   "cell_type": "code",
   "execution_count": 40,
   "id": "07083dab",
   "metadata": {},
   "outputs": [
    {
     "name": "stderr",
     "output_type": "stream",
     "text": [
      "C:\\Users\\luke0\\AppData\\Local\\Temp\\ipykernel_21168\\720714151.py:19: FutureWarning: ChainedAssignmentError: behaviour will change in pandas 3.0!\n",
      "You are setting values through chained assignment. Currently this works in certain cases, but when using Copy-on-Write (which will become the default behaviour in pandas 3.0) this will never work to update the original DataFrame or Series, because the intermediate object on which we are setting values will behave as a copy.\n",
      "A typical example is when you are setting values in a column of a DataFrame, like:\n",
      "\n",
      "df[\"col\"][row_indexer] = value\n",
      "\n",
      "Use `df.loc[row_indexer, \"col\"] = values` instead, to perform the assignment in a single step and ensure this keeps updating the original `df`.\n",
      "\n",
      "See the caveats in the documentation: https://pandas.pydata.org/pandas-docs/stable/user_guide/indexing.html#returning-a-view-versus-a-copy\n",
      "\n",
      "  z['sentiment'][tagged_index] = y['sentiment'][labelled_index]\n",
      "C:\\Users\\luke0\\AppData\\Local\\Temp\\ipykernel_21168\\720714151.py:19: SettingWithCopyWarning: \n",
      "A value is trying to be set on a copy of a slice from a DataFrame\n",
      "\n",
      "See the caveats in the documentation: https://pandas.pydata.org/pandas-docs/stable/user_guide/indexing.html#returning-a-view-versus-a-copy\n",
      "  z['sentiment'][tagged_index] = y['sentiment'][labelled_index]\n",
      "C:\\Users\\luke0\\AppData\\Local\\Temp\\ipykernel_21168\\720714151.py:19: FutureWarning: Setting an item of incompatible dtype is deprecated and will raise an error in a future version of pandas. Value 'negative' has dtype incompatible with int64, please explicitly cast to a compatible dtype first.\n",
      "  z['sentiment'][tagged_index] = y['sentiment'][labelled_index]\n"
     ]
    }
   ],
   "source": [
    "test_90_tagged_labelled = check_for_twin_reviews(df_cleaned_and_labelled=just_review_and_label, df_cleaned_and_tagged=test_90_prepped)"
   ]
  },
  {
   "cell_type": "code",
   "execution_count": 41,
   "id": "28bfb5a8",
   "metadata": {},
   "outputs": [
    {
     "data": {
      "text/plain": [
       "(22372, 22251, 0, 'It worked')"
      ]
     },
     "execution_count": 41,
     "metadata": {},
     "output_type": "execute_result"
    }
   ],
   "source": [
    "did_check_work(final_df=test_90_tagged_labelled)"
   ]
  },
  {
   "cell_type": "code",
   "execution_count": null,
   "id": "c1ed03a4",
   "metadata": {},
   "outputs": [],
   "source": [
    "# test_10_tagged_labelled.to_csv('../../data/imdb_test_train_datasets/test_tagged_and_labelled/test_10_tagged_and_labelled')\n",
    "# test_50_tagged_and_labelled.to_csv('../../data/imdb_test_train_datasets/test_tagged_and_labelled/test_50_tagged_and_labelled')\n",
    "# test_90_tagged_labelled.to_csv('../../data/imdb_test_train_datasets/test_tagged_and_labelled/test_90_tagged_and_labelled')"
   ]
  },
  {
   "cell_type": "code",
   "execution_count": null,
   "id": "1bb5d5a5",
   "metadata": {},
   "outputs": [],
   "source": []
  }
 ],
 "metadata": {
  "kernelspec": {
   "display_name": "Python 3",
   "language": "python",
   "name": "python3"
  },
  "language_info": {
   "codemirror_mode": {
    "name": "ipython",
    "version": 3
   },
   "file_extension": ".py",
   "mimetype": "text/x-python",
   "name": "python",
   "nbconvert_exporter": "python",
   "pygments_lexer": "ipython3",
   "version": "3.12.2"
  }
 },
 "nbformat": 4,
 "nbformat_minor": 5
}
