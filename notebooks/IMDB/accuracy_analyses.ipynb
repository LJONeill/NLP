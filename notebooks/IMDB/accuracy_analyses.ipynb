{
 "cells": [
  {
   "cell_type": "code",
   "execution_count": 1,
   "id": "b46196b1",
   "metadata": {},
   "outputs": [],
   "source": [
    "import pandas as pd\n",
    "from sklearn.metrics import accuracy_score"
   ]
  },
  {
   "cell_type": "code",
   "execution_count": 2,
   "id": "4d7b8fc3",
   "metadata": {},
   "outputs": [],
   "source": [
    "true10 = pd.read_csv(\"../../data/imdb_test_train_datasets/test/test_1090.csv\")\n",
    "pred10 = pd.read_csv(\"../../data/predictions/bert_10_orig_predictions.csv\")\n",
    "\n",
    "true50 = pd.read_csv(\"../../data/imdb_test_train_datasets/test/test_5050.csv\")\n",
    "pred50 = pd.read_csv(\"../../data/predictions/bert_50_orig_predictions.csv\")\n",
    "\n",
    "true90 = pd.read_csv(\"../../data/imdb_test_train_datasets/test/test_9010.csv\")\n",
    "pred90 = pd.read_csv(\"../../data/predictions/bert_90_orig_predictions.csv\")"
   ]
  },
  {
   "cell_type": "code",
   "execution_count": 3,
   "id": "e26b9d33",
   "metadata": {},
   "outputs": [
    {
     "name": "stdout",
     "output_type": "stream",
     "text": [
      "Accuracy of the 10/90 model: 0.9178674674495215\n",
      "Accuracy of the 50/50 model: 0.9353797749183171\n",
      "Accuracy of the 90/10 model: 0.9477717281710022\n"
     ]
    }
   ],
   "source": [
    "acc10 = accuracy_score(true10[\"label\"], pred10[\"predicted_sentiment\"])\n",
    "print(f\"Accuracy of the 10/90 model: {acc10}\")\n",
    "\n",
    "acc50 = accuracy_score(true50[\"label\"], pred50[\"predicted_sentiment\"])\n",
    "print(f\"Accuracy of the 50/50 model: {acc50}\")\n",
    "\n",
    "acc90 = accuracy_score(true90[\"label\"], pred90[\"predicted_sentiment\"])\n",
    "print(f\"Accuracy of the 90/10 model: {acc90}\")"
   ]
  },
  {
   "cell_type": "code",
   "execution_count": 4,
   "id": "f3eb0191",
   "metadata": {},
   "outputs": [],
   "source": [
    "true_yelp = pd.read_csv(\"../../data/yelp_datasets/balanced_yelp_dataset.csv\")\n",
    "pred_yelp = pd.read_csv(\"../../data/predictions/yelp_predictions.csv\")"
   ]
  },
  {
   "cell_type": "code",
   "execution_count": 5,
   "id": "c2fcc1bf",
   "metadata": {},
   "outputs": [
    {
     "name": "stdout",
     "output_type": "stream",
     "text": [
      "Accuracy of the 90/10 model on the yelp data: 0.9373247897476973\n"
     ]
    }
   ],
   "source": [
    "acc_yelp = accuracy_score(true_yelp[\"sentiment\"], pred_yelp[\"predicted_sentiment\"])\n",
    "print(f\"Accuracy of the 90/10 model on the yelp data: {acc_yelp}\")"
   ]
  },
  {
   "cell_type": "code",
   "execution_count": 6,
   "id": "a785bcc8",
   "metadata": {},
   "outputs": [
    {
     "name": "stdout",
     "output_type": "stream",
     "text": [
      "Negative Class Accuracy (label=negative): 0.9487\n",
      "Positive Class Accuracy (label=positive): 0.9259\n"
     ]
    }
   ],
   "source": [
    "true_labels=true_yelp[\"sentiment\"]\n",
    "all_predictions=pred_yelp[\"predicted_sentiment\"]\n",
    "\n",
    "overall_acc = accuracy_score(true_labels, all_predictions)\n",
    "\n",
    "neg_indices = [i for i, label in enumerate(true_labels) if label == \"negative\"]\n",
    "neg_acc = accuracy_score(\n",
    "    [true_labels[i] for i in neg_indices],\n",
    "    [all_predictions[i] for i in neg_indices]\n",
    ")\n",
    "\n",
    "pos_indices = [i for i, label in enumerate(true_labels) if label == \"positive\"]\n",
    "pos_acc = accuracy_score(\n",
    "    [true_labels[i] for i in pos_indices],\n",
    "    [all_predictions[i] for i in pos_indices]\n",
    ")\n",
    "\n",
    "\n",
    "print(f\"Negative Class Accuracy (label=negative): {neg_acc:.4f}\")\n",
    "print(f\"Positive Class Accuracy (label=positive): {pos_acc:.4f}\")"
   ]
  },
  {
   "cell_type": "code",
   "execution_count": 7,
   "id": "b8ca209c",
   "metadata": {},
   "outputs": [
    {
     "name": "stdout",
     "output_type": "stream",
     "text": [
      "Accuracy of the 90/10 model on invariance perturbed data: 0.8941318814277072\n"
     ]
    }
   ],
   "source": [
    "pred_inv = pd.read_csv(\"../../data/predictions/invariance_predictions.csv\")\n",
    "\n",
    "acc_inv = accuracy_score(true90[\"label\"], pred_inv[\"predicted_sentiment\"])\n",
    "print(f\"Accuracy of the 90/10 model on invariance perturbed data: {acc_inv}\")"
   ]
  },
  {
   "cell_type": "code",
   "execution_count": 8,
   "id": "31e3c379",
   "metadata": {},
   "outputs": [
    {
     "name": "stdout",
     "output_type": "stream",
     "text": [
      "Accuracy of the 90/10 model on directional expectation perturbed data: 0.9762048800161323\n"
     ]
    }
   ],
   "source": [
    "pred_dir = pd.read_csv(\"../../data/predictions/direxp_predictions.csv\")\n",
    "\n",
    "acc_dir = accuracy_score(true90[\"label\"], pred_dir[\"predicted_sentiment\"])\n",
    "print(f\"Accuracy of the 90/10 model on directional expectation perturbed data: {acc_dir}\")"
   ]
  },
  {
   "cell_type": "code",
   "execution_count": 9,
   "id": "bb7f09db",
   "metadata": {},
   "outputs": [
    {
     "name": "stdout",
     "output_type": "stream",
     "text": [
      "Negative Class Accuracy (label=0): 0.9547\n",
      "Positive Class Accuracy (label=1): 0.9409\n"
     ]
    }
   ],
   "source": [
    "true_labels=true90[\"label\"]\n",
    "all_predictions=pred90[\"predicted_sentiment\"]\n",
    "\n",
    "overall_acc = accuracy_score(true_labels, all_predictions)\n",
    "\n",
    "neg_indices = [i for i, label in enumerate(true_labels) if label == 0]\n",
    "neg_acc = accuracy_score(\n",
    "    [true_labels[i] for i in neg_indices],\n",
    "    [all_predictions[i] for i in neg_indices]\n",
    ")\n",
    "\n",
    "pos_indices = [i for i, label in enumerate(true_labels) if label == 1]\n",
    "pos_acc = accuracy_score(\n",
    "    [true_labels[i] for i in pos_indices],\n",
    "    [all_predictions[i] for i in pos_indices]\n",
    ")\n",
    "\n",
    "\n",
    "print(f\"Negative Class Accuracy (label=0): {neg_acc:.4f}\")\n",
    "print(f\"Positive Class Accuracy (label=1): {pos_acc:.4f}\")"
   ]
  },
  {
   "cell_type": "markdown",
   "id": "e100e052",
   "metadata": {},
   "source": [
    "### Checking failure rates"
   ]
  },
  {
   "cell_type": "markdown",
   "id": "5d384566",
   "metadata": {},
   "source": [
    "#### Invariance"
   ]
  },
  {
   "cell_type": "code",
   "execution_count": 10,
   "id": "ce2a6745",
   "metadata": {},
   "outputs": [],
   "source": [
    "inv_labels = pred_inv[\"predicted_sentiment\"]\n",
    "orig_reviews = pred90[\"review\"]\n",
    "perturbed_reviews = pred_inv[\"review\"]\n",
    "\n",
    "invariance_results = []\n",
    "f = 0\n",
    "p = 0\n",
    "\n",
    "for i in range(len(pred_inv)):\n",
    "    o_rev = orig_reviews[i]\n",
    "    p_rev = perturbed_reviews[i]\n",
    "    pred_label = all_predictions[i]\n",
    "    inv_label = inv_labels[i]\n",
    "    t_label = true_labels[i]\n",
    "    if pred_label == inv_label:\n",
    "        result = \"pass\"\n",
    "        p += 1\n",
    "    else:\n",
    "        result = \"fail\"\n",
    "        f += 1\n",
    "    \n",
    "    final_setup = [o_rev, p_rev, pred_label, inv_label, t_label, result]\n",
    "    \n",
    "    invariance_results.append(final_setup)\n"
   ]
  },
  {
   "cell_type": "code",
   "execution_count": 11,
   "id": "82b96287",
   "metadata": {},
   "outputs": [
    {
     "name": "stdout",
     "output_type": "stream",
     "text": [
      "0.07380520266182698\n"
     ]
    }
   ],
   "source": [
    "failure_rate = f/(p+f)\n",
    "\n",
    "print(failure_rate)"
   ]
  },
  {
   "cell_type": "code",
   "execution_count": 12,
   "id": "4ffad066",
   "metadata": {},
   "outputs": [],
   "source": [
    "inv_df = pd.DataFrame(invariance_results, columns = [\"original_review\", \"INV review\", \"nonperturbed_label\", \"perturbed_label\", \"true label\", \"pass/fail\"])\n",
    "\n",
    "failures = inv_df[inv_df[\"pass/fail\"] == \"fail\"]"
   ]
  },
  {
   "cell_type": "code",
   "execution_count": 13,
   "id": "978687c1",
   "metadata": {},
   "outputs": [
    {
     "data": {
      "text/html": [
       "<div>\n",
       "<style scoped>\n",
       "    .dataframe tbody tr th:only-of-type {\n",
       "        vertical-align: middle;\n",
       "    }\n",
       "\n",
       "    .dataframe tbody tr th {\n",
       "        vertical-align: top;\n",
       "    }\n",
       "\n",
       "    .dataframe thead th {\n",
       "        text-align: right;\n",
       "    }\n",
       "</style>\n",
       "<table border=\"1\" class=\"dataframe\">\n",
       "  <thead>\n",
       "    <tr style=\"text-align: right;\">\n",
       "      <th></th>\n",
       "      <th>original_review</th>\n",
       "      <th>INV review</th>\n",
       "      <th>nonperturbed_label</th>\n",
       "      <th>perturbed_label</th>\n",
       "      <th>true label</th>\n",
       "      <th>pass/fail</th>\n",
       "    </tr>\n",
       "  </thead>\n",
       "  <tbody>\n",
       "    <tr>\n",
       "      <th>17</th>\n",
       "      <td>This movie had all the potential and makings o...</td>\n",
       "      <td>This movie had all the potential and makings o...</td>\n",
       "      <td>1</td>\n",
       "      <td>0</td>\n",
       "      <td>0</td>\n",
       "      <td>fail</td>\n",
       "    </tr>\n",
       "    <tr>\n",
       "      <th>21</th>\n",
       "      <td>It is a great tragedy that both Richard Harris...</td>\n",
       "      <td>It is a great tragedy that both Jadeyn Doggett...</td>\n",
       "      <td>1</td>\n",
       "      <td>0</td>\n",
       "      <td>0</td>\n",
       "      <td>fail</td>\n",
       "    </tr>\n",
       "    <tr>\n",
       "      <th>55</th>\n",
       "      <td>A genuinely odd surreal jumble of visual ideas...</td>\n",
       "      <td>A genuinely odd surreal jumble of visual ideas...</td>\n",
       "      <td>0</td>\n",
       "      <td>1</td>\n",
       "      <td>0</td>\n",
       "      <td>fail</td>\n",
       "    </tr>\n",
       "    <tr>\n",
       "      <th>76</th>\n",
       "      <td>Yes I did as I sit here redfaced remembering h...</td>\n",
       "      <td>Yes I did as I sit here redfaced remembering h...</td>\n",
       "      <td>1</td>\n",
       "      <td>0</td>\n",
       "      <td>1</td>\n",
       "      <td>fail</td>\n",
       "    </tr>\n",
       "    <tr>\n",
       "      <th>77</th>\n",
       "      <td>I am always so frustrated that the majority of...</td>\n",
       "      <td>I am always so frustrated that the majority of...</td>\n",
       "      <td>0</td>\n",
       "      <td>1</td>\n",
       "      <td>1</td>\n",
       "      <td>fail</td>\n",
       "    </tr>\n",
       "    <tr>\n",
       "      <th>...</th>\n",
       "      <td>...</td>\n",
       "      <td>...</td>\n",
       "      <td>...</td>\n",
       "      <td>...</td>\n",
       "      <td>...</td>\n",
       "      <td>...</td>\n",
       "    </tr>\n",
       "    <tr>\n",
       "      <th>4909</th>\n",
       "      <td>Im grateful to Cesar Montano and his crew in r...</td>\n",
       "      <td>Im grateful to Jodi Freeze and his crew in rev...</td>\n",
       "      <td>1</td>\n",
       "      <td>0</td>\n",
       "      <td>1</td>\n",
       "      <td>fail</td>\n",
       "    </tr>\n",
       "    <tr>\n",
       "      <th>4916</th>\n",
       "      <td>I spotted the DVD on a store near my home and ...</td>\n",
       "      <td>I spotted the DVD on a store near my home and ...</td>\n",
       "      <td>0</td>\n",
       "      <td>1</td>\n",
       "      <td>0</td>\n",
       "      <td>fail</td>\n",
       "    </tr>\n",
       "    <tr>\n",
       "      <th>4923</th>\n",
       "      <td>I have wrestled with death It is the most une...</td>\n",
       "      <td>I have wrestled with death It is the most unex...</td>\n",
       "      <td>1</td>\n",
       "      <td>0</td>\n",
       "      <td>1</td>\n",
       "      <td>fail</td>\n",
       "    </tr>\n",
       "    <tr>\n",
       "      <th>4946</th>\n",
       "      <td>Spinoffs for somebody who dont know are not us...</td>\n",
       "      <td>Spinoffs for somebody who dont know are not us...</td>\n",
       "      <td>0</td>\n",
       "      <td>1</td>\n",
       "      <td>1</td>\n",
       "      <td>fail</td>\n",
       "    </tr>\n",
       "    <tr>\n",
       "      <th>4956</th>\n",
       "      <td>When evaluating documentaries that focus a rel...</td>\n",
       "      <td>When evaluating documentaries that focus a rel...</td>\n",
       "      <td>0</td>\n",
       "      <td>1</td>\n",
       "      <td>0</td>\n",
       "      <td>fail</td>\n",
       "    </tr>\n",
       "  </tbody>\n",
       "</table>\n",
       "<p>366 rows × 6 columns</p>\n",
       "</div>"
      ],
      "text/plain": [
       "                                        original_review  \\\n",
       "17    This movie had all the potential and makings o...   \n",
       "21    It is a great tragedy that both Richard Harris...   \n",
       "55    A genuinely odd surreal jumble of visual ideas...   \n",
       "76    Yes I did as I sit here redfaced remembering h...   \n",
       "77    I am always so frustrated that the majority of...   \n",
       "...                                                 ...   \n",
       "4909  Im grateful to Cesar Montano and his crew in r...   \n",
       "4916  I spotted the DVD on a store near my home and ...   \n",
       "4923   I have wrestled with death It is the most une...   \n",
       "4946  Spinoffs for somebody who dont know are not us...   \n",
       "4956  When evaluating documentaries that focus a rel...   \n",
       "\n",
       "                                             INV review  nonperturbed_label  \\\n",
       "17    This movie had all the potential and makings o...                   1   \n",
       "21    It is a great tragedy that both Jadeyn Doggett...                   1   \n",
       "55    A genuinely odd surreal jumble of visual ideas...                   0   \n",
       "76    Yes I did as I sit here redfaced remembering h...                   1   \n",
       "77    I am always so frustrated that the majority of...                   0   \n",
       "...                                                 ...                 ...   \n",
       "4909  Im grateful to Jodi Freeze and his crew in rev...                   1   \n",
       "4916  I spotted the DVD on a store near my home and ...                   0   \n",
       "4923  I have wrestled with death It is the most unex...                   1   \n",
       "4946  Spinoffs for somebody who dont know are not us...                   0   \n",
       "4956  When evaluating documentaries that focus a rel...                   0   \n",
       "\n",
       "      perturbed_label  true label pass/fail  \n",
       "17                  0           0      fail  \n",
       "21                  0           0      fail  \n",
       "55                  1           0      fail  \n",
       "76                  0           1      fail  \n",
       "77                  1           1      fail  \n",
       "...               ...         ...       ...  \n",
       "4909                0           1      fail  \n",
       "4916                1           0      fail  \n",
       "4923                0           1      fail  \n",
       "4946                1           1      fail  \n",
       "4956                1           0      fail  \n",
       "\n",
       "[366 rows x 6 columns]"
      ]
     },
     "execution_count": 13,
     "metadata": {},
     "output_type": "execute_result"
    }
   ],
   "source": [
    "failures"
   ]
  },
  {
   "cell_type": "code",
   "execution_count": null,
   "id": "c0c6a99d",
   "metadata": {},
   "outputs": [],
   "source": [
    "# failures.to_csv(\"../../data/checklist_results/invariance_failures.csv\")"
   ]
  },
  {
   "cell_type": "markdown",
   "id": "f45bcb42",
   "metadata": {},
   "source": [
    "#### DIR"
   ]
  },
  {
   "cell_type": "code",
   "execution_count": 15,
   "id": "801bceea",
   "metadata": {},
   "outputs": [],
   "source": [
    "dir_labels = pred_dir[\"predicted_sentiment\"]\n",
    "dir_confidences = pred_dir[\"confidence\"]\n",
    "\n",
    "true_labels=true90[\"label\"]\n",
    "\n",
    "orig_predictions = pred90[\"predicted_sentiment\"]\n",
    "orig_confidences = pred90[\"confidence\"]\n",
    "\n",
    "perturbed_reviews = pred_dir[\"review\"]\n",
    "\n",
    "dir_results = []\n",
    "p = 0\n",
    "f = 0\n",
    "\n",
    "\n",
    "for i in range(len(pred_dir)):\n",
    "    o_rev = orig_reviews[i]  # original (non-perturbed) review\n",
    "    p_rev = perturbed_reviews[i]  # perturbed review\n",
    "    expectation = true_labels[i]  # true label\n",
    "\n",
    "    o_label = orig_predictions[i]\n",
    "    p_label = dir_labels[i]\n",
    "\n",
    "    o_conf = orig_confidences[i]\n",
    "    p_conf = dir_confidences[i]\n",
    "\n",
    "    conf_change = p_conf - o_conf\n",
    "    result = \"pass\"  # default\n",
    "\n",
    "    if expectation == o_label and o_label == p_label:\n",
    "        if conf_change < -0.1:\n",
    "            result = \"fail\"\n",
    "            f += 1\n",
    "            print(o_rev)\n",
    "            print(p_rev)\n",
    "\n",
    "    else:\n",
    "        p += 1  # all other cases pass\n",
    "    \n",
    "    final_setup = [o_rev, p_rev, expectation, o_label, p_label, conf_change, result]\n",
    "    dir_results.append(final_setup)"
   ]
  },
  {
   "cell_type": "code",
   "execution_count": 16,
   "id": "28958a1e",
   "metadata": {},
   "outputs": [
    {
     "name": "stdout",
     "output_type": "stream",
     "text": [
      "0.0\n"
     ]
    }
   ],
   "source": [
    "dir_failure_rate = f/(f+p)\n",
    "\n",
    "print(dir_failure_rate)"
   ]
  },
  {
   "cell_type": "code",
   "execution_count": 17,
   "id": "6ba42f82",
   "metadata": {},
   "outputs": [],
   "source": [
    "dir_df = pd.DataFrame(dir_results, columns = [\"original_review\", \"perturbed_review\", \"true_label\", \"nonperturbed_prediction\", \"perturbed_prediction\", \"confidence_change\", \"pass/fail\"])\n",
    "\n",
    "dir_failures = dir_df[dir_df[\"pass/fail\"] == \"fail\"]"
   ]
  },
  {
   "cell_type": "code",
   "execution_count": 18,
   "id": "1663695c",
   "metadata": {},
   "outputs": [
    {
     "data": {
      "text/html": [
       "<div>\n",
       "<style scoped>\n",
       "    .dataframe tbody tr th:only-of-type {\n",
       "        vertical-align: middle;\n",
       "    }\n",
       "\n",
       "    .dataframe tbody tr th {\n",
       "        vertical-align: top;\n",
       "    }\n",
       "\n",
       "    .dataframe thead th {\n",
       "        text-align: right;\n",
       "    }\n",
       "</style>\n",
       "<table border=\"1\" class=\"dataframe\">\n",
       "  <thead>\n",
       "    <tr style=\"text-align: right;\">\n",
       "      <th></th>\n",
       "      <th>original_review</th>\n",
       "      <th>perturbed_review</th>\n",
       "      <th>true_label</th>\n",
       "      <th>nonperturbed_prediction</th>\n",
       "      <th>perturbed_prediction</th>\n",
       "      <th>confidence_change</th>\n",
       "      <th>pass/fail</th>\n",
       "    </tr>\n",
       "  </thead>\n",
       "  <tbody>\n",
       "  </tbody>\n",
       "</table>\n",
       "</div>"
      ],
      "text/plain": [
       "Empty DataFrame\n",
       "Columns: [original_review, perturbed_review, true_label, nonperturbed_prediction, perturbed_prediction, confidence_change, pass/fail]\n",
       "Index: []"
      ]
     },
     "execution_count": 18,
     "metadata": {},
     "output_type": "execute_result"
    }
   ],
   "source": [
    "dir_failures"
   ]
  }
 ],
 "metadata": {
  "kernelspec": {
   "display_name": "NLP",
   "language": "python",
   "name": "python3"
  },
  "language_info": {
   "codemirror_mode": {
    "name": "ipython",
    "version": 3
   },
   "file_extension": ".py",
   "mimetype": "text/x-python",
   "name": "python",
   "nbconvert_exporter": "python",
   "pygments_lexer": "ipython3",
   "version": "3.12.8"
  }
 },
 "nbformat": 4,
 "nbformat_minor": 5
}
