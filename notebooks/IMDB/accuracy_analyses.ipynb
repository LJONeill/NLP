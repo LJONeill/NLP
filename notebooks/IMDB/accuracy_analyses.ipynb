{
 "cells": [
  {
   "cell_type": "code",
   "execution_count": 2,
   "id": "b46196b1",
   "metadata": {},
   "outputs": [],
   "source": [
    "import pandas as pd\n",
    "from sklearn.metrics import accuracy_score"
   ]
  },
  {
   "cell_type": "code",
   "execution_count": 4,
   "id": "4d7b8fc3",
   "metadata": {},
   "outputs": [],
   "source": [
    "true10 = pd.read_csv(\"../../data/imdb_test_train_datasets/test/test_1090.csv\")\n",
    "pred10 = pd.read_csv(\"../../data/predictions/bert_10_orig_predictions.csv\")\n",
    "\n",
    "true50 = pd.read_csv(\"../../data/imdb_test_train_datasets/test/test_5050.csv\")\n",
    "pred50 = pd.read_csv(\"../../data/predictions/bert_50_orig_predictions.csv\")\n",
    "\n",
    "true90 = pd.read_csv(\"../../data/imdb_test_train_datasets/test/test_9010.csv\")\n",
    "pred90 = pd.read_csv(\"../../data/predictions/bert_90_orig_predictions.csv\")"
   ]
  },
  {
   "cell_type": "code",
   "execution_count": 12,
   "id": "e26b9d33",
   "metadata": {},
   "outputs": [
    {
     "name": "stdout",
     "output_type": "stream",
     "text": [
      "Accuracy of the 10/90 model: 0.9178674674495215\n",
      "Accuracy of the 50/50 model: 0.9353797749183171\n",
      "Accuracy of the 90/10 model: 0.9477717281710022\n"
     ]
    }
   ],
   "source": [
    "acc10 = accuracy_score(true10[\"label\"], pred10[\"predicted_sentiment\"])\n",
    "print(f\"Accuracy of the 10/90 model: {acc10}\")\n",
    "\n",
    "acc50 = accuracy_score(true50[\"label\"], pred50[\"predicted_sentiment\"])\n",
    "print(f\"Accuracy of the 50/50 model: {acc50}\")\n",
    "\n",
    "acc90 = accuracy_score(true90[\"label\"], pred90[\"predicted_sentiment\"])\n",
    "print(f\"Accuracy of the 90/10 model: {acc90}\")"
   ]
  },
  {
   "cell_type": "code",
   "execution_count": null,
   "id": "5c5eb282",
   "metadata": {},
   "outputs": [],
   "source": [
    "assert len(pred90) == len(pred_dir), \"Mismatch in number of rows!\""
   ]
  },
  {
   "cell_type": "code",
   "execution_count": 23,
   "id": "b8ca209c",
   "metadata": {},
   "outputs": [
    {
     "name": "stdout",
     "output_type": "stream",
     "text": [
      "Accuracy of the 90/10 model on invariance perturbed data: 0.8941318814277072\n"
     ]
    }
   ],
   "source": [
    "pred_inv = pd.read_csv(\"../../data/predictions/invariance_predictions.csv\")\n",
    "\n",
    "acc_inv = accuracy_score(true90[\"label\"], pred_inv[\"predicted_sentiment\"])\n",
    "print(f\"Accuracy of the 90/10 model on invariance perturbed data: {acc_inv}\")"
   ]
  },
  {
   "cell_type": "code",
   "execution_count": 22,
   "id": "31e3c379",
   "metadata": {},
   "outputs": [
    {
     "name": "stdout",
     "output_type": "stream",
     "text": [
      "Accuracy of the 90/10 model on directional expectation perturbed data: 0.9762048800161323\n"
     ]
    }
   ],
   "source": [
    "pred_dir = pd.read_csv(\"../../data/predictions/direxp_predictions.csv\")\n",
    "\n",
    "acc_dir = accuracy_score(true90[\"label\"], pred_dir[\"predicted_sentiment\"])\n",
    "print(f\"Accuracy of the 90/10 model on directional expectation perturbed data: {acc_dir}\")"
   ]
  },
  {
   "cell_type": "code",
   "execution_count": 7,
   "id": "bb7f09db",
   "metadata": {},
   "outputs": [
    {
     "name": "stdout",
     "output_type": "stream",
     "text": [
      "Negative Class Accuracy (label=0): 0.9547\n",
      "Positive Class Accuracy (label=1): 0.9409\n"
     ]
    }
   ],
   "source": [
    "true_labels=true90[\"label\"]\n",
    "all_predictions=pred90[\"predicted_sentiment\"]\n",
    "\n",
    "overall_acc = accuracy_score(true_labels, all_predictions)\n",
    "\n",
    "neg_indices = [i for i, label in enumerate(true_labels) if label == 0]\n",
    "neg_acc = accuracy_score(\n",
    "    [true_labels[i] for i in neg_indices],\n",
    "    [all_predictions[i] for i in neg_indices]\n",
    ")\n",
    "\n",
    "pos_indices = [i for i, label in enumerate(true_labels) if label == 1]\n",
    "pos_acc = accuracy_score(\n",
    "    [true_labels[i] for i in pos_indices],\n",
    "    [all_predictions[i] for i in pos_indices]\n",
    ")\n",
    "\n",
    "\n",
    "print(f\"Negative Class Accuracy (label=0): {neg_acc:.4f}\")\n",
    "print(f\"Positive Class Accuracy (label=1): {pos_acc:.4f}\")"
   ]
  }
 ],
 "metadata": {
  "kernelspec": {
   "display_name": "myenv (Python 3.11)",
   "language": "python",
   "name": "myenv"
  },
  "language_info": {
   "codemirror_mode": {
    "name": "ipython",
    "version": 3
   },
   "file_extension": ".py",
   "mimetype": "text/x-python",
   "name": "python",
   "nbconvert_exporter": "python",
   "pygments_lexer": "ipython3",
   "version": "3.11.11"
  }
 },
 "nbformat": 4,
 "nbformat_minor": 5
}
