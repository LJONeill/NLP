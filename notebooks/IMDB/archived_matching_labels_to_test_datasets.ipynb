{
 "cells": [
  {
   "cell_type": "code",
   "execution_count": 1,
   "id": "cf3cc1d7",
   "metadata": {},
   "outputs": [],
   "source": [
    "import pandas as pd"
   ]
  },
  {
   "cell_type": "markdown",
   "id": "6fc37718",
   "metadata": {},
   "source": [
    "# Read in the cleaned and labelled data"
   ]
  },
  {
   "cell_type": "code",
   "execution_count": 2,
   "id": "e476c07c",
   "metadata": {},
   "outputs": [],
   "source": [
    "cleaned_labelled_data = pd.read_csv('../../data/IMDB_datasets/clean_imdb_dataset.csv')"
   ]
  },
  {
   "cell_type": "code",
   "execution_count": 3,
   "id": "3ba49517",
   "metadata": {},
   "outputs": [],
   "source": [
    "just_review_and_label = cleaned_labelled_data.iloc[:, 0:2]"
   ]
  },
  {
   "cell_type": "code",
   "execution_count": 33,
   "id": "380b2a14",
   "metadata": {},
   "outputs": [
    {
     "data": {
      "text/plain": [
       "49581"
      ]
     },
     "execution_count": 33,
     "metadata": {},
     "output_type": "execute_result"
    }
   ],
   "source": [
    "just_review_and_label['review'][0]\n",
    "\n",
    "just_review_and_label.shape[0]"
   ]
  },
  {
   "cell_type": "code",
   "execution_count": 36,
   "id": "33eec135",
   "metadata": {},
   "outputs": [
    {
     "name": "stderr",
     "output_type": "stream",
     "text": [
      "C:\\Users\\luke0\\AppData\\Local\\Temp\\ipykernel_11664\\1310866257.py:5: FutureWarning: ChainedAssignmentError: behaviour will change in pandas 3.0!\n",
      "You are setting values through chained assignment. Currently this works in certain cases, but when using Copy-on-Write (which will become the default behaviour in pandas 3.0) this will never work to update the original DataFrame or Series, because the intermediate object on which we are setting values will behave as a copy.\n",
      "A typical example is when you are setting values in a column of a DataFrame, like:\n",
      "\n",
      "df[\"col\"][row_indexer] = value\n",
      "\n",
      "Use `df.loc[row_indexer, \"col\"] = values` instead, to perform the assignment in a single step and ensure this keeps updating the original `df`.\n",
      "\n",
      "See the caveats in the documentation: https://pandas.pydata.org/pandas-docs/stable/user_guide/indexing.html#returning-a-view-versus-a-copy\n",
      "\n",
      "  just_review_and_label['words'][review_index] = just_review_and_label['review'][review_index].split()\n",
      "C:\\Users\\luke0\\AppData\\Local\\Temp\\ipykernel_11664\\1310866257.py:5: SettingWithCopyWarning: \n",
      "A value is trying to be set on a copy of a slice from a DataFrame\n",
      "\n",
      "See the caveats in the documentation: https://pandas.pydata.org/pandas-docs/stable/user_guide/indexing.html#returning-a-view-versus-a-copy\n",
      "  just_review_and_label['words'][review_index] = just_review_and_label['review'][review_index].split()\n",
      "C:\\Users\\luke0\\AppData\\Local\\Temp\\ipykernel_11664\\1310866257.py:5: FutureWarning: Setting an item of incompatible dtype is deprecated and will raise an error in a future version of pandas. Value '['One', 'of', 'the', 'other', 'reviewers', 'has', 'mentioned', 'that', 'after', 'watching', 'just', '1', 'Oz', 'episode', 'youll', 'be', 'hooked', 'They', 'are', 'right', 'as', 'this', 'is', 'exactly', 'what', 'happened', 'with', 'mebr', 'The', 'first', 'thing', 'that', 'struck', 'me', 'about', 'Oz', 'was', 'its', 'brutality', 'and', 'unflinching', 'scenes', 'of', 'violence', 'which', 'set', 'in', 'right', 'from', 'the', 'word', 'GO', 'Trust', 'me', 'this', 'is', 'not', 'a', 'show', 'for', 'the', 'faint', 'hearted', 'or', 'timid', 'This', 'show', 'pulls', 'no', 'punches', 'with', 'regards', 'to', 'drugs', 'sex', 'or', 'violence', 'Its', 'is', 'hardcore', 'in', 'the', 'classic', 'use', 'of', 'the', 'wordbr', 'It', 'is', 'called', 'OZ', 'as', 'that', 'is', 'the', 'nickname', 'given', 'to', 'the', 'Oswald', 'Maximum', 'Security', 'State', 'Penitentary', 'It', 'focuses', 'mainly', 'on', 'Emerald', 'City', 'an', 'experimental', 'section', 'of', 'the', 'prison', 'where', 'all', 'the', 'cells', 'have', 'glass', 'fronts', 'and', 'face', 'inwards', 'so', 'privacy', 'is', 'not', 'high', 'on', 'the', 'agenda', 'Em', 'City', 'is', 'home', 'to', 'manyAryans', 'Muslims', 'gangstas', 'Latinos', 'Christians', 'Italians', 'Irish', 'and', 'moreso', 'scuffles', 'death', 'stares', 'dodgy', 'dealings', 'and', 'shady', 'agreements', 'are', 'never', 'far', 'awaybr', 'I', 'would', 'say', 'the', 'main', 'appeal', 'of', 'the', 'show', 'is', 'due', 'to', 'the', 'fact', 'that', 'it', 'goes', 'where', 'other', 'shows', 'wouldnt', 'dare', 'Forget', 'pretty', 'pictures', 'painted', 'for', 'mainstream', 'audiences', 'forget', 'charm', 'forget', 'romanceOZ', 'doesnt', 'mess', 'around', 'The', 'first', 'episode', 'I', 'ever', 'saw', 'struck', 'me', 'as', 'so', 'nasty', 'it', 'was', 'surreal', 'I', 'couldnt', 'say', 'I', 'was', 'ready', 'for', 'it', 'but', 'as', 'I', 'watched', 'more', 'I', 'developed', 'a', 'taste', 'for', 'Oz', 'and', 'got', 'accustomed', 'to', 'the', 'high', 'levels', 'of', 'graphic', 'violence', 'Not', 'just', 'violence', 'but', 'injustice', 'crooked', 'guards', 'wholl', 'be', 'sold', 'out', 'for', 'a', 'nickel', 'inmates', 'wholl', 'kill', 'on', 'order', 'and', 'get', 'away', 'with', 'it', 'well', 'mannered', 'middle', 'class', 'inmates', 'being', 'turned', 'into', 'prison', 'bitches', 'due', 'to', 'their', 'lack', 'of', 'street', 'skills', 'or', 'prison', 'experience', 'Watching', 'Oz', 'you', 'may', 'become', 'comfortable', 'with', 'what', 'is', 'uncomfortable', 'viewingthats', 'if', 'you', 'can', 'get', 'in', 'touch', 'with', 'your', 'darker', 'side']' has dtype incompatible with int64, please explicitly cast to a compatible dtype first.\n",
      "  just_review_and_label['words'][review_index] = just_review_and_label['review'][review_index].split()\n"
     ]
    }
   ],
   "source": [
    "just_review_and_label['words'] = [0 for _ in range(just_review_and_label.shape[0])]\n",
    "\n",
    "\n",
    "for review_index in range(just_review_and_label.shape[0]):\n",
    "    just_review_and_label['words'][review_index] = just_review_and_label['review'][review_index].split()"
   ]
  },
  {
   "cell_type": "code",
   "execution_count": 37,
   "id": "4276a908",
   "metadata": {},
   "outputs": [
    {
     "data": {
      "text/html": [
       "<div>\n",
       "<style scoped>\n",
       "    .dataframe tbody tr th:only-of-type {\n",
       "        vertical-align: middle;\n",
       "    }\n",
       "\n",
       "    .dataframe tbody tr th {\n",
       "        vertical-align: top;\n",
       "    }\n",
       "\n",
       "    .dataframe thead th {\n",
       "        text-align: right;\n",
       "    }\n",
       "</style>\n",
       "<table border=\"1\" class=\"dataframe\">\n",
       "  <thead>\n",
       "    <tr style=\"text-align: right;\">\n",
       "      <th></th>\n",
       "      <th>review</th>\n",
       "      <th>sentiment</th>\n",
       "      <th>words</th>\n",
       "    </tr>\n",
       "  </thead>\n",
       "  <tbody>\n",
       "    <tr>\n",
       "      <th>0</th>\n",
       "      <td>One of the other reviewers has mentioned that ...</td>\n",
       "      <td>positive</td>\n",
       "      <td>[One, of, the, other, reviewers, has, mentione...</td>\n",
       "    </tr>\n",
       "    <tr>\n",
       "      <th>1</th>\n",
       "      <td>A wonderful little production   The filming te...</td>\n",
       "      <td>positive</td>\n",
       "      <td>[A, wonderful, little, production, The, filmin...</td>\n",
       "    </tr>\n",
       "    <tr>\n",
       "      <th>2</th>\n",
       "      <td>I thought this was a wonderful way to spend ti...</td>\n",
       "      <td>positive</td>\n",
       "      <td>[I, thought, this, was, a, wonderful, way, to,...</td>\n",
       "    </tr>\n",
       "    <tr>\n",
       "      <th>3</th>\n",
       "      <td>Basically theres a family where a little boy J...</td>\n",
       "      <td>negative</td>\n",
       "      <td>[Basically, theres, a, family, where, a, littl...</td>\n",
       "    </tr>\n",
       "    <tr>\n",
       "      <th>4</th>\n",
       "      <td>Petter Matteis Love in the Time of Money is a ...</td>\n",
       "      <td>positive</td>\n",
       "      <td>[Petter, Matteis, Love, in, the, Time, of, Mon...</td>\n",
       "    </tr>\n",
       "    <tr>\n",
       "      <th>...</th>\n",
       "      <td>...</td>\n",
       "      <td>...</td>\n",
       "      <td>...</td>\n",
       "    </tr>\n",
       "    <tr>\n",
       "      <th>49576</th>\n",
       "      <td>I thought this movie did a down right good job...</td>\n",
       "      <td>positive</td>\n",
       "      <td>[I, thought, this, movie, did, a, down, right,...</td>\n",
       "    </tr>\n",
       "    <tr>\n",
       "      <th>49577</th>\n",
       "      <td>Bad plot bad dialogue bad acting idiotic direc...</td>\n",
       "      <td>negative</td>\n",
       "      <td>[Bad, plot, bad, dialogue, bad, acting, idioti...</td>\n",
       "    </tr>\n",
       "    <tr>\n",
       "      <th>49578</th>\n",
       "      <td>I am a Catholic taught in parochial elementary...</td>\n",
       "      <td>negative</td>\n",
       "      <td>[I, am, a, Catholic, taught, in, parochial, el...</td>\n",
       "    </tr>\n",
       "    <tr>\n",
       "      <th>49579</th>\n",
       "      <td>Im going to have to disagree with the previous...</td>\n",
       "      <td>negative</td>\n",
       "      <td>[Im, going, to, have, to, disagree, with, the,...</td>\n",
       "    </tr>\n",
       "    <tr>\n",
       "      <th>49580</th>\n",
       "      <td>No one expects the Star Trek movies to be high...</td>\n",
       "      <td>negative</td>\n",
       "      <td>[No, one, expects, the, Star, Trek, movies, to...</td>\n",
       "    </tr>\n",
       "  </tbody>\n",
       "</table>\n",
       "<p>49581 rows × 3 columns</p>\n",
       "</div>"
      ],
      "text/plain": [
       "                                                  review sentiment  \\\n",
       "0      One of the other reviewers has mentioned that ...  positive   \n",
       "1      A wonderful little production   The filming te...  positive   \n",
       "2      I thought this was a wonderful way to spend ti...  positive   \n",
       "3      Basically theres a family where a little boy J...  negative   \n",
       "4      Petter Matteis Love in the Time of Money is a ...  positive   \n",
       "...                                                  ...       ...   \n",
       "49576  I thought this movie did a down right good job...  positive   \n",
       "49577  Bad plot bad dialogue bad acting idiotic direc...  negative   \n",
       "49578  I am a Catholic taught in parochial elementary...  negative   \n",
       "49579  Im going to have to disagree with the previous...  negative   \n",
       "49580  No one expects the Star Trek movies to be high...  negative   \n",
       "\n",
       "                                                   words  \n",
       "0      [One, of, the, other, reviewers, has, mentione...  \n",
       "1      [A, wonderful, little, production, The, filmin...  \n",
       "2      [I, thought, this, was, a, wonderful, way, to,...  \n",
       "3      [Basically, theres, a, family, where, a, littl...  \n",
       "4      [Petter, Matteis, Love, in, the, Time, of, Mon...  \n",
       "...                                                  ...  \n",
       "49576  [I, thought, this, movie, did, a, down, right,...  \n",
       "49577  [Bad, plot, bad, dialogue, bad, acting, idioti...  \n",
       "49578  [I, am, a, Catholic, taught, in, parochial, el...  \n",
       "49579  [Im, going, to, have, to, disagree, with, the,...  \n",
       "49580  [No, one, expects, the, Star, Trek, movies, to...  \n",
       "\n",
       "[49581 rows x 3 columns]"
      ]
     },
     "execution_count": 37,
     "metadata": {},
     "output_type": "execute_result"
    }
   ],
   "source": [
    "just_review_and_label"
   ]
  },
  {
   "cell_type": "markdown",
   "id": "3f4c777e",
   "metadata": {},
   "source": [
    "# Read in each of the three cleaned and NE tagged data"
   ]
  },
  {
   "cell_type": "code",
   "execution_count": 26,
   "id": "21dc115f",
   "metadata": {},
   "outputs": [],
   "source": [
    "def read_conll_file(path):\n",
    "    \"\"\"\n",
    "    read in conll file\n",
    "    \n",
    "    :param path: path to read from\n",
    "    :returns: list with sequences of words and labels for each sentence\n",
    "    \"\"\"\n",
    "    data = []\n",
    "    current_words = []\n",
    "    current_tags = []\n",
    "\n",
    "    for line in open(path, encoding='utf-8'):\n",
    "        line = line.strip()\n",
    "\n",
    "        if line:\n",
    "            if line[0] == '#':\n",
    "                continue # skip comments\n",
    "            tok = line.split('\\t')\n",
    "\n",
    "            current_words.append(tok[1])\n",
    "            current_tags.append(tok[2])\n",
    "        else:\n",
    "            if current_words:  # skip empty lines\n",
    "                data.append((current_words, current_tags))\n",
    "            current_words = []\n",
    "            current_tags = []\n",
    "\n",
    "    # check for last one\n",
    "    if current_tags != []:\n",
    "        data.append((current_words, current_tags))\n",
    "    return data"
   ]
  },
  {
   "cell_type": "code",
   "execution_count": null,
   "id": "913383cc",
   "metadata": {},
   "outputs": [],
   "source": [
    "test_10 = read_conll_file('../../data/imdb_test_train_datasets/test_tagged/test_9010_tagged_output.iob2')\n",
    "\n",
    "test_50 = read_conll_file('../../data/imdb_test_train_datasets/test_tagged/test_5050_tagged_output.iob2')\n",
    "\n",
    "test_90 = read_conll_file('../../data/imdb_test_train_datasets/test_tagged/test_1090_tagged_output.iob2')"
   ]
  },
  {
   "cell_type": "code",
   "execution_count": 28,
   "id": "14399de4",
   "metadata": {},
   "outputs": [],
   "source": [
    "test_10_df = pd.DataFrame(test_10, columns = ['words', 'ne_tags'])\n",
    "test_50_df = pd.DataFrame(test_50, columns = ['words', 'ne_tags'])\n",
    "test_90_df = pd.DataFrame(test_90, columns = ['words', 'ne_tags'])"
   ]
  },
  {
   "cell_type": "code",
   "execution_count": 29,
   "id": "be78206c",
   "metadata": {},
   "outputs": [],
   "source": [
    "def prepare_space_for_sentiment(tagged_dataframe):\n",
    "\n",
    "    size = tagged_dataframe.shape[0]\n",
    "\n",
    "    tagged_dataframe['sentiment'] = [0 for _ in range(size)]\n",
    "    tagged_dataframe['review'] = [0 for _ in range(size)]\n",
    "\n",
    "    for point in range(size):\n",
    "        tagged_dataframe['review'][point] = ' '.join(tagged_dataframe['words'][point])\n",
    "\n",
    "    prepared_dataframe = tagged_dataframe\n",
    "\n",
    "    return prepared_dataframe\n",
    "    "
   ]
  },
  {
   "cell_type": "code",
   "execution_count": 30,
   "id": "3d0fe14a",
   "metadata": {},
   "outputs": [
    {
     "name": "stderr",
     "output_type": "stream",
     "text": [
      "C:\\Users\\luke0\\AppData\\Local\\Temp\\ipykernel_11664\\4032396392.py:9: FutureWarning: ChainedAssignmentError: behaviour will change in pandas 3.0!\n",
      "You are setting values through chained assignment. Currently this works in certain cases, but when using Copy-on-Write (which will become the default behaviour in pandas 3.0) this will never work to update the original DataFrame or Series, because the intermediate object on which we are setting values will behave as a copy.\n",
      "A typical example is when you are setting values in a column of a DataFrame, like:\n",
      "\n",
      "df[\"col\"][row_indexer] = value\n",
      "\n",
      "Use `df.loc[row_indexer, \"col\"] = values` instead, to perform the assignment in a single step and ensure this keeps updating the original `df`.\n",
      "\n",
      "See the caveats in the documentation: https://pandas.pydata.org/pandas-docs/stable/user_guide/indexing.html#returning-a-view-versus-a-copy\n",
      "\n",
      "  tagged_dataframe['review'][point] = ' '.join(tagged_dataframe['words'][point])\n",
      "C:\\Users\\luke0\\AppData\\Local\\Temp\\ipykernel_11664\\4032396392.py:9: SettingWithCopyWarning: \n",
      "A value is trying to be set on a copy of a slice from a DataFrame\n",
      "\n",
      "See the caveats in the documentation: https://pandas.pydata.org/pandas-docs/stable/user_guide/indexing.html#returning-a-view-versus-a-copy\n",
      "  tagged_dataframe['review'][point] = ' '.join(tagged_dataframe['words'][point])\n",
      "C:\\Users\\luke0\\AppData\\Local\\Temp\\ipykernel_11664\\4032396392.py:9: FutureWarning: Setting an item of incompatible dtype is deprecated and will raise an error in a future version of pandas. Value 'Poorly done political actioner Badly photographed acted and directed Every single scene is underlighted including those very few that are shot during the daytime It doesnt matter what the location is At an important conference in the White House no lights are on and the only available lighting is a gloomy blue that is filtered through a few windows The primier of China conducts an earthshattering phone conversation under conditions of such intense chiaroscuro that he should be contemplating a bust of Homer in a Rembrandt painting Honest Its as if he had a tiny spotlight on his face and was otherwise in total darkness The slow motion deaths are by now obligatory' has dtype incompatible with int64, please explicitly cast to a compatible dtype first.\n",
      "  tagged_dataframe['review'][point] = ' '.join(tagged_dataframe['words'][point])\n"
     ]
    }
   ],
   "source": [
    "test_10_prepped = prepare_space_for_sentiment(test_10_df)"
   ]
  },
  {
   "cell_type": "code",
   "execution_count": 31,
   "id": "c29e8c29",
   "metadata": {},
   "outputs": [
    {
     "name": "stderr",
     "output_type": "stream",
     "text": [
      "C:\\Users\\luke0\\AppData\\Local\\Temp\\ipykernel_11664\\4032396392.py:9: FutureWarning: ChainedAssignmentError: behaviour will change in pandas 3.0!\n",
      "You are setting values through chained assignment. Currently this works in certain cases, but when using Copy-on-Write (which will become the default behaviour in pandas 3.0) this will never work to update the original DataFrame or Series, because the intermediate object on which we are setting values will behave as a copy.\n",
      "A typical example is when you are setting values in a column of a DataFrame, like:\n",
      "\n",
      "df[\"col\"][row_indexer] = value\n",
      "\n",
      "Use `df.loc[row_indexer, \"col\"] = values` instead, to perform the assignment in a single step and ensure this keeps updating the original `df`.\n",
      "\n",
      "See the caveats in the documentation: https://pandas.pydata.org/pandas-docs/stable/user_guide/indexing.html#returning-a-view-versus-a-copy\n",
      "\n",
      "  tagged_dataframe['review'][point] = ' '.join(tagged_dataframe['words'][point])\n",
      "C:\\Users\\luke0\\AppData\\Local\\Temp\\ipykernel_11664\\4032396392.py:9: SettingWithCopyWarning: \n",
      "A value is trying to be set on a copy of a slice from a DataFrame\n",
      "\n",
      "See the caveats in the documentation: https://pandas.pydata.org/pandas-docs/stable/user_guide/indexing.html#returning-a-view-versus-a-copy\n",
      "  tagged_dataframe['review'][point] = ' '.join(tagged_dataframe['words'][point])\n",
      "C:\\Users\\luke0\\AppData\\Local\\Temp\\ipykernel_11664\\4032396392.py:9: FutureWarning: Setting an item of incompatible dtype is deprecated and will raise an error in a future version of pandas. Value 'Poorly done political actioner Badly photographed acted and directed Every single scene is underlighted including those very few that are shot during the daytime It doesnt matter what the location is At an important conference in the White House no lights are on and the only available lighting is a gloomy blue that is filtered through a few windows The primier of China conducts an earthshattering phone conversation under conditions of such intense chiaroscuro that he should be contemplating a bust of Homer in a Rembrandt painting Honest Its as if he had a tiny spotlight on his face and was otherwise in total darkness The slow motion deaths are by now obligatory' has dtype incompatible with int64, please explicitly cast to a compatible dtype first.\n",
      "  tagged_dataframe['review'][point] = ' '.join(tagged_dataframe['words'][point])\n"
     ]
    }
   ],
   "source": [
    "test_50_prepped = prepare_space_for_sentiment(test_50_df)"
   ]
  },
  {
   "cell_type": "code",
   "execution_count": 32,
   "id": "bb2c6870",
   "metadata": {},
   "outputs": [
    {
     "name": "stderr",
     "output_type": "stream",
     "text": [
      "C:\\Users\\luke0\\AppData\\Local\\Temp\\ipykernel_11664\\4032396392.py:9: FutureWarning: ChainedAssignmentError: behaviour will change in pandas 3.0!\n",
      "You are setting values through chained assignment. Currently this works in certain cases, but when using Copy-on-Write (which will become the default behaviour in pandas 3.0) this will never work to update the original DataFrame or Series, because the intermediate object on which we are setting values will behave as a copy.\n",
      "A typical example is when you are setting values in a column of a DataFrame, like:\n",
      "\n",
      "df[\"col\"][row_indexer] = value\n",
      "\n",
      "Use `df.loc[row_indexer, \"col\"] = values` instead, to perform the assignment in a single step and ensure this keeps updating the original `df`.\n",
      "\n",
      "See the caveats in the documentation: https://pandas.pydata.org/pandas-docs/stable/user_guide/indexing.html#returning-a-view-versus-a-copy\n",
      "\n",
      "  tagged_dataframe['review'][point] = ' '.join(tagged_dataframe['words'][point])\n",
      "C:\\Users\\luke0\\AppData\\Local\\Temp\\ipykernel_11664\\4032396392.py:9: SettingWithCopyWarning: \n",
      "A value is trying to be set on a copy of a slice from a DataFrame\n",
      "\n",
      "See the caveats in the documentation: https://pandas.pydata.org/pandas-docs/stable/user_guide/indexing.html#returning-a-view-versus-a-copy\n",
      "  tagged_dataframe['review'][point] = ' '.join(tagged_dataframe['words'][point])\n",
      "C:\\Users\\luke0\\AppData\\Local\\Temp\\ipykernel_11664\\4032396392.py:9: FutureWarning: Setting an item of incompatible dtype is deprecated and will raise an error in a future version of pandas. Value 'Poorly done political actioner Badly photographed acted and directed Every single scene is underlighted including those very few that are shot during the daytime It doesnt matter what the location is At an important conference in the White House no lights are on and the only available lighting is a gloomy blue that is filtered through a few windows The primier of China conducts an earthshattering phone conversation under conditions of such intense chiaroscuro that he should be contemplating a bust of Homer in a Rembrandt painting Honest Its as if he had a tiny spotlight on his face and was otherwise in total darkness The slow motion deaths are by now obligatory' has dtype incompatible with int64, please explicitly cast to a compatible dtype first.\n",
      "  tagged_dataframe['review'][point] = ' '.join(tagged_dataframe['words'][point])\n"
     ]
    }
   ],
   "source": [
    "test_90_prepped = prepare_space_for_sentiment(test_90_df)"
   ]
  },
  {
   "cell_type": "markdown",
   "id": "0fdb78eb",
   "metadata": {},
   "source": [
    "What's the shortest review of our test set?"
   ]
  },
  {
   "cell_type": "code",
   "execution_count": 45,
   "id": "6e95651c",
   "metadata": {},
   "outputs": [
    {
     "name": "stdout",
     "output_type": "stream",
     "text": [
      "46\n",
      "44\n",
      "30\n",
      "29\n",
      "26\n",
      "25\n",
      "21\n",
      "10\n",
      "10\n"
     ]
    }
   ],
   "source": [
    "y = just_review_and_label\n",
    "y_size = y.shape[0]\n",
    "\n",
    "shortest_review = 100\n",
    "\n",
    "for y_index in range(y_size):\n",
    "    y_words = len(y['words'][y_index])\n",
    "\n",
    "    if y_words < shortest_review:\n",
    "        shortest_review = y_words\n",
    "        print(shortest_review)\n",
    "\n",
    "length_to_check = shortest_review\n",
    "\n",
    "print(length_to_check)\n"
   ]
  },
  {
   "cell_type": "code",
   "execution_count": 51,
   "id": "db2fad31",
   "metadata": {},
   "outputs": [
    {
     "name": "stdout",
     "output_type": "stream",
     "text": [
      "0\n"
     ]
    }
   ],
   "source": [
    "y = just_review_and_label\n",
    "y_size = y.shape[0]\n",
    "\n",
    "a=0\n",
    "\n",
    "for second_index in range(a+1,y_size):\n",
    "    first_y_words = y['words'][a]\n",
    "    second_y_words = y['words'][second_index]\n",
    "\n",
    "    if first_y_words == second_y_words:\n",
    "        print(first_y_words)\n",
    "        a+=1\n",
    "\n",
    "\n",
    "print(a)\n"
   ]
  },
  {
   "cell_type": "markdown",
   "id": "e5076763",
   "metadata": {},
   "source": [
    "Where are duplicates happening"
   ]
  },
  {
   "cell_type": "code",
   "execution_count": 53,
   "id": "8db85ba8",
   "metadata": {},
   "outputs": [
    {
     "name": "stdout",
     "output_type": "stream",
     "text": [
      "['Kurt', 'Russell', 'is', 'at', 'his', 'best', 'as', 'the', 'man', 'who', 'lives', 'off', 'his', 'past', 'glories', 'Reno', 'Hightower', 'Robin', 'Williams', 'is', 'his', 'polar', 'opposite', 'in', 'a', 'rare', 'low', 'key', 'performance', 'as', 'Jack', 'Dundee', 'He', 'dropped', 'the', 'Big', 'Pass', 'in', 'more', 'ways', 'than', 'onebr', 'Youll', 'see', 'some', 'of', 'the', 'most', 'quotable', 'scenes', 'ever', 'put', 'into', 'one', 'film', 'as', 'Jack', 'hisses', 'at', 'a', 'rat', 'Reno', 'poses', 'and', 'the', 'call', 'of', 'the', 'caribou', 'goes', 'outbr', 'Dont', 'miss', 'this', 'classic', 'that', 'isnt', 'scared', 'to', 'show', 'football', 'in', 'the', 'mud', 'the', 'way', 'it', 'should', 'be', 'played', 'note', 'to', 'the', 'NFL']\n",
      "['Ah', 'yet', 'another', 'Seagal', 'movieIn', 'no', 'less', 'than', 'a', 'few', 'mere', 'months', 'arrive', 'to', 'populate', 'the', 'video', 'store', 'shelvesAs', 'bad', 'as', 'SubmergedNoBut', 'that', 'is', 'not', 'saying', 'muchLike', 'perfume', 'on', 'a', 'pigbr', 'Seagal', 'is', 'professional', 'thief', 'who', 'wants', 'to', 'quitbut', 'goes', 'for', 'one', 'last', 'job', 'only', 'to', 'be', 'doublecrossed', 'by', 'his', 'bossHe', 'lands', 'in', 'Prison', 'and', 'is', 'befriended', 'by', 'a', 'Gangster', 'who', 'helps', 'him', 'to', 'break', 'out', 'and', 'seek', 'paybackbr', 'Its', 'good', 'to', 'see', 'Seagal', 'finally', 'not', 'playing', 'an', 'agentcopor', 'what', 'he', 'usually', 'playsWe', 'actually', 'get', 'a', 'USA', 'Location', 'in', 'Las', 'Vegas', 'it', 'seems', 'Then', 'an', 'eastern', 'European', 'territory', 'as', 'usual', 'There']\n",
      "['I', 'have', 'never', 'seen', 'the', 'first', 'Killjoy', 'film', 'and', 'I', 'have', 'also', 'never', 'heard', 'a', 'good', 'thing', 'said', 'about', 'it', 'So', 'I', 'see', 'Killjoy', '2', 'in', 'the', 'local', 'Blockbusters', 'and', 'pick', 'it', 'up', 'and', 'look', 'at', 'the', 'back', 'Starring', 'Trent', 'Haaga', 'and', 'Debbie', 'Rochon', 'it', 'boasts', 'Now', 'being', 'the', 'massive', 'Troma', 'fan', 'that', 'I', 'am', 'there', 'is', 'no', 'way', 'Im', 'not', 'going', 'to', 'rent', 'this', 'film', 'out', 'how', 'can', 'it', 'possibly', 'be', 'bad', 'with', 'these', 'two', 'in', 'it', 'Oh', 'how', 'wrong', 'I', 'was', 'Even', 'Trent', 'and', 'Debbie', 'cant', 'save', 'this', 'excuse', 'of', 'a', 'film', 'from', 'being', 'as', 'bad', 'as', 'it', 'truly', 'is', 'Trent', 'quite', 'frankly', 'stinks', 'as', 'Killjoy', 'although', 'this', 'probably', 'is', 'more', 'the', 'fault', 'of']\n",
      "['Tourist', 'Trap', 'is', 'a', 'genuinely', 'spooky', 'lowbudget', 'horror', 'film', 'that', 'will', 'surely', 'satisfy', 'horror', 'fansIt', 'contains', 'extremely', 'strange', 'atmosphere', 'and', 'there', 'are', 'some', 'quite', 'unnerving', 'moments', 'of', 'total', 'dread', 'and', 'fearSome', 'scenes', 'are', 'downright', 'bizarre', 'for', 'example', 'there', 'is', 'one', 'scene', 'when', 'Chuck', 'Connors', 'sits', 'down', 'to', 'have', 'dinner', 'with', 'a', 'mannequin', 'that', 'comes', 'to', 'life', 'and', 'starts', 'conversing', 'with', 'him', 'before', 'its', 'head', 'falls', 'offThere', 'is', 'very', 'little', 'gorebut', 'the', 'violence', 'is', 'quite', 'strong', 'for', 'PGrated', 'horror', 'filmThe', 'mannequins', 'look', 'very', 'sinister', 'and', 'the', 'climax', 'is', 'horrifyingDavid', 'Schmoeller', 'returned', 'to', 'make', 'several', 'other', 'genre', 'films', 'including', 'CrawlspacePuppet', 'Master', 'and', 'NetherworldStill']\n",
      "['How', 'Tasty', 'Was', 'My', 'Little', 'Frenchman', 'tells', 'a', 'story', 'that', 'is', 'alternately', 'sad', 'scary', 'and', 'lifeaffirming', 'It', 'ends', 'with', 'a', 'brutal', 'finale', 'that', 'you', 'knew', 'had', 'to', 'happen', 'even', 'though', 'you', 'were', 'hopingmaybe', 'even', 'beleivingit', 'wouldntbr', 'Utlimately', 'this', 'is', 'the', 'films', 'greatest', 'strength', 'it', 'expertly', 'plays', 'with', 'your', 'emotions', 'and', 'expectations', 'then', 'drops', 'a', 'bomb', 'on', 'youbr', 'I', 'saw', 'this', 'in', 'a', 'film', 'theory', 'class', 'at', 'USC', 'back', 'in', 'the', 'mid90s', 'It', 'is', 'not', 'easy', 'to', 'find', 'but', 'is', 'definitely', 'worth', 'hunting', 'for']\n",
      "['The', 'Three', 'Stooges', 'has', 'always', 'been', 'some', 'of', 'the', 'many', 'actors', 'that', 'I', 'have', 'loved', 'I', 'love', 'just', 'about', 'every', 'one', 'of', 'the', 'shorts', 'that', 'they', 'have', 'made', 'I', 'love', 'all', 'six', 'of', 'the', 'Stooges', 'Curly', 'Shemp', 'Moe', 'Larry', 'Joe', 'and', 'Curly', 'Joe', 'All', 'of', 'the', 'shorts', 'are', 'hilarious', 'and', 'also', 'star', 'many', 'other', 'great', 'actors', 'and', 'actresses', 'which', 'a', 'lot', 'of', 'them', 'was', 'in', 'many', 'of', 'the', 'shorts', 'In', 'My', 'opinion', 'The', 'Three', 'Stooges', 'is', 'some', 'of', 'the', 'greatest', 'actors', 'ever', 'and', 'is', 'the', 'all', 'time', 'funniest', 'comedy', 'team', 'One', 'of', 'My', 'favorite', 'Stooges', 'shorts', 'with', 'Shemp', 'is', 'none', 'other', 'than', 'Husbands', 'Beware', 'All', 'appearing', 'in', 'this', 'short', 'are', 'the', 'beautiful']\n",
      "Successful check count: 4967\n"
     ]
    }
   ],
   "source": [
    "x = just_review_and_label\n",
    "y = test_10_df\n",
    "\n",
    "x_size = x.shape[0]\n",
    "y_size = y.shape[0]\n",
    "\n",
    "length_to_check = 50\n",
    "\n",
    "success_checks_performed = 0\n",
    "\n",
    "for y_index in range(y_size):\n",
    "    y_words = y['words'][y_index]\n",
    "    double = 0\n",
    "\n",
    "    \n",
    "\n",
    "    for x_index in range(x_size):\n",
    "        x_words = x['words'][x_index]\n",
    "        \n",
    "\n",
    "        if x_words[0:length_to_check] == y_words[0:length_to_check]:\n",
    "            double+=1\n",
    "            if double == 2:\n",
    "                print(y_words)\n",
    "            success_checks_performed +=1\n",
    "\n",
    "print('Successful check count:', success_checks_performed)\n"
   ]
  },
  {
   "cell_type": "markdown",
   "id": "cd2e632c",
   "metadata": {},
   "source": [
    "how large can length stay whilst doing all 4959 checks?\n",
    "\n",
    "100 length did 4882 successful checks\n",
    "\n",
    "weirdly, 50 did 4967, implying maybe 8 overlaps"
   ]
  },
  {
   "cell_type": "markdown",
   "id": "a0c8357a",
   "metadata": {},
   "source": [
    "# Function that checks for equivalent reviews, and adds the labels to the tagged data so that we have 3 Cleaned, Tagged and Labelled test data sets"
   ]
  },
  {
   "cell_type": "code",
   "execution_count": 83,
   "id": "b2a95894",
   "metadata": {},
   "outputs": [],
   "source": [
    "def check_for_twin_reviews(df_cleaned_and_tagged, df_cleaned_and_labelled):\n",
    "\n",
    "    x = df_cleaned_and_tagged\n",
    "    y = df_cleaned_and_labelled\n",
    "\n",
    "    z = df_cleaned_and_tagged\n",
    "\n",
    "    labelled_size = y.shape[0]\n",
    "    tagged_size = x.shape[0]\n",
    "\n",
    "    for tagged_index in range(tagged_size):\n",
    "        tagged_words = x['words'][tagged_index]\n",
    "        cropped_size = len(tagged_words)\n",
    "\n",
    "        for labelled_index in range(labelled_size):\n",
    "            labelled_words = y['words'][labelled_index]\n",
    "    \n",
    "            if tagged_words == labelled_words[0:cropped_size]:\n",
    "                z['sentiment'][tagged_index] = y['sentiment'][labelled_index]\n",
    "\n",
    "                break\n",
    "\n",
    "\n",
    "    return z"
   ]
  },
  {
   "cell_type": "code",
   "execution_count": 84,
   "id": "0199c680",
   "metadata": {},
   "outputs": [],
   "source": [
    "test_10_tagged_labelled = check_for_twin_reviews(df_cleaned_and_labelled=just_review_and_label, df_cleaned_and_tagged=test_10_prepped)"
   ]
  },
  {
   "cell_type": "code",
   "execution_count": 73,
   "id": "f2562037",
   "metadata": {},
   "outputs": [],
   "source": [
    "def did_check_work(final_df):\n",
    "\n",
    "    uh_oh = 0\n",
    "    negs = 0\n",
    "    possies = 0\n",
    "    result = 'It flunked'\n",
    "\n",
    "    for sentiment in final_df['sentiment']:\n",
    "        if sentiment == 'negative':\n",
    "            negs+=1\n",
    "        elif sentiment == 'positive':\n",
    "            possies +=1\n",
    "        else:\n",
    "            uh_oh+=1\n",
    "\n",
    "    if uh_oh == 0:\n",
    "        result = 'It worked'\n",
    "\n",
    "\n",
    "    return (possies, negs, uh_oh, result)"
   ]
  },
  {
   "cell_type": "code",
   "execution_count": 81,
   "id": "f81167f6",
   "metadata": {},
   "outputs": [
    {
     "data": {
      "text/plain": [
       "(2489, 2470, 0, 'It worked')"
      ]
     },
     "execution_count": 81,
     "metadata": {},
     "output_type": "execute_result"
    }
   ],
   "source": [
    "did_check_work(final_df=test_10_tagged_labelled)"
   ]
  },
  {
   "cell_type": "code",
   "execution_count": 76,
   "id": "0f637f38",
   "metadata": {},
   "outputs": [],
   "source": [
    "test_50_tagged_labelled = check_for_twin_reviews(df_cleaned_and_labelled=just_review_and_label, df_cleaned_and_tagged=test_50_prepped)"
   ]
  },
  {
   "cell_type": "code",
   "execution_count": 82,
   "id": "25b5bb87",
   "metadata": {},
   "outputs": [
    {
     "data": {
      "text/plain": [
       "(2489, 2470, 0, 'It worked')"
      ]
     },
     "execution_count": 82,
     "metadata": {},
     "output_type": "execute_result"
    }
   ],
   "source": [
    "did_check_work(final_df=test_50_tagged_labelled)"
   ]
  },
  {
   "cell_type": "code",
   "execution_count": 78,
   "id": "a3c29d9a",
   "metadata": {},
   "outputs": [
    {
     "name": "stderr",
     "output_type": "stream",
     "text": [
      "C:\\Users\\luke0\\AppData\\Local\\Temp\\ipykernel_11664\\3186700650.py:19: FutureWarning: ChainedAssignmentError: behaviour will change in pandas 3.0!\n",
      "You are setting values through chained assignment. Currently this works in certain cases, but when using Copy-on-Write (which will become the default behaviour in pandas 3.0) this will never work to update the original DataFrame or Series, because the intermediate object on which we are setting values will behave as a copy.\n",
      "A typical example is when you are setting values in a column of a DataFrame, like:\n",
      "\n",
      "df[\"col\"][row_indexer] = value\n",
      "\n",
      "Use `df.loc[row_indexer, \"col\"] = values` instead, to perform the assignment in a single step and ensure this keeps updating the original `df`.\n",
      "\n",
      "See the caveats in the documentation: https://pandas.pydata.org/pandas-docs/stable/user_guide/indexing.html#returning-a-view-versus-a-copy\n",
      "\n",
      "  z['sentiment'][tagged_index] = y['sentiment'][labelled_index]\n",
      "C:\\Users\\luke0\\AppData\\Local\\Temp\\ipykernel_11664\\3186700650.py:19: SettingWithCopyWarning: \n",
      "A value is trying to be set on a copy of a slice from a DataFrame\n",
      "\n",
      "See the caveats in the documentation: https://pandas.pydata.org/pandas-docs/stable/user_guide/indexing.html#returning-a-view-versus-a-copy\n",
      "  z['sentiment'][tagged_index] = y['sentiment'][labelled_index]\n",
      "C:\\Users\\luke0\\AppData\\Local\\Temp\\ipykernel_11664\\3186700650.py:19: FutureWarning: Setting an item of incompatible dtype is deprecated and will raise an error in a future version of pandas. Value 'negative' has dtype incompatible with int64, please explicitly cast to a compatible dtype first.\n",
      "  z['sentiment'][tagged_index] = y['sentiment'][labelled_index]\n"
     ]
    }
   ],
   "source": [
    "test_90_tagged_labelled = check_for_twin_reviews(df_cleaned_and_labelled=just_review_and_label, df_cleaned_and_tagged=test_90_prepped)"
   ]
  },
  {
   "cell_type": "code",
   "execution_count": 79,
   "id": "5c18ae97",
   "metadata": {},
   "outputs": [
    {
     "data": {
      "text/plain": [
       "(2489, 2470, 0, 'It worked')"
      ]
     },
     "execution_count": 79,
     "metadata": {},
     "output_type": "execute_result"
    }
   ],
   "source": [
    "did_check_work(test_90_tagged_labelled)"
   ]
  },
  {
   "cell_type": "code",
   "execution_count": 80,
   "id": "34da58c0",
   "metadata": {},
   "outputs": [
    {
     "data": {
      "text/html": [
       "<div>\n",
       "<style scoped>\n",
       "    .dataframe tbody tr th:only-of-type {\n",
       "        vertical-align: middle;\n",
       "    }\n",
       "\n",
       "    .dataframe tbody tr th {\n",
       "        vertical-align: top;\n",
       "    }\n",
       "\n",
       "    .dataframe thead th {\n",
       "        text-align: right;\n",
       "    }\n",
       "</style>\n",
       "<table border=\"1\" class=\"dataframe\">\n",
       "  <thead>\n",
       "    <tr style=\"text-align: right;\">\n",
       "      <th></th>\n",
       "      <th>words</th>\n",
       "      <th>ne_tags</th>\n",
       "      <th>sentiment</th>\n",
       "      <th>review</th>\n",
       "    </tr>\n",
       "  </thead>\n",
       "  <tbody>\n",
       "    <tr>\n",
       "      <th>0</th>\n",
       "      <td>[Poorly, done, political, actioner, Badly, pho...</td>\n",
       "      <td>[O, O, O, O, O, O, O, O, O, O, O, O, O, O, O, ...</td>\n",
       "      <td>negative</td>\n",
       "      <td>Poorly done political actioner Badly photograp...</td>\n",
       "    </tr>\n",
       "    <tr>\n",
       "      <th>1</th>\n",
       "      <td>[Not, good, Mostly, because, you, dont, give, ...</td>\n",
       "      <td>[O, O, O, O, O, O, O, O, O, O, O, O, O, O, O, ...</td>\n",
       "      <td>negative</td>\n",
       "      <td>Not good Mostly because you dont give a damn a...</td>\n",
       "    </tr>\n",
       "    <tr>\n",
       "      <th>2</th>\n",
       "      <td>[FUTZ, is, the, only, show, preserved, from, t...</td>\n",
       "      <td>[O, O, O, O, O, O, O, O, O, O, O, O, B-LOC, I-...</td>\n",
       "      <td>positive</td>\n",
       "      <td>FUTZ is the only show preserved from the exper...</td>\n",
       "    </tr>\n",
       "    <tr>\n",
       "      <th>3</th>\n",
       "      <td>[Are, you, kidding, me, A, show, highlighting,...</td>\n",
       "      <td>[O, O, O, O, O, O, O, O, O, O, O, O, O, O, O, ...</td>\n",
       "      <td>negative</td>\n",
       "      <td>Are you kidding me A show highlighting someone...</td>\n",
       "    </tr>\n",
       "    <tr>\n",
       "      <th>4</th>\n",
       "      <td>[If, you, like, to, watch, movies, because, th...</td>\n",
       "      <td>[O, O, O, O, O, O, O, O, O, O, O, O, O, O, O, ...</td>\n",
       "      <td>negative</td>\n",
       "      <td>If you like to watch movies because they are p...</td>\n",
       "    </tr>\n",
       "    <tr>\n",
       "      <th>...</th>\n",
       "      <td>...</td>\n",
       "      <td>...</td>\n",
       "      <td>...</td>\n",
       "      <td>...</td>\n",
       "    </tr>\n",
       "    <tr>\n",
       "      <th>4954</th>\n",
       "      <td>[For, a, TV, movie, this, was, definately, wor...</td>\n",
       "      <td>[O, O, O, O, O, O, O, O, O, O, O, O, O, O, O, ...</td>\n",
       "      <td>positive</td>\n",
       "      <td>For a TV movie this was definately worth seein...</td>\n",
       "    </tr>\n",
       "    <tr>\n",
       "      <th>4955</th>\n",
       "      <td>[MILD, SPOILERSbr, In, this, wouldbe, satire, ...</td>\n",
       "      <td>[O, O, O, O, O, O, B-PER, O, O, O, O, O, O, O,...</td>\n",
       "      <td>negative</td>\n",
       "      <td>MILD SPOILERSbr In this wouldbe satire Chaplin...</td>\n",
       "    </tr>\n",
       "    <tr>\n",
       "      <th>4956</th>\n",
       "      <td>[When, evaluating, documentaries, that, focus,...</td>\n",
       "      <td>[O, O, O, O, O, O, O, O, O, O, O, O, O, O, O, ...</td>\n",
       "      <td>negative</td>\n",
       "      <td>When evaluating documentaries that focus a rel...</td>\n",
       "    </tr>\n",
       "    <tr>\n",
       "      <th>4957</th>\n",
       "      <td>[This, show, comes, up, with, interesting, loc...</td>\n",
       "      <td>[O, O, O, O, O, O, O, O, O, O, O, O, O, O, O, ...</td>\n",
       "      <td>negative</td>\n",
       "      <td>This show comes up with interesting locations ...</td>\n",
       "    </tr>\n",
       "    <tr>\n",
       "      <th>4958</th>\n",
       "      <td>[This, film, had, such, promise, What, a, grea...</td>\n",
       "      <td>[O, O, O, O, O, O, O, O, O, O, O, O, O, O, O, ...</td>\n",
       "      <td>negative</td>\n",
       "      <td>This film had such promise What a great idea a...</td>\n",
       "    </tr>\n",
       "  </tbody>\n",
       "</table>\n",
       "<p>4959 rows × 4 columns</p>\n",
       "</div>"
      ],
      "text/plain": [
       "                                                  words  \\\n",
       "0     [Poorly, done, political, actioner, Badly, pho...   \n",
       "1     [Not, good, Mostly, because, you, dont, give, ...   \n",
       "2     [FUTZ, is, the, only, show, preserved, from, t...   \n",
       "3     [Are, you, kidding, me, A, show, highlighting,...   \n",
       "4     [If, you, like, to, watch, movies, because, th...   \n",
       "...                                                 ...   \n",
       "4954  [For, a, TV, movie, this, was, definately, wor...   \n",
       "4955  [MILD, SPOILERSbr, In, this, wouldbe, satire, ...   \n",
       "4956  [When, evaluating, documentaries, that, focus,...   \n",
       "4957  [This, show, comes, up, with, interesting, loc...   \n",
       "4958  [This, film, had, such, promise, What, a, grea...   \n",
       "\n",
       "                                                ne_tags sentiment  \\\n",
       "0     [O, O, O, O, O, O, O, O, O, O, O, O, O, O, O, ...  negative   \n",
       "1     [O, O, O, O, O, O, O, O, O, O, O, O, O, O, O, ...  negative   \n",
       "2     [O, O, O, O, O, O, O, O, O, O, O, O, B-LOC, I-...  positive   \n",
       "3     [O, O, O, O, O, O, O, O, O, O, O, O, O, O, O, ...  negative   \n",
       "4     [O, O, O, O, O, O, O, O, O, O, O, O, O, O, O, ...  negative   \n",
       "...                                                 ...       ...   \n",
       "4954  [O, O, O, O, O, O, O, O, O, O, O, O, O, O, O, ...  positive   \n",
       "4955  [O, O, O, O, O, O, B-PER, O, O, O, O, O, O, O,...  negative   \n",
       "4956  [O, O, O, O, O, O, O, O, O, O, O, O, O, O, O, ...  negative   \n",
       "4957  [O, O, O, O, O, O, O, O, O, O, O, O, O, O, O, ...  negative   \n",
       "4958  [O, O, O, O, O, O, O, O, O, O, O, O, O, O, O, ...  negative   \n",
       "\n",
       "                                                 review  \n",
       "0     Poorly done political actioner Badly photograp...  \n",
       "1     Not good Mostly because you dont give a damn a...  \n",
       "2     FUTZ is the only show preserved from the exper...  \n",
       "3     Are you kidding me A show highlighting someone...  \n",
       "4     If you like to watch movies because they are p...  \n",
       "...                                                 ...  \n",
       "4954  For a TV movie this was definately worth seein...  \n",
       "4955  MILD SPOILERSbr In this wouldbe satire Chaplin...  \n",
       "4956  When evaluating documentaries that focus a rel...  \n",
       "4957  This show comes up with interesting locations ...  \n",
       "4958  This film had such promise What a great idea a...  \n",
       "\n",
       "[4959 rows x 4 columns]"
      ]
     },
     "execution_count": 80,
     "metadata": {},
     "output_type": "execute_result"
    }
   ],
   "source": [
    "test_50_tagged_labelled"
   ]
  },
  {
   "cell_type": "code",
   "execution_count": null,
   "id": "fcfff5ff",
   "metadata": {},
   "outputs": [],
   "source": []
  }
 ],
 "metadata": {
  "kernelspec": {
   "display_name": "Python 3",
   "language": "python",
   "name": "python3"
  },
  "language_info": {
   "codemirror_mode": {
    "name": "ipython",
    "version": 3
   },
   "file_extension": ".py",
   "mimetype": "text/x-python",
   "name": "python",
   "nbconvert_exporter": "python",
   "pygments_lexer": "ipython3",
   "version": "3.12.2"
  }
 },
 "nbformat": 4,
 "nbformat_minor": 5
}
