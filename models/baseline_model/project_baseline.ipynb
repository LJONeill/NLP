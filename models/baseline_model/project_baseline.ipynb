{
 "cells": [
  {
   "cell_type": "markdown",
   "metadata": {},
   "source": [
    "Project Baseline Model"
   ]
  },
  {
   "cell_type": "code",
   "execution_count": 4,
   "metadata": {},
   "outputs": [
    {
     "name": "stderr",
     "output_type": "stream",
     "text": [
      "c:\\Users\\luke0\\Software\\envs\\ads\\Lib\\site-packages\\tqdm\\auto.py:21: TqdmWarning: IProgress not found. Please update jupyter and ipywidgets. See https://ipywidgets.readthedocs.io/en/stable/user_install.html\n",
      "  from .autonotebook import tqdm as notebook_tqdm\n"
     ]
    }
   ],
   "source": [
    "from transformers import AutoModelForTokenClassification, TrainingArguments, Trainer, AutoTokenizer, AutoConfig, RobertaTokenizerFast, DataCollatorForTokenClassification\n",
    "import numpy as np\n",
    "import tqdm as notebook_tqdm\n",
    "from datasets import Dataset, DatasetDict\n",
    "import torch\n",
    "\n",
    "#from bert.bert_topic import ClassModel\n",
    "\n",
    "#all of the functions from the span_f1 file\n",
    "from span_f1 import readNlu, toSpans, getBegEnd, getLooseOverlap, getUnlabeled\n",
    "\n",
    "model_link = 'deepset/roberta-base-squad2'\n",
    "train_data_source = 'en_ewt-ud-train.iob2'\n",
    "dev_data_source = 'en_ewt-ud-dev.iob2'\n",
    "test_data_source = 'en_ewt-ud-test-masked.iob2'"
   ]
  },
  {
   "cell_type": "markdown",
   "metadata": {},
   "source": [
    "Read in raw data (to get sentences)"
   ]
  },
  {
   "cell_type": "code",
   "execution_count": 5,
   "metadata": {},
   "outputs": [],
   "source": [
    "def read_conll_file(path):\n",
    "    \"\"\"\n",
    "    read in conll file\n",
    "    \n",
    "    :param path: path to read from\n",
    "    :returns: list with sequences of words and labels for each sentence\n",
    "    \"\"\"\n",
    "    data = []\n",
    "    current_words = []\n",
    "    current_tags = []\n",
    "\n",
    "    for line in open(path, encoding='utf-8'):\n",
    "        line = line.strip()\n",
    "\n",
    "        if line:\n",
    "            if line[0] == '#':\n",
    "                continue # skip comments\n",
    "            tok = line.split('\\t')\n",
    "\n",
    "            current_words.append(tok[0])\n",
    "            current_tags.append(tok[1])\n",
    "        else:\n",
    "            if current_words:  # skip empty lines\n",
    "                data.append((current_words, current_tags))\n",
    "            current_words = []\n",
    "            current_tags = []\n",
    "\n",
    "    # check for last one\n",
    "    if current_tags != []:\n",
    "        data.append((current_words, current_tags))\n",
    "    return data"
   ]
  },
  {
   "cell_type": "code",
   "execution_count": 6,
   "metadata": {},
   "outputs": [],
   "source": [
    "train_data = read_conll_file(train_data_source)\n",
    "dev_data = read_conll_file(dev_data_source)\n",
    "test_data = read_conll_file(test_data_source)\n",
    "\n",
    "train_data_sentences = []\n",
    "\n",
    "for data_point in train_data:\n",
    "    train_data_sentences.append(data_point[1])\n",
    "\n",
    "dev_data_sentences = []\n",
    "\n",
    "for data_point in dev_data:\n",
    "    dev_data_sentences.append(data_point[1])\n",
    "\n",
    "test_data_sentences = []\n",
    "\n",
    "for data_point in test_data:\n",
    "    test_data_sentences.append(data_point[1])\n",
    "\n"
   ]
  },
  {
   "cell_type": "markdown",
   "metadata": {},
   "source": [
    "Read in the labels for the above sentences"
   ]
  },
  {
   "cell_type": "code",
   "execution_count": 7,
   "metadata": {},
   "outputs": [
    {
     "name": "stdout",
     "output_type": "stream",
     "text": [
      "{'I-LOC', 'B-LOC', 'O', 'I-ORG', 'B-ORG', 'I-PER', 'B-PER'}\n"
     ]
    }
   ],
   "source": [
    "#read in the label data, iob2 format\n",
    "train_data_labels = readNlu(train_data_source)\n",
    "dev_data_labels = readNlu(dev_data_source)\n",
    "test_data_labels = readNlu(test_data_source)\n",
    "\n",
    "#create the labels set\n",
    "label_set = set()\n",
    "\n",
    "for sentence in train_data_labels:\n",
    "    for label in sentence:\n",
    "        label_set.add(label)\n",
    "\n",
    "\n",
    "#not sure why this is useful, will delete later if we find no use\n",
    "label_list = list(label_set)\n",
    "\n",
    "nlabels = len(label_set)\n",
    "print(label_set)\n"
   ]
  },
  {
   "cell_type": "code",
   "execution_count": 8,
   "metadata": {},
   "outputs": [
    {
     "name": "stdout",
     "output_type": "stream",
     "text": [
      "{'I-LOC': 0, 'B-LOC': 1, 'O': 2, 'I-ORG': 3, 'B-ORG': 4, 'I-PER': 5, 'B-PER': 6}\n",
      "{0: 'I-LOC', 1: 'B-LOC', 2: 'O', 3: 'I-ORG', 4: 'B-ORG', 5: 'I-PER', 6: 'B-PER'}\n"
     ]
    },
    {
     "data": {
      "text/plain": [
       "2"
      ]
     },
     "execution_count": 8,
     "metadata": {},
     "output_type": "execute_result"
    }
   ],
   "source": [
    "# label mapping\n",
    "\n",
    "lab2idx = {lab: idx for idx, lab in enumerate(label_list)}\n",
    "\n",
    "idx2lab = {idx: lab for lab, idx in lab2idx.items()}\n",
    "print(lab2idx)\n",
    "print(idx2lab)\n",
    "lab2idx['O']"
   ]
  },
  {
   "cell_type": "code",
   "execution_count": 9,
   "metadata": {},
   "outputs": [],
   "source": [
    "#convert labels to label ids\n",
    "\n",
    "ner_train_ids = []\n",
    "\n",
    "for sentence in train_data_labels:\n",
    "    labels_of_sentence = []\n",
    "    for label in sentence:\n",
    "        labels_of_sentence.append(lab2idx[label])\n",
    "    ner_train_ids.append(labels_of_sentence)\n",
    "    \n",
    "ner_dev_ids = []\n",
    "\n",
    "for sentence in dev_data_labels:\n",
    "    labels_of_sentence = []\n",
    "    for label in sentence:\n",
    "        labels_of_sentence.append(lab2idx[label])\n",
    "    ner_dev_ids.append(labels_of_sentence)\n",
    "\n",
    "ner_test_ids = []\n",
    "\n",
    "for sentence in test_data_labels:\n",
    "    labels_of_sentence = []\n",
    "    for label in sentence:\n",
    "        labels_of_sentence.append(lab2idx[label])\n",
    "    ner_test_ids.append(labels_of_sentence)"
   ]
  },
  {
   "cell_type": "code",
   "execution_count": 10,
   "metadata": {},
   "outputs": [],
   "source": [
    "keys = ['sents', 'ner_tags', 'ids']\n",
    "values_train = [train_data_sentences, train_data_labels, ner_train_ids ]\n",
    "values_dev = [dev_data_sentences, dev_data_labels, ner_dev_ids]\n",
    "values_test = [test_data_sentences, test_data_labels, ner_test_ids]\n",
    "\n",
    "train_dict = dict(zip(keys, values_train))\n",
    "dev_dict = dict(zip(keys, values_dev))\n",
    "test_dict = dict(zip(keys, values_test))"
   ]
  },
  {
   "cell_type": "code",
   "execution_count": 11,
   "metadata": {},
   "outputs": [],
   "source": [
    "train_dataset = Dataset.from_dict(train_dict)\n",
    "dev_dataset = Dataset.from_dict(dev_dict)\n",
    "test_dataset = Dataset.from_dict(test_dict)"
   ]
  },
  {
   "cell_type": "code",
   "execution_count": 12,
   "metadata": {},
   "outputs": [],
   "source": [
    "text_column_name = 'sents'\n",
    "label_column_name = 'ids'"
   ]
  },
  {
   "cell_type": "code",
   "execution_count": 13,
   "metadata": {},
   "outputs": [],
   "source": [
    "import pickle\n",
    "\n",
    "with open('./idx2lab', 'rb') as f:\n",
    "    idx2lab = pickle.load(f)\n",
    "\n",
    "with open('./lab2idx', 'rb') as f:\n",
    "    lab2idx = pickle.load(f)"
   ]
  },
  {
   "cell_type": "code",
   "execution_count": 14,
   "metadata": {},
   "outputs": [],
   "source": [
    "tokenizer = RobertaTokenizerFast.from_pretrained(model_link, use_fast=True, add_prefix_space=True)\n",
    "config = AutoConfig.from_pretrained(model_link, num_labels=nlabels, id2label = idx2lab, label2id = lab2idx)\n",
    "\n",
    "def tokenize_and_align_labels(examples):\n",
    "    \"\"\"\n",
    "    For each example, tokenize the list of tokens and align the original labels \n",
    "    to the resulting subwords. Tokens can be split into multiple subwords, so we mark \n",
    "    the \"extra\" subwords with -100 to ignore them in the loss.\n",
    "    \"\"\"\n",
    "    # 'is_split_into_words=True' tells the tokenizer each item in the list is already a separate word/token.\n",
    "    tokenized_inputs = tokenizer(\n",
    "        examples[text_column_name],\n",
    "        max_length=128,             \n",
    "        padding=False,              \n",
    "        truncation=True, \n",
    "        is_split_into_words=True\n",
    "    )\n",
    "\n",
    "    # 2) Prepare a new \"labels\" list aligned to the subword tokens\n",
    "    all_labels = []\n",
    "    \n",
    "    for batch_index, labels in enumerate(examples[label_column_name]):\n",
    "        # 'word_ids()' returns a list the same length as the subword-tokens,\n",
    "        # each entry telling you which 'word' or token it came from\n",
    "        word_ids = tokenized_inputs.word_ids(batch_index=batch_index)\n",
    "\n",
    "        label_ids = []\n",
    "        prev_word_id = None\n",
    "        \n",
    "        for word_id in word_ids:\n",
    "            if word_id is None:\n",
    "                # e.g. special tokens or padding\n",
    "                label_ids.append(-100)\n",
    "            elif word_id == prev_word_id:\n",
    "                # subword token of the same word => ignore\n",
    "                label_ids.append(-100)\n",
    "            else:\n",
    "                # new subword, so use the label for the original token\n",
    "                label_ids.append(labels[word_id])\n",
    "            \n",
    "            prev_word_id = word_id\n",
    "        \n",
    "        all_labels.append(label_ids)\n",
    "\n",
    "    # 3) Attach the new \"labels\" to our tokenized inputs\n",
    "    tokenized_inputs[\"labels\"] = all_labels\n",
    "\n",
    "    # 4) Return the updated dictionary\n",
    "    return tokenized_inputs"
   ]
  },
  {
   "cell_type": "code",
   "execution_count": 15,
   "metadata": {},
   "outputs": [
    {
     "name": "stderr",
     "output_type": "stream",
     "text": [
      "Running tokenizer on dataset: 100%|██████████| 12543/12543 [00:00<00:00, 19390.10 examples/s]\n",
      "Running tokenizer on dataset: 100%|██████████| 2001/2001 [00:00<00:00, 25203.69 examples/s]\n",
      "Running tokenizer on dataset: 100%|██████████| 2077/2077 [00:00<00:00, 23041.18 examples/s]\n"
     ]
    }
   ],
   "source": [
    "processed_train_dataset = train_dataset.map(\n",
    "    tokenize_and_align_labels,\n",
    "    batched=True,\n",
    "    remove_columns=train_dataset.column_names,\n",
    "    desc=\"Running tokenizer on dataset\"\n",
    ")\n",
    "\n",
    "processed_dev_dataset = dev_dataset.map(\n",
    "    tokenize_and_align_labels,\n",
    "    batched=True,\n",
    "    remove_columns=dev_dataset.column_names,\n",
    "    desc=\"Running tokenizer on dataset\"\n",
    ")\n",
    "\n",
    "processed_test_dataset = test_dataset.map(\n",
    "    tokenize_and_align_labels,\n",
    "    batched=True,\n",
    "    remove_columns=test_dataset.column_names,\n",
    "    desc=\"Running tokenizer on dataset\"\n",
    ")\n",
    "\n"
   ]
  },
  {
   "cell_type": "code",
   "execution_count": 16,
   "metadata": {},
   "outputs": [
    {
     "name": "stderr",
     "output_type": "stream",
     "text": [
      "Some weights of RobertaForTokenClassification were not initialized from the model checkpoint at deepset/roberta-base-squad2 and are newly initialized: ['classifier.bias', 'classifier.weight']\n",
      "You should probably TRAIN this model on a down-stream task to be able to use it for predictions and inference.\n"
     ]
    },
    {
     "data": {
      "text/plain": [
       "RobertaForTokenClassification(\n",
       "  (roberta): RobertaModel(\n",
       "    (embeddings): RobertaEmbeddings(\n",
       "      (word_embeddings): Embedding(50265, 768, padding_idx=1)\n",
       "      (position_embeddings): Embedding(514, 768, padding_idx=1)\n",
       "      (token_type_embeddings): Embedding(1, 768)\n",
       "      (LayerNorm): LayerNorm((768,), eps=1e-05, elementwise_affine=True)\n",
       "      (dropout): Dropout(p=0.1, inplace=False)\n",
       "    )\n",
       "    (encoder): RobertaEncoder(\n",
       "      (layer): ModuleList(\n",
       "        (0-11): 12 x RobertaLayer(\n",
       "          (attention): RobertaAttention(\n",
       "            (self): RobertaSdpaSelfAttention(\n",
       "              (query): Linear(in_features=768, out_features=768, bias=True)\n",
       "              (key): Linear(in_features=768, out_features=768, bias=True)\n",
       "              (value): Linear(in_features=768, out_features=768, bias=True)\n",
       "              (dropout): Dropout(p=0.1, inplace=False)\n",
       "            )\n",
       "            (output): RobertaSelfOutput(\n",
       "              (dense): Linear(in_features=768, out_features=768, bias=True)\n",
       "              (LayerNorm): LayerNorm((768,), eps=1e-05, elementwise_affine=True)\n",
       "              (dropout): Dropout(p=0.1, inplace=False)\n",
       "            )\n",
       "          )\n",
       "          (intermediate): RobertaIntermediate(\n",
       "            (dense): Linear(in_features=768, out_features=3072, bias=True)\n",
       "            (intermediate_act_fn): GELUActivation()\n",
       "          )\n",
       "          (output): RobertaOutput(\n",
       "            (dense): Linear(in_features=3072, out_features=768, bias=True)\n",
       "            (LayerNorm): LayerNorm((768,), eps=1e-05, elementwise_affine=True)\n",
       "            (dropout): Dropout(p=0.1, inplace=False)\n",
       "          )\n",
       "        )\n",
       "      )\n",
       "    )\n",
       "  )\n",
       "  (dropout): Dropout(p=0.1, inplace=False)\n",
       "  (classifier): Linear(in_features=768, out_features=7, bias=True)\n",
       ")"
      ]
     },
     "execution_count": 16,
     "metadata": {},
     "output_type": "execute_result"
    }
   ],
   "source": [
    "model = AutoModelForTokenClassification.from_pretrained(model_link, torch_dtype='auto', config=config)\n",
    "data_collator = DataCollatorForTokenClassification(tokenizer)\n",
    "device = \"cuda\" if torch.cuda.is_available() else \"cpu\"\n",
    "model.to(device)"
   ]
  },
  {
   "cell_type": "code",
   "execution_count": 17,
   "metadata": {},
   "outputs": [],
   "source": [
    "training_args = TrainingArguments(output_dir=\"output_trainer\", eval_strategy = 'epoch')"
   ]
  },
  {
   "cell_type": "code",
   "execution_count": 18,
   "metadata": {},
   "outputs": [],
   "source": [
    "def convert_int_to_labels(preds):\n",
    "    logits, labels = preds\n",
    "    predictions = np.argmax(logits, axis = -1)\n",
    "    true_labels = [[idx2lab[label] for label in label_sequence if label != -100] for label_sequence in labels]\n",
    "    true_predictions = [[idx2lab[pred] for pred, label in zip(preds_sequence, labels_sequence) if label != -100] for preds_sequence, labels_sequence in zip(predictions, labels)]\n",
    "    return true_labels, true_predictions"
   ]
  },
  {
   "cell_type": "code",
   "execution_count": 19,
   "metadata": {},
   "outputs": [],
   "source": [
    "import evaluate\n",
    "metric = evaluate.load(\"seqeval\")"
   ]
  },
  {
   "cell_type": "code",
   "execution_count": 20,
   "metadata": {},
   "outputs": [],
   "source": [
    "def compute_metrics(preds):\n",
    "    true_labels, true_predictions = convert_int_to_labels(preds)\n",
    "    results = metric.compute(predictions = true_predictions, references = true_labels)\n",
    "    return {\n",
    "        \"Precision\": results[\"overall_precision\"],\n",
    "        \"Recall\": results[\"overall_recall\"],\n",
    "        \"F1\": results[\"overall_f1\"],\n",
    "        \"Accuracy\": results[\"overall_accuracy\"]\n",
    "    }"
   ]
  },
  {
   "cell_type": "code",
   "execution_count": 21,
   "metadata": {},
   "outputs": [],
   "source": [
    "trainer = Trainer(\n",
    "    model=model,\n",
    "    args=training_args,\n",
    "    train_dataset=processed_train_dataset,\n",
    "    eval_dataset=processed_dev_dataset,\n",
    "    compute_metrics= compute_metrics,\n",
    "    data_collator=data_collator\n",
    ")"
   ]
  },
  {
   "cell_type": "code",
   "execution_count": 22,
   "metadata": {},
   "outputs": [
    {
     "data": {
      "text/html": [
       "\n",
       "    <div>\n",
       "      \n",
       "      <progress value='4704' max='4704' style='width:300px; height:20px; vertical-align: middle;'></progress>\n",
       "      [4704/4704 1:44:56, Epoch 3/3]\n",
       "    </div>\n",
       "    <table border=\"1\" class=\"dataframe\">\n",
       "  <thead>\n",
       " <tr style=\"text-align: left;\">\n",
       "      <th>Epoch</th>\n",
       "      <th>Training Loss</th>\n",
       "      <th>Validation Loss</th>\n",
       "      <th>Precision</th>\n",
       "      <th>Recall</th>\n",
       "      <th>F1</th>\n",
       "      <th>Accuracy</th>\n",
       "    </tr>\n",
       "  </thead>\n",
       "  <tbody>\n",
       "    <tr>\n",
       "      <td>1</td>\n",
       "      <td>0.044800</td>\n",
       "      <td>0.069069</td>\n",
       "      <td>0.987011</td>\n",
       "      <td>0.987492</td>\n",
       "      <td>0.987252</td>\n",
       "      <td>0.984373</td>\n",
       "    </tr>\n",
       "    <tr>\n",
       "      <td>2</td>\n",
       "      <td>0.021900</td>\n",
       "      <td>0.080834</td>\n",
       "      <td>0.985030</td>\n",
       "      <td>0.985990</td>\n",
       "      <td>0.985510</td>\n",
       "      <td>0.982942</td>\n",
       "    </tr>\n",
       "    <tr>\n",
       "      <td>3</td>\n",
       "      <td>0.010800</td>\n",
       "      <td>0.084337</td>\n",
       "      <td>0.987607</td>\n",
       "      <td>0.987005</td>\n",
       "      <td>0.987306</td>\n",
       "      <td>0.984771</td>\n",
       "    </tr>\n",
       "  </tbody>\n",
       "</table><p>"
      ],
      "text/plain": [
       "<IPython.core.display.HTML object>"
      ]
     },
     "metadata": {},
     "output_type": "display_data"
    },
    {
     "data": {
      "text/plain": [
       "TrainOutput(global_step=4704, training_loss=0.033425377517127666, metrics={'train_runtime': 6299.8874, 'train_samples_per_second': 5.973, 'train_steps_per_second': 0.747, 'total_flos': 813355072895574.0, 'train_loss': 0.033425377517127666, 'epoch': 3.0})"
      ]
     },
     "execution_count": 22,
     "metadata": {},
     "output_type": "execute_result"
    }
   ],
   "source": [
    "trainer.train()"
   ]
  },
  {
   "cell_type": "code",
   "execution_count": 23,
   "metadata": {},
   "outputs": [
    {
     "data": {
      "text/html": [],
      "text/plain": [
       "<IPython.core.display.HTML object>"
      ]
     },
     "metadata": {},
     "output_type": "display_data"
    }
   ],
   "source": [
    "results = trainer.evaluate()"
   ]
  },
  {
   "cell_type": "code",
   "execution_count": 24,
   "metadata": {},
   "outputs": [
    {
     "name": "stderr",
     "output_type": "stream",
     "text": [
      "c:\\Users\\luke0\\Software\\envs\\ads\\Lib\\site-packages\\seqeval\\metrics\\v1.py:57: UndefinedMetricWarning: Recall and F-score are ill-defined and being set to 0.0 in labels with no true samples. Use `zero_division` parameter to control this behavior.\n",
      "  _warn_prf(average, modifier, msg_start, len(result))\n"
     ]
    }
   ],
   "source": [
    "predictions, labels, metrics = trainer.predict(processed_test_dataset)"
   ]
  },
  {
   "cell_type": "code",
   "execution_count": 25,
   "metadata": {},
   "outputs": [],
   "source": [
    "labels, predictions = convert_int_to_labels((predictions, labels))"
   ]
  },
  {
   "cell_type": "code",
   "execution_count": 26,
   "metadata": {},
   "outputs": [],
   "source": [
    "final_format = []\n",
    "for i in range(len(predictions)):\n",
    "    final_format.append((test_data[i][0], predictions[i]))"
   ]
  },
  {
   "cell_type": "code",
   "execution_count": 27,
   "metadata": {},
   "outputs": [],
   "source": [
    "def write_conll_file(data, path):\n",
    "    \"\"\"\n",
    "    Write data back to a CoNLL file format.\n",
    "    :param data: list of tuples with words and labels\n",
    "    :param path: path to write to\n",
    "    \"\"\"\n",
    "    with open(path, \"w\", encoding = \"utf-8\") as f:\n",
    "        for sentence in data:\n",
    "            words, labels = sentence\n",
    "            for idx, (word, label) in enumerate(zip(words, labels), start = 1):\n",
    "                f.write(f\"{idx}\\t{word}\\t{label}\\t-\\t-\\n\")\n",
    "            f.write(\"\\n\")\n",
    "\n",
    "write_conll_file(final_format, \"test_ouput.iob2\")"
   ]
  },
  {
   "cell_type": "code",
   "execution_count": 28,
   "metadata": {},
   "outputs": [
    {
     "name": "stdout",
     "output_type": "stream",
     "text": [
      "['Where', 'in', 'the', 'world', 'is', 'Iguazu', '?']\n",
      "['O', 'O', 'O', 'O', 'O', 'B-LOC', 'O']\n",
      "[2, 2, 2, 2, 2, 1, 2]\n"
     ]
    }
   ],
   "source": [
    "print(train_dataset[0]['sents'])\n",
    "print(train_dataset[0]['ner_tags'])\n",
    "print(train_dataset[0]['ids'])  # numerical label IDs\n"
   ]
  }
 ],
 "metadata": {
  "kernelspec": {
   "display_name": "Python 3",
   "language": "python",
   "name": "python3"
  },
  "language_info": {
   "codemirror_mode": {
    "name": "ipython",
    "version": 3
   },
   "file_extension": ".py",
   "mimetype": "text/x-python",
   "name": "python",
   "nbconvert_exporter": "python",
   "pygments_lexer": "ipython3",
   "version": "3.12.2"
  }
 },
 "nbformat": 4,
 "nbformat_minor": 2
}
