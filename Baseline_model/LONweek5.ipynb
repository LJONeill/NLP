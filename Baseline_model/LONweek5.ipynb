{
 "cells": [
  {
   "cell_type": "markdown",
   "metadata": {},
   "source": [
    "# Week 5 - NLP and Deep Learning\n",
    "\n",
    "---"
   ]
  },
  {
   "cell_type": "markdown",
   "metadata": {},
   "source": [
    "# Lecture 9: Sequence Prediction with HMMs"
   ]
  },
  {
   "cell_type": "markdown",
   "metadata": {},
   "source": [
    "In this exercise you will implement the Viterbi algorithm for decoding in sequence tagging. More concretely, we are going to build a POS tagger for English web data."
   ]
  },
  {
   "cell_type": "markdown",
   "metadata": {},
   "source": [
    "## 1. Emissions and transition probabilities\n",
    "\n",
    "In this part of the exercise you are going to prepare the emission and transition probabilities to use in the viterbi algorithm. We are going to focus on the task of Parts-Of-Speech (POS) tagging. You can use the following datareader for the following assignments:"
   ]
  },
  {
   "cell_type": "code",
   "execution_count": 1,
   "metadata": {},
   "outputs": [],
   "source": [
    "def read_conll_file(path):\n",
    "    \"\"\"\n",
    "    read in conll file\n",
    "    \n",
    "    :param path: path to read from\n",
    "    :returns: list with sequences of words and labels for each sentence\n",
    "    \"\"\"\n",
    "    data = []\n",
    "    current_words = []\n",
    "    current_tags = []\n",
    "\n",
    "    for line in open(path, encoding='utf-8'):\n",
    "        line = line.strip()\n",
    "\n",
    "        if line:\n",
    "            if line[0] == '#':\n",
    "                continue # skip comments\n",
    "            tok = line.split('\\t')\n",
    "\n",
    "            current_words.append(tok[0])\n",
    "            current_tags.append(tok[1])\n",
    "        else:\n",
    "            if current_words:  # skip empty lines\n",
    "                data.append((current_words, current_tags))\n",
    "            current_words = []\n",
    "            current_tags = []\n",
    "\n",
    "    # check for last one\n",
    "    if current_tags != []:\n",
    "        data.append((current_words, current_tags))\n",
    "    return data"
   ]
  },
  {
   "cell_type": "markdown",
   "metadata": {},
   "source": [
    "Because we are going to use the POS labels as indices in our Viterbi matrix, we need to know all labels beforehand, and they need to have a static order. We also need a special beginning and end label:"
   ]
  },
  {
   "cell_type": "code",
   "execution_count": 2,
   "metadata": {},
   "outputs": [
    {
     "name": "stdout",
     "output_type": "stream",
     "text": [
      "Length train data: 12543\n",
      "Length dev data: 2000\n",
      "All labels:\n",
      "['</S>', '<S>', 'ADJ', 'ADP', 'ADV', 'AUX', 'CCONJ', 'DET', 'INTJ', 'NOUN', 'NUM', 'PART', 'PRON', 'PROPN', 'PUNCT', 'SCONJ', 'SYM', 'VERB', 'X']\n",
      "Random datapoint:\n",
      "['It', 'is', 'a', 'time', 'to', 'learn', 'what', 'happened', 'and', 'how', 'it', 'may', 'affect', 'the', 'future', '.']\n",
      "['PRON', 'AUX', 'DET', 'NOUN', 'PART', 'VERB', 'PRON', 'VERB', 'CCONJ', 'ADV', 'PRON', 'AUX', 'VERB', 'DET', 'NOUN', 'PUNCT']\n"
     ]
    }
   ],
   "source": [
    "train_data = read_conll_file('pos-data/en_ewt-train.conll')\n",
    "dev_data = read_conll_file('pos-data/en_ewt-dev.conll')\n",
    "\n",
    "SMOOTH = 0.1\n",
    "BEG = '<S>'\n",
    "END = '</S>'\n",
    "UNK = '<UNK>'\n",
    "\n",
    "label_set = set([pos_label for sentence in train_data for pos_label in sentence[1]])\n",
    "label_set.add(BEG)\n",
    "label_set.add(END)\n",
    "# put labels in a list, so that they are guaranteed to have the same order\n",
    "label_list = list(sorted(label_set))\n",
    "\n",
    "print('Length train data: ' + str(len(train_data)))\n",
    "print('Length dev data: ' + str(len(dev_data)))\n",
    "\n",
    "print('All labels:')\n",
    "print(label_list)\n",
    "\n",
    "# the data is a list of pairs, containing 1: a list of words 2: a list of POS labels\n",
    "print('Random datapoint:')\n",
    "print(train_data[70][0])\n",
    "print(train_data[70][1])\n",
    "\n"
   ]
  },
  {
   "cell_type": "markdown",
   "metadata": {},
   "source": [
    "* a) calculate the transition probabilities based on the training data, use a special label for the beginning of a sentence (`<S>`) and the end of a sentence (`</S>`). use laplace smoothing with a value of 0.1 to avoid probabilities of 0.0. In this case the UNK tag has a frequency of 0.1 to all all other tags (in most situations an UNK label is not to be expected to occur, but some POS tags can be rare).\n",
    "\n",
    "**Hint**: The transition probability $P(t_i|t_{i-1})$ is the probability that given a tag, $t_{i-1}$, that it will be followed by a tag $t_i$. \n",
    "$$P(t_i|t_{i-1}) = {C(t_{i-1},t_{i}) \\over C(t_{i-1})}$$\n",
    "With smoothing:\n",
    "$$P(t_i|t_{i-1}) = {C(t_{i-1},t_{i}) + \\gamma \\over C(t_{i-1}) + (|t|) * \\gamma} $$\n",
    "\n",
    "Where $(|t|-1) * \\gamma$ is used because we want add probability mass to all labels in the numerator (we have to match this mass in the denominator).\n",
    "\n",
    "**Hint2**: Every sentence in the data looks like `['DET', 'NOUN', 'VERB']` without any `<S>` or `</S>` tags. So the beginning and end of every data sample needs to be handled differently when counting occurences of transitions, alternatively you can add these tokens to each data sample so they look like `['<S>, 'DET', 'NOUN', 'VERB', </S>]`"
   ]
  },
  {
   "cell_type": "code",
   "execution_count": null,
   "metadata": {},
   "outputs": [],
   "source": [
    "# Make a dictionary of dictionaries, so that we can easily query for a certain probability.\n",
    "# We add the smoothing value as a starting point, as it has to be added to each count.\n",
    "# Note that a list of lists with POS indices is more efficient (but a bit more cumbersome to implement).\n",
    "transition_counts = {label: {label: SMOOTH for label in label_list} for label in label_list}\n",
    "# The count that a NOUN follows an ADJ (empty now)\n",
    "print(transition_counts['ADJ']['NOUN'])\n",
    "\n",
    "# First obtain the raw counts\n",
    "# TODO\n",
    "\n",
    "print(transition_counts['ADJ']['NOUN']) # should be 6803.1\n",
    "\n",
    "# Now fill the transition matrix, note that the outgoing probability of each label should sum to 1.0\n",
    "transition_probs = {label: {label: 0.0 for label in label_list} for label in label_list}\n",
    "# TODO\n",
    "\n",
    "        \n",
    "print(transition_probs['ADJ']['NOUN']) # 0.5191660498019673\n",
    "print(sum(transition_probs['ADJ'].values())) # 1.0"
   ]
  },
  {
   "cell_type": "markdown",
   "metadata": {},
   "source": [
    "* b) calculate the emission probabilities for all words in the training data. Make sure that every POS tag can be assigned to an `<UNK>` token, use laplace smoothing with a value of 0.1 to avoid probabilities of 0.0.\n",
    "\n",
    "**Hint**: The emission probability $P(w_i|t_{i})$ is the probability that given a tag, $t_i$, that it will be associated with a given word $w_i$. The formula below shows counts $C$ needed to calculate the probability.\n",
    "\n",
    "$$P(w_i|t_{i}) = {C(t_{i},w_{i}) \\over C(t_{i})}$$\n",
    "\n",
    "With Smoothing:\n",
    "\n",
    "$$P(w_i|t_{i}) = {C(t_{i},w_{i}) + \\gamma \\over C(t_{i}) + (|t|) * \\gamma}$$"
   ]
  },
  {
   "cell_type": "code",
   "execution_count": null,
   "metadata": {},
   "outputs": [],
   "source": [
    "word_set = {UNK}\n",
    "for sent in train_data:\n",
    "    for word in sent[0]:\n",
    "        word_set.add(word)\n",
    "word_list = list(sorted(word_set))\n",
    "\n",
    "# Fill emission counts, start with smoothing value again\n",
    "emission_counts = {label: {word: SMOOTH for word in word_list} for label in label_list}\n",
    "# TODO\n",
    "\n",
    "\n",
    "print(emission_counts['ADJ']['European']) # 6.1\n",
    "print(emission_counts['ADJ']['Europe']) # 0.1\n",
    "\n",
    "# Convert to probabilities\n",
    "emission_probs = {label: {word: 0.0 for word in word_list} for label in label_list}\n",
    "# TODO\n",
    "      \n",
    "\n",
    "print(emission_probs['ADJ']['European']) # 0.00040346316910398104\n",
    "print(emission_probs['ADJ']['Europe']) # 6.614150313180017e-06"
   ]
  },
  {
   "cell_type": "markdown",
   "metadata": {},
   "source": [
    "You can check whether your solutions are correct by estimating the probabilities on the data and check whether the probabilities match:"
   ]
  },
  {
   "cell_type": "code",
   "execution_count": null,
   "metadata": {},
   "outputs": [],
   "source": [
    "print(transition_probs['ADJ']['NOUN']) # 0.5171926196793345\n",
    "print(transition_probs['NOUN']['ADJ']) # 0.01123434129302644\n",
    "print(transition_probs[BEG]['ADJ']) # 0.04082136964025221\n",
    "print(transition_probs['ADJ'][END]) # 0.003808756338424345\n",
    "print(emission_probs['NOUN']['calling'])   # 2.9909103515414666e-05\n",
    "print(emission_probs['VERB']['calling'])  # 0.0005740785225418476\n",
    "print(emission_probs['VERB'][UNK])  # 4.071478883275515e-06"
   ]
  },
  {
   "cell_type": "markdown",
   "metadata": {},
   "source": [
    "## 2. Viterbi algorithm\n",
    "\n",
    "In the image below we see an example of the calculation of the first 2 positions in a Viterbi decoding:\n",
    "<img width=500px src=\"pics/viterbi.jpg\">\n",
    "\n",
    "* a) Implement Viterbi decoding, use the transition and emission probabilities previously estimated (note that we also provide pre-calculated probabilities in `probs_en.pickle`). You can use the example code shown below as a starting point if you like.\n",
    "\n",
    "**Hint**: The implementation can become simpler if you think about the problem as a 2d matrix that needs to be filled (each position in the list is a node in the viterbi decoding, $v_1(7)$, $v_1(6)$, ...). You can first initialize the matrix with 0.0's, and then fill it from left to right."
   ]
  },
  {
   "cell_type": "code",
   "execution_count": null,
   "metadata": {},
   "outputs": [],
   "source": [
    "# You can also load the pre-calculate probabilities:\n",
    "# import pickle\n",
    "# transition_probs, emission_probs = pickle.load(open('probs_en.pickle', 'rb'))\n",
    "import numpy as np\n",
    "def viterbi(sentence):\n",
    "    \"\"\"\n",
    "    sentence: list of strings\n",
    "    \"\"\"\n",
    "    columns = len(sentence)\n",
    "    # You don't need the special tokens in the viterbi decoding so we remove them\n",
    "    labels_list_exc_special = label_list.copy()\n",
    "    labels_list_exc_special.remove(BEG)\n",
    "    labels_list_exc_special.remove(END)\n",
    "\n",
    "    rows = len(labels_list_exc_special)\n",
    "    \n",
    "    # Create the full matrix for scores as well as the backtracking.\n",
    "    # e.g. scores[0][3] should get the probability of the best path of \n",
    "    # the first label and the 4th word in the sentence\n",
    "    # Backtrack contains the index of the best tag for the previous word\n",
    "    # e.g. backtrack[0][3] should get the index of the best tag for the 3rd word \n",
    "    # when backtracking from the first label and 4th word\n",
    "    scores = np.array([[0.0 for _ in range(columns)] for _ in range(rows)])\n",
    "    backtrack = np.array([[0 for _ in range(columns)] for _ in range(rows)])\n",
    "    \n",
    "    # Handle the first token separately, as it only has 2 probabilities (emission, transition)\n",
    "    word_position = 0\n",
    "    for pos_tag_idx, pos_tag in enumerate(labels_list_exc_special):\n",
    "        # The probability of the first word given the POS tag:\n",
    "        word = sentence[word_position]\n",
    "        if word not in emission_probs[pos_tag]:\n",
    "            word = UNK\n",
    "        em_prob = emission_probs[pos_tag][word] \n",
    "        \n",
    "        # The probability of the POS tag given that the previous \"tag\" is <S>\n",
    "        transition_prob = transition_probs[BEG][pos_tag]\n",
    "        \n",
    "        # Save the total probability:\n",
    "        scores[pos_tag_idx][word_position] = em_prob * transition_prob\n",
    "        \n",
    "        # Backtracking for the first token is uneccessary so we ignore it\n",
    "    \n",
    "    # Now handle the rest of the sequence\n",
    "    for word_position in range(1, columns):\n",
    "        for pos_tag_idx, pos_tag in enumerate(labels_list_exc_special):\n",
    "            word = sentence[word_position]\n",
    "            if word not in emission_probs[pos_tag]:\n",
    "                word = UNK\n",
    "\n",
    "            # Get emission probability\n",
    "            # TODO\n",
    "\n",
    "            # For each possible history path (i.e. label): get the total score\n",
    "            # We need to get the transition probability and the history probability\n",
    "            # Hint: the history probability is the score of the previous word position in scores matrix\n",
    "            # TODO\n",
    "            candidate_scores = [0.0] * len(labels_list_exc_special)\n",
    "            \n",
    "                \n",
    "            # Now extract the best score from candidate_scores and its previous path and save these\n",
    "            # Hint: backtrack should contain the index of the best tag:\n",
    "            # backtrack[tag_idx][word_position] = previous_best_tag_idx\n",
    "            # TODO\n",
    "            \n",
    "\n",
    "    # Extract the best score from the last labels to the special end label\n",
    "    # Hint: here you only have history and transition (no emission)\n",
    "    # TODO\n",
    "    \n",
    "    \n",
    "    # Extract the path from the best last label using the backtrack matrix\n",
    "    # Hint: the path contains the index of the best tag for each word\n",
    "    # TODO\n",
    "    current_path = [best_prev_idx]\n",
    "    \n",
    "    \n",
    "    # Reverse the path and convert the indexes to labels\n",
    "    # TODO\n",
    "    \n",
    "    \n",
    "    return \n",
    "\n",
    "viterbi(['this', 'is', 'a', 'very', 'good', 'chocolate', '.'])\n"
   ]
  },
  {
   "cell_type": "markdown",
   "metadata": {},
   "source": [
    "* b) Ensure that the best path is saved during the decoding, so that you can extract the labels. What is the accuracy (code for this below) of your implementation of the Viterbi algorithm on the development data (`pos-data/en_ewt-dev.conll`)?\n",
    "\n",
    "**Hint**: If implemented correctly, it should score at least an accuracy of 50%. If you score lower, we suggest you try printing the probabilities at each step (word) for the first sentence of the development data."
   ]
  },
  {
   "cell_type": "code",
   "execution_count": null,
   "metadata": {},
   "outputs": [],
   "source": [
    "correct = 0\n",
    "total = 0\n",
    "\n",
    "# Loop through the development data and compute predictions\n",
    "for words, true_tags in dev_data:\n",
    "    predicted_tags = viterbi(words)  # Get the POS tags from your Viterbi algorithm\n",
    "    # Compare predicted tags with true tags\n",
    "    correct += sum(p == t for p, t in zip(predicted_tags, true_tags))\n",
    "    total += len(true_tags)\n",
    "\n",
    "# Calculate the accuracy\n",
    "accuracy = correct / total if total > 0 else 0\n",
    "print(f\"Viterbi Accuracy on Development Data: {accuracy * 100:.2f}%\")"
   ]
  },
  {
   "cell_type": "markdown",
   "metadata": {},
   "source": [
    "* c) **Bonus**: try to improve your predictions by inspecting common errors, tuning some of the decisions (e.g. smoothing, weighing the three probabilities) you made, or improving the handling of unknown tokens.\n"
   ]
  },
  {
   "cell_type": "code",
   "execution_count": null,
   "metadata": {},
   "outputs": [],
   "source": []
  },
  {
   "cell_type": "markdown",
   "metadata": {},
   "source": [
    "# Lecture 10: BERT"
   ]
  },
  {
   "cell_type": "markdown",
   "metadata": {},
   "source": [
    "## 3. Subword tokenization\n",
    "\n",
    "BERT models are trained to predict tokens that were masked with a special `[mask]` token. In this assignment you will inspect what it has learned, and whether it has certain preferences (i.e. probing). \n",
    "\n",
    "a) Load the multilingual Bert tokenizer:"
   ]
  },
  {
   "cell_type": "code",
   "execution_count": null,
   "metadata": {},
   "outputs": [
    {
     "name": "stdout",
     "output_type": "stream",
     "text": [
      "Collecting transformers\n",
      "  Downloading transformers-4.49.0-py3-none-any.whl.metadata (44 kB)\n",
      "     ---------------------------------------- 0.0/44.0 kB ? eta -:--:--\n",
      "     ----------------- -------------------- 20.5/44.0 kB 640.0 kB/s eta 0:00:01\n",
      "     -------------------------------------- 44.0/44.0 kB 718.8 kB/s eta 0:00:00\n",
      "Requirement already satisfied: filelock in c:\\users\\luke0\\miniconda3\\lib\\site-packages (from transformers) (3.17.0)\n",
      "Collecting huggingface-hub<1.0,>=0.26.0 (from transformers)\n",
      "  Downloading huggingface_hub-0.29.1-py3-none-any.whl.metadata (13 kB)\n",
      "Requirement already satisfied: numpy>=1.17 in c:\\users\\luke0\\miniconda3\\lib\\site-packages (from transformers) (1.26.4)\n",
      "Requirement already satisfied: packaging>=20.0 in c:\\users\\luke0\\miniconda3\\lib\\site-packages (from transformers) (23.1)\n",
      "Collecting pyyaml>=5.1 (from transformers)\n",
      "  Downloading PyYAML-6.0.2-cp312-cp312-win_amd64.whl.metadata (2.1 kB)\n",
      "Requirement already satisfied: regex!=2019.12.17 in c:\\users\\luke0\\miniconda3\\lib\\site-packages (from transformers) (2024.11.6)\n",
      "Requirement already satisfied: requests in c:\\users\\luke0\\miniconda3\\lib\\site-packages (from transformers) (2.31.0)\n",
      "Collecting tokenizers<0.22,>=0.21 (from transformers)\n",
      "  Downloading tokenizers-0.21.0-cp39-abi3-win_amd64.whl.metadata (6.9 kB)\n",
      "Collecting safetensors>=0.4.1 (from transformers)\n",
      "  Downloading safetensors-0.5.3-cp38-abi3-win_amd64.whl.metadata (3.9 kB)\n",
      "Requirement already satisfied: tqdm>=4.27 in c:\\users\\luke0\\miniconda3\\lib\\site-packages (from transformers) (4.65.0)\n",
      "Requirement already satisfied: fsspec>=2023.5.0 in c:\\users\\luke0\\miniconda3\\lib\\site-packages (from huggingface-hub<1.0,>=0.26.0->transformers) (2025.2.0)\n",
      "Requirement already satisfied: typing-extensions>=3.7.4.3 in c:\\users\\luke0\\miniconda3\\lib\\site-packages (from huggingface-hub<1.0,>=0.26.0->transformers) (4.11.0)\n",
      "Requirement already satisfied: colorama in c:\\users\\luke0\\miniconda3\\lib\\site-packages (from tqdm>=4.27->transformers) (0.4.6)\n",
      "Requirement already satisfied: charset-normalizer<4,>=2 in c:\\users\\luke0\\miniconda3\\lib\\site-packages (from requests->transformers) (2.0.4)\n",
      "Requirement already satisfied: idna<4,>=2.5 in c:\\users\\luke0\\miniconda3\\lib\\site-packages (from requests->transformers) (3.4)\n",
      "Requirement already satisfied: urllib3<3,>=1.21.1 in c:\\users\\luke0\\miniconda3\\lib\\site-packages (from requests->transformers) (2.1.0)\n",
      "Requirement already satisfied: certifi>=2017.4.17 in c:\\users\\luke0\\miniconda3\\lib\\site-packages (from requests->transformers) (2024.2.2)\n",
      "Downloading transformers-4.49.0-py3-none-any.whl (10.0 MB)\n",
      "   ---------------------------------------- 0.0/10.0 MB ? eta -:--:--\n",
      "    --------------------------------------- 0.2/10.0 MB 4.1 MB/s eta 0:00:03\n",
      "   -- ------------------------------------- 0.5/10.0 MB 5.3 MB/s eta 0:00:02\n",
      "   ---- ----------------------------------- 1.1/10.0 MB 7.8 MB/s eta 0:00:02\n",
      "   ------ --------------------------------- 1.7/10.0 MB 9.0 MB/s eta 0:00:01\n",
      "   --------- ------------------------------ 2.3/10.0 MB 9.8 MB/s eta 0:00:01\n",
      "   ----------- ---------------------------- 2.9/10.0 MB 10.3 MB/s eta 0:00:01\n",
      "   -------------- ------------------------- 3.5/10.0 MB 10.7 MB/s eta 0:00:01\n",
      "   --------------- ------------------------ 4.0/10.0 MB 10.2 MB/s eta 0:00:01\n",
      "   ------------------ --------------------- 4.6/10.0 MB 10.5 MB/s eta 0:00:01\n",
      "   --------------------- ------------------ 5.3/10.0 MB 10.6 MB/s eta 0:00:01\n",
      "   ------------------------ --------------- 6.0/10.0 MB 11.0 MB/s eta 0:00:01\n",
      "   -------------------------- ------------- 6.6/10.0 MB 11.4 MB/s eta 0:00:01\n",
      "   ----------------------------- ---------- 7.3/10.0 MB 11.3 MB/s eta 0:00:01\n",
      "   ------------------------------- -------- 8.0/10.0 MB 11.8 MB/s eta 0:00:01\n",
      "   --------------------------------- ------ 8.5/10.0 MB 11.5 MB/s eta 0:00:01\n",
      "   ----------------------------------- ---- 8.8/10.0 MB 11.3 MB/s eta 0:00:01\n",
      "   ------------------------------------- -- 9.4/10.0 MB 11.3 MB/s eta 0:00:01\n",
      "   ---------------------------------------  10.0/10.0 MB 11.6 MB/s eta 0:00:01\n",
      "   ---------------------------------------- 10.0/10.0 MB 11.2 MB/s eta 0:00:00\n",
      "Downloading huggingface_hub-0.29.1-py3-none-any.whl (468 kB)\n",
      "   ---------------------------------------- 0.0/468.0 kB ? eta -:--:--\n",
      "   --------------------------- ------------ 317.4/468.0 kB 9.9 MB/s eta 0:00:01\n",
      "   ---------------------------------------- 468.0/468.0 kB 7.3 MB/s eta 0:00:00\n",
      "Downloading PyYAML-6.0.2-cp312-cp312-win_amd64.whl (156 kB)\n",
      "   ---------------------------------------- 0.0/156.3 kB ? eta -:--:--\n",
      "   ---------------------------------------- 156.3/156.3 kB 9.7 MB/s eta 0:00:00\n",
      "Downloading safetensors-0.5.3-cp38-abi3-win_amd64.whl (308 kB)\n",
      "   ---------------------------------------- 0.0/308.9 kB ? eta -:--:--\n",
      "   ---------------------------------------- 308.9/308.9 kB 9.6 MB/s eta 0:00:00\n",
      "Downloading tokenizers-0.21.0-cp39-abi3-win_amd64.whl (2.4 MB)\n",
      "   ---------------------------------------- 0.0/2.4 MB ? eta -:--:--\n",
      "   --------- ------------------------------ 0.6/2.4 MB 12.2 MB/s eta 0:00:01\n",
      "   --------------------- ------------------ 1.3/2.4 MB 13.3 MB/s eta 0:00:01\n",
      "   --------------------------------- ------ 2.0/2.4 MB 13.9 MB/s eta 0:00:01\n",
      "   -------------------------------------- - 2.3/2.4 MB 12.3 MB/s eta 0:00:01\n",
      "   ---------------------------------------- 2.4/2.4 MB 11.7 MB/s eta 0:00:00\n",
      "Installing collected packages: safetensors, pyyaml, huggingface-hub, tokenizers, transformers\n",
      "Successfully installed huggingface-hub-0.29.1 pyyaml-6.0.2 safetensors-0.5.3 tokenizers-0.21.0 transformers-4.49.0\n"
     ]
    }
   ],
   "source": [
    "# ! pip install transformers"
   ]
  },
  {
   "cell_type": "code",
   "execution_count": 3,
   "metadata": {},
   "outputs": [
    {
     "name": "stderr",
     "output_type": "stream",
     "text": [
      "c:\\Users\\luke0\\miniconda3\\Lib\\site-packages\\tqdm\\auto.py:21: TqdmWarning: IProgress not found. Please update jupyter and ipywidgets. See https://ipywidgets.readthedocs.io/en/stable/user_install.html\n",
      "  from .autonotebook import tqdm as notebook_tqdm\n"
     ]
    }
   ],
   "source": [
    "from transformers import AutoTokenizer\n",
    "\n",
    "tokzr = AutoTokenizer.from_pretrained('bert-base-multilingual-cased', use_fast=False)"
   ]
  },
  {
   "cell_type": "markdown",
   "metadata": {},
   "source": [
    "Multilingual BERT was trained on the 100 most frequent languages of Wikipedia. They used smoothing, to correct inbalances in the data. However, their smoothing is relatively conservative, so high-resource languages have a higher impact on the model, and it is unclear how they sampled for training the tokenizer. Compare the tokenizations for two different language types you know; preferably one higher-resource and one lower-resource. If you only know 1 language, or only high-resource languages, try to use a different variety of the language (for example for English, use social media abbreviations or typos, e.g.: c u tmrw). Can you observe any differences in the results? does it match your intuition of separating mostly meaning-carrying subwords?\n",
    "\n",
    "You can use Figure 1 of https://arxiv.org/pdf/1911.02116.pdf or https://en.wikipedia.org/wiki/List_of_Wikipedias to see how large languages are on Wikipedia."
   ]
  },
  {
   "cell_type": "markdown",
   "metadata": {},
   "source": [
    "My test was between English and Te Reo (Maori), looking at the same sentence from the Treaty of Waitangi. The english is the new direct translation, not from the original English document."
   ]
  },
  {
   "cell_type": "code",
   "execution_count": 4,
   "metadata": {},
   "outputs": [
    {
     "data": {
      "text/plain": [
       "['So',\n",
       " 'the',\n",
       " 'Queen',\n",
       " 'desire',\n",
       " '##s',\n",
       " 'to',\n",
       " 'establish',\n",
       " 'a',\n",
       " 'government',\n",
       " 'so',\n",
       " 'that',\n",
       " 'no',\n",
       " 'evil',\n",
       " 'will',\n",
       " 'come',\n",
       " 'to',\n",
       " 'Mao',\n",
       " '##ri',\n",
       " 'and',\n",
       " 'European',\n",
       " 'living',\n",
       " 'in',\n",
       " 'a',\n",
       " 'state',\n",
       " 'of',\n",
       " 'law',\n",
       " '##less',\n",
       " '##ness',\n",
       " '.']"
      ]
     },
     "execution_count": 4,
     "metadata": {},
     "output_type": "execute_result"
    }
   ],
   "source": [
    "tokzr.tokenize('So the Queen desires to establish a government so that no evil will come to Maori and European living in a state of lawlessness.')"
   ]
  },
  {
   "cell_type": "code",
   "execution_count": 5,
   "metadata": {},
   "outputs": [
    {
     "data": {
      "text/plain": [
       "['Na',\n",
       " 'ko',\n",
       " 'te',\n",
       " 'Kui',\n",
       " '##ni',\n",
       " 'e',\n",
       " 'hi',\n",
       " '##ahi',\n",
       " '##a',\n",
       " 'ana',\n",
       " 'ki',\n",
       " '##a',\n",
       " 'wa',\n",
       " '##kari',\n",
       " '##tea',\n",
       " 'te',\n",
       " 'Ka',\n",
       " '##wana',\n",
       " '##tang',\n",
       " '##a',\n",
       " 'ki',\n",
       " '##a',\n",
       " 'ka',\n",
       " '##ua',\n",
       " 'ai',\n",
       " 'nga',\n",
       " 'kino',\n",
       " 'e',\n",
       " 'puta',\n",
       " 'mai',\n",
       " 'ki',\n",
       " 'te',\n",
       " 'tan',\n",
       " '##gata',\n",
       " 'mao',\n",
       " '##ri',\n",
       " 'ki',\n",
       " 'te',\n",
       " 'Pak',\n",
       " '##eh',\n",
       " '##a',\n",
       " 'e',\n",
       " 'noho',\n",
       " 'tur',\n",
       " '##e',\n",
       " 'kor',\n",
       " '##e',\n",
       " 'ana',\n",
       " '.']"
      ]
     },
     "execution_count": 5,
     "metadata": {},
     "output_type": "execute_result"
    }
   ],
   "source": [
    "tokzr.tokenize('Na ko te Kuini e hiahia ana kia wakaritea te Kawanatanga kia kaua ai nga kino e puta mai ki te tangata maori ki te Pakeha e noho ture kore ana.')"
   ]
  },
  {
   "cell_type": "markdown",
   "metadata": {},
   "source": [
    "Interestingly, in English, the only word tokenised 'incorrectly', other than compound words is the word Maori.  \n",
    "The Maori sentence has a lot more original word segmentation in the tokenisation.\n",
    "\n",
    "This particular Maori sentence is also more likely than most to be understood, since it's from one of the most well known Maori language documents."
   ]
  },
  {
   "cell_type": "markdown",
   "metadata": {},
   "source": [
    "b) Test whether the `bert-base-cased` model can solve the analogy task that we discussed in the word2vec lecture ([slides](https://github.itu.dk/robv/intro-nlp2023/blob/main/slides/07-vector_semantics.pdf), [assignment](https://github.itu.dk/robv/intro-nlp2023/blob/main/assignments/week4/week4.ipynb)), we can do this by masking the target word we are looking for, and let the model predict which words fit best. We can then use a prompt to discover what the language model would guess. For example, we can use the prompt \"man is to king as woman is to [MASK]\". Try at least two syntactic analogies, and two semantic analogies.\n",
    "You can use the following code:\n",
    "\n",
    "(Note that you need 4gb of RAM for this assignment, otherwise you can use the HPC.)"
   ]
  },
  {
   "cell_type": "code",
   "execution_count": 6,
   "metadata": {},
   "outputs": [
    {
     "name": "stderr",
     "output_type": "stream",
     "text": [
      "Some weights of the model checkpoint at bert-base-cased were not used when initializing BertForMaskedLM: ['bert.pooler.dense.bias', 'bert.pooler.dense.weight', 'cls.seq_relationship.bias', 'cls.seq_relationship.weight']\n",
      "- This IS expected if you are initializing BertForMaskedLM from the checkpoint of a model trained on another task or with another architecture (e.g. initializing a BertForSequenceClassification model from a BertForPreTraining model).\n",
      "- This IS NOT expected if you are initializing BertForMaskedLM from the checkpoint of a model that you expect to be exactly identical (initializing a BertForSequenceClassification model from a BertForSequenceClassification model).\n"
     ]
    },
    {
     "data": {
      "text/plain": [
       "['positive', 'simple', 'negative', 'diagnostic', 'successful']"
      ]
     },
     "execution_count": 6,
     "metadata": {},
     "output_type": "execute_result"
    }
   ],
   "source": [
    "from transformers import AutoModelForMaskedLM,AutoTokenizer\n",
    "import torch\n",
    "\n",
    "def getTopN(inputSent, model, tokzr, topn=1):\n",
    "    maskId = tokzr.convert_tokens_to_ids(tokzr.mask_token)\n",
    "    tokenIds = tokzr(inputSent).input_ids\n",
    "    if maskId not in tokenIds:\n",
    "        return 'please include ' + tokzr.mask_token + ' in your input'\n",
    "    maskIndex = tokenIds.index(maskId)\n",
    "    logits = model(torch.tensor([tokenIds])).logits\n",
    "    return tokzr.convert_ids_to_tokens(torch.topk(logits, topn, dim=2).indices[0][maskIndex])\n",
    "\n",
    "model = AutoModelForMaskedLM.from_pretrained('bert-base-cased')\n",
    "tokzr = AutoTokenizer.from_pretrained('bert-base-cased')\n",
    "\n",
    "getTopN('This is a [MASK] test.', model, tokzr, 5)\n"
   ]
  },
  {
   "cell_type": "code",
   "execution_count": 7,
   "metadata": {},
   "outputs": [
    {
     "data": {
      "text/plain": [
       "['man', 'cook', 'nurse', 'judge', 'doctor']"
      ]
     },
     "execution_count": 7,
     "metadata": {},
     "output_type": "execute_result"
    }
   ],
   "source": [
    "getTopN('man is to doctor as woman is to [MASK].', model, tokzr, 5)"
   ]
  },
  {
   "cell_type": "code",
   "execution_count": 8,
   "metadata": {},
   "outputs": [
    {
     "data": {
      "text/plain": [
       "['king', 'queen', 'man', 'slave', 'rule']"
      ]
     },
     "execution_count": 8,
     "metadata": {},
     "output_type": "execute_result"
    }
   ],
   "source": [
    "getTopN('man is to king as woman is to [MASK].', model, tokzr, 5)"
   ]
  },
  {
   "cell_type": "code",
   "execution_count": 9,
   "metadata": {},
   "outputs": [
    {
     "name": "stdout",
     "output_type": "stream",
     "text": [
      "['answer', 'key', 'truth', 'body', 'girl']\n",
      "['example', 'list', 'article', 'information', 'link']\n",
      "['die', 'return', 'live', 'be', 'recover']\n",
      "['die', 'return', 'be', 'live', 'recover']\n",
      "['manager', 'CEO', 'supervisor', 'Sergeant', 'secretary']\n",
      "['secretary', 'housekeeper', 'nurse', 'manager', 'waitress']\n",
      "['died', 'did', 'knew', 'laughed', 'knows']\n",
      "['died', 'dies', 'agrees', 'agreed', 'won']\n"
     ]
    }
   ],
   "source": [
    "\n",
    "#syntactic\n",
    "print(getTopN('The [MASK] is here.', model, tokzr, 5))\n",
    "print(getTopN('Here is the [MASK].', model, tokzr, 5))\n",
    "\n",
    "\n",
    "print(getTopN('In the future, he will [MASK].', model, tokzr, 5))\n",
    "print(getTopN('In the future he will [MASK].', model, tokzr, 5))\n",
    "\n",
    "\n",
    "#semantic\n",
    "print(getTopN('The tall man has the job title of [MASK].', model, tokzr, 5))\n",
    "print(getTopN('The tall woman has the job title of [MASK].', model, tokzr, 5))\n",
    "\n",
    "print(getTopN('Every Maori person [MASK].', model, tokzr, 5))\n",
    "print(getTopN('Every Pakeha person [MASK].', model, tokzr, 5))"
   ]
  },
  {
   "cell_type": "markdown",
   "metadata": {},
   "source": [
    "c) Test how robust the language model is, does it have an effect on the results of the word predictions if you include punctuations at the end of the sentence?, what about starting with a capital? and do typos have a large impact?"
   ]
  },
  {
   "cell_type": "code",
   "execution_count": null,
   "metadata": {},
   "outputs": [],
   "source": []
  },
  {
   "cell_type": "markdown",
   "metadata": {},
   "source": [
    "d) Think of some prompts that test whether the model has any gender biases, you can test this for example by using common gendered names or pronouns, swapping them and then check whether the predicted word changed."
   ]
  },
  {
   "cell_type": "code",
   "execution_count": null,
   "metadata": {},
   "outputs": [],
   "source": []
  },
  {
   "cell_type": "markdown",
   "metadata": {},
   "source": [
    "# 4. Finetune a BERT model\n",
    "\n",
    "We have provided code for training a BERT based classifier, which can be found in `week5/bert/bert-topic.py`. The implementation uses huggingface's transformers library (https://github.com/huggingface/transformers), and simply adds a linear layer to convert the output of the CLS token from the last layer of the masked language model to a label. \n",
    "\n",
    "You can install the transformers library with the command:\n",
    "`pip3 install transformers`\n",
    "\n",
    "a) Inspect the code; what should the shape of the output_scores be at the end of the forward pass?, What does this output represent?\n",
    "\n",
    "b) Train the model on the HPC without a GPU, how long does it take? You can use the `scavenge` queue, and note that if you do not specify a GPU it will not use one. You can use a job script like:\n",
    "\n",
    "```\n",
    "#!/bin/bash\n",
    "\n",
    "#SBATCH --job-name=bert-small\n",
    "#SBATCH --output=bert-small.out\n",
    "#SBATCH --cpus-per-task=2\n",
    "#SBATCH --time=10:00:00\n",
    "#SBATCH --mem=12G\n",
    "#SBATCH --mail-type=BEGIN,END,FAIL\n",
    "#SBATCH --partition=scavenge\n",
    "\n",
    "python3 # TODO\n",
    "```\n",
    "More information about the ITU HPC can be found on: https://hpc.itu.dk/ (only available on ITU network/VPN).\n",
    "\n",
    "c) Now change the number of maximum training sentences (MAX_TRAIN_SENTS) to 500 and the batch size (BATCH_SIZE) to 32. It will now take very long to train without a GPU. Train the model on the HPC, make sure you reserve a GPU to speed up the training, this can be done with `#SBATCH --gres=gpu`. Note that the code detects automatically whether a GPU is available."
   ]
  },
  {
   "cell_type": "markdown",
   "metadata": {},
   "source": []
  }
 ],
 "metadata": {
  "kernelspec": {
   "display_name": "base",
   "language": "python",
   "name": "python3"
  },
  "language_info": {
   "codemirror_mode": {
    "name": "ipython",
    "version": 3
   },
   "file_extension": ".py",
   "mimetype": "text/x-python",
   "name": "python",
   "nbconvert_exporter": "python",
   "pygments_lexer": "ipython3",
   "version": "3.12.2"
  }
 },
 "nbformat": 4,
 "nbformat_minor": 4
}
